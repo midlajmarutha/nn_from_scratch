{
 "cells": [
  {
   "cell_type": "markdown",
   "id": "4b74f1e0-4576-4249-b7d7-dc4699a06915",
   "metadata": {},
   "source": [
    "## Building Neural networks from scratch\n"
   ]
  },
  {
   "cell_type": "markdown",
   "id": "33aec01d-517a-4fe7-a6ba-496e77a369dd",
   "metadata": {},
   "source": [
    "### importing dependencies"
   ]
  },
  {
   "cell_type": "code",
   "execution_count": 13,
   "id": "2f222ce6-1e2c-49b6-b488-66e2f956af29",
   "metadata": {},
   "outputs": [],
   "source": [
    "import numpy as np\n",
    "import matplotlib.pyplot as plt\n",
    "from utils import dictionary_to_vector, vector_to_dictionary"
   ]
  },
  {
   "cell_type": "markdown",
   "id": "e0cec268-0a4b-452f-bafc-e76d12f2ff05",
   "metadata": {},
   "source": [
    "### building a toy dataset"
   ]
  },
  {
   "cell_type": "code",
   "execution_count": 2,
   "id": "827ce796-9410-4ef9-aecc-0806c6bd96fc",
   "metadata": {},
   "outputs": [
    {
     "data": {
      "text/plain": [
       "(array([[-0.15445452,  0.83154318,  2.0728488 , -0.37102762, -1.23700267,\n",
       "          0.15084809,  1.07437049,  0.389892  ,  0.24587981,  0.01923836,\n",
       "         -0.36302213,  1.43183396, -0.97658554,  0.24353903,  1.93555428,\n",
       "          0.44132968, -0.02499639, -0.01399742,  0.27899477,  0.01514156,\n",
       "         -0.57083296,  0.29148321,  1.71661739, -0.08947676, -0.35480035,\n",
       "         -0.48826163,  0.41735051,  0.18081891, -0.48615749, -0.21131276,\n",
       "          0.16429018,  0.65112944,  0.0497898 , -1.17768797,  1.50140678,\n",
       "         -0.23276968,  0.18226407,  0.59071988, -0.97367054, -0.21204215,\n",
       "          2.03020037,  0.75542303,  1.83982724, -0.26781813, -1.44110227,\n",
       "         -0.98866341, -0.73952247,  2.42571549, -0.27243226, -1.07318933],\n",
       "        [-0.17710679, -1.17093728,  0.48564779, -0.57838979,  0.40814509,\n",
       "          0.53552024, -0.25831961, -1.08294258,  0.69435179,  0.24223764,\n",
       "         -0.2649135 , -0.04914271, -0.96698384, -1.34092156, -0.92284302,\n",
       "         -0.04475115,  1.19101619, -0.97637193, -0.22015296, -2.14968181,\n",
       "          1.13812212, -1.15981605,  0.02747741, -1.25626119, -0.42420516,\n",
       "          0.50108363,  0.2743993 , -0.5240666 ,  0.18505106,  1.22250734,\n",
       "          0.72692715, -0.83777336,  0.75405326,  0.09530269,  0.41295777,\n",
       "          0.31100978, -0.54551804, -1.15635451,  0.5090814 ,  0.0717097 ,\n",
       "         -0.55704159,  0.8528879 ,  1.26462724, -0.50563135, -1.89332668,\n",
       "         -0.91013989,  0.57902018, -1.49552521, -0.77121192,  1.53219747]]),\n",
       " array([ 8.78829911e-01,  3.79765901e+00,  2.20110293e+01, -2.86016987e+00,\n",
       "        -4.85529591e+00,  6.88438589e+00,  1.03033658e+01,  7.04423066e-01,\n",
       "         8.43879744e+00,  4.36509512e+00, -1.22874453e+00,  1.42089581e+01,\n",
       "        -9.64760348e+00, -1.75629554e+00,  1.38702192e+01,  6.30688170e+00,\n",
       "         8.75510979e+00, -1.99383903e+00,  4.13119338e+00, -7.62727657e+00,\n",
       "         4.12394692e+00, -4.67214614e-01,  1.68703261e+01, -3.99712004e+00,\n",
       "        -1.95942862e+00,  1.59932509e+00,  7.71080063e+00,  1.82621828e+00,\n",
       "         3.59953697e-02,  7.42203464e+00,  7.94895718e+00,  4.02016868e+00,\n",
       "         7.16858467e+00, -5.94499033e+00,  1.70760431e+01,  2.69289147e+00,\n",
       "         1.73052238e+00,  1.94398647e+00, -2.24395733e+00,  1.66221129e+00,\n",
       "         1.64563950e+01,  1.33078237e+01,  2.40417541e+01, -1.67070180e+00,\n",
       "        -1.79954515e+01, -9.46000671e+00, -2.10788311e-02,  1.49280979e+01,\n",
       "        -3.03551769e+00,  2.07547270e+00]))"
      ]
     },
     "execution_count": 2,
     "metadata": {},
     "output_type": "execute_result"
    }
   ],
   "source": [
    "X = np.random.randn(2,50)\n",
    "y = X[0,:] * 8 + X[1,:] * 5 + 3\n",
    "X, y"
   ]
  },
  {
   "cell_type": "code",
   "execution_count": 3,
   "id": "1963db12-17c8-49b6-b9ce-a3c82b734b57",
   "metadata": {},
   "outputs": [
    {
     "data": {
      "text/plain": [
       "<matplotlib.collections.PathCollection at 0x7f4ae9a0ddb0>"
      ]
     },
     "execution_count": 3,
     "metadata": {},
     "output_type": "execute_result"
    },
    {
     "data": {
      "image/png": "[encoded data removed]",
      "text/plain": [
       "<Figure size 640x480 with 1 Axes>"
      ]
     },
     "metadata": {},
     "output_type": "display_data"
    }
   ],
   "source": [
    "plt.scatter(x=X[0,:],y=y)\n",
    "plt.scatter(x=X[1,:],y=y)"
   ]
  },
  {
   "cell_type": "markdown",
   "id": "bce520ab-a7aa-42e5-9bb3-b95c138140a8",
   "metadata": {},
   "source": [
    "### Building neural network with one hidden layer"
   ]
  },
  {
   "cell_type": "code",
   "execution_count": 4,
   "id": "217d1c94-3417-4d5c-8c70-768d08fd87f8",
   "metadata": {},
   "outputs": [],
   "source": [
    "def initialize_parameters(n_in, n_h, n_out):\n",
    "    \"\"\"\n",
    "    initializes model parameters.\n",
    "\n",
    "    Arguments:\n",
    "    n_in: number of input units\n",
    "    n_h: number of hidden units\n",
    "    n_out: number of output units\n",
    "\n",
    "    Return:\n",
    "    parameters: dictionary of all the randomly intialized parameters\n",
    "    \n",
    "    \"\"\"\n",
    "\n",
    "    np.random.seed(42)\n",
    "\n",
    "    W1 = np.random.rand(n_h, n_in)\n",
    "    b1 = np.random.rand(n_h, 1)\n",
    "    W2 = np.random.rand(n_out, n_h)\n",
    "    b2 = np.random.rand(n_out, 1)\n",
    "\n",
    "    parameters = {\"W1\":W1,\n",
    "                  \"b1\":b1,\n",
    "                  \"W2\":W2,\n",
    "                  \"b2\":b2}\n",
    "    \n",
    "    return parameters"
   ]
  },
  {
   "cell_type": "code",
   "execution_count": 5,
   "id": "cf38a017-e403-4c00-95af-c74721dc605e",
   "metadata": {},
   "outputs": [],
   "source": [
    "def forward_propagation(X, parameters):\n",
    "    \"\"\"\n",
    "    Arguments:\n",
    "    X: input data of shape (n_x, m)\n",
    "    parameters: randomly initialized model parameters\n",
    "\n",
    "    Return:\n",
    "    A2 = sigmoid output of second activation\n",
    "    cache = dictionary of Z1, A1, Z2 and A2\n",
    "    \"\"\"\n",
    "    W1 = parameters[\"W1\"]\n",
    "    b1 = parameters[\"b1\"]\n",
    "    W2 = parameters[\"W2\"]\n",
    "    b2 = parameters[\"b2\"]\n",
    "\n",
    "    # Forward pass\n",
    "    Z1 = W1 @ X\n",
    "    A1 = np.tanh(Z1)\n",
    "    Z2 = W2 @ A1\n",
    "    A2 = Z2\n",
    "\n",
    "    cache = {\"Z1\":Z1,\n",
    "             \"A1\":A1,\n",
    "             \"Z2\":Z2,\n",
    "             \"A2\":A2}\n",
    "\n",
    "    return A2, cache"
   ]
  },
  {
   "cell_type": "code",
   "execution_count": 6,
   "id": "d368e722-fd01-45f8-95f6-d61764878377",
   "metadata": {},
   "outputs": [],
   "source": [
    "def compute_loss(A2, Y):\n",
    "    \"\"\"\n",
    "    compute Mean Squared Error loss of the model\n",
    "    Arguments:\n",
    "    A2: Prediction of the model\n",
    "    Y: \"true\" label vactor of shape (1, number of samples)\n",
    "\n",
    "    Return:\n",
    "    loss: computed scalar loss of the model\n",
    "    \"\"\"\n",
    "\n",
    "    m = len(Y)\n",
    "    loss = 1/m * np.sum((A2 - Y) ** 2)\n",
    "    return loss"
   ]
  },
  {
   "cell_type": "code",
   "execution_count": 7,
   "id": "528185aa-0cbb-4cba-8a2b-23104670a520",
   "metadata": {},
   "outputs": [],
   "source": [
    "def backward_propagation(parameters, cache, X, Y):\n",
    "    \"\"\" computes gradient of the model parameters\n",
    "    \n",
    "    Arguments:\n",
    "    parameters: dictionary of the parameters of the model\n",
    "    cache: a dictionary containing Z1, A1, Z2 and A2\n",
    "    X: input data of shape (2, number of example)\n",
    "    Y: \"true\" label vector of shape (1, number of example)\n",
    "    \n",
    "    Return:\n",
    "    grad: dictionary of the gradients of each model parameters\n",
    "    \"\"\"\n",
    "\n",
    "    m = len(Y)\n",
    "    \n",
    "    W1 = parameters[\"W1\"]\n",
    "    b1 = parameters[\"b1\"]\n",
    "    W2 = parameters[\"W2\"]\n",
    "    b2 = parameters[\"b2\"]\n",
    "\n",
    "    Z1 = cache[\"Z1\"]\n",
    "    A1 = cache[\"A1\"]\n",
    "    Z2 = cache[\"Z2\"]\n",
    "    A2 = cache[\"A2\"]\n",
    "\n",
    "    # Backpropagation\n",
    "    dA2 = (2/m) * (A2 - Y) # (1, m)\n",
    "    dZ2 = dA2 # (1,m)\n",
    "    dW2 = dZ2 @ A1.T #(1, n_h)\n",
    "    db2 = np.sum(dZ2, axis=1, keepdims=True) # (1,1)\n",
    "    dA1 = W2.T @ dZ2 # (n_h, m)\n",
    "    dZ1 = dA1 * (1 - np.power(A1,2)) # (n_h, m)\n",
    "    dW1 = dZ1 @ X.T # (n_h, n_in)\n",
    "    db1 = np.sum(dZ1, axis=1, keepdims=True) # (1, n_h)\n",
    "\n",
    "    grads = {\"dW1\":dW1,\n",
    "            \"db1\":db1,\n",
    "            \"dW2\":dW2,\n",
    "            \"db2\":db2}\n",
    "\n",
    "    return grads"
   ]
  },
  {
   "cell_type": "code",
   "execution_count": null,
   "id": "cf4d37a5-fd85-44d5-a3e4-ed38139247b2",
   "metadata": {},
   "outputs": [],
   "source": []
  },
  {
   "cell_type": "code",
   "execution_count": 8,
   "id": "443e2534-189d-4105-a98b-eb216b6be6ff",
   "metadata": {},
   "outputs": [
    {
     "data": {
      "text/plain": [
       "{'W1': array([[0.37454012, 0.95071431],\n",
       "        [0.73199394, 0.59865848],\n",
       "        [0.15601864, 0.15599452],\n",
       "        [0.05808361, 0.86617615]]),\n",
       " 'b1': array([[0.60111501],\n",
       "        [0.70807258],\n",
       "        [0.02058449],\n",
       "        [0.96990985]]),\n",
       " 'W2': array([[0.83244264, 0.21233911, 0.18182497, 0.18340451]]),\n",
       " 'b2': array([[0.30424224]])}"
      ]
     },
     "execution_count": 8,
     "metadata": {},
     "output_type": "execute_result"
    }
   ],
   "source": [
    "parameters = initialize_parameters(2, 4, 1)\n",
    "parameters"
   ]
  },
  {
   "cell_type": "code",
   "execution_count": 9,
   "id": "50f8130c-e318-40df-9333-36ea465fc624",
   "metadata": {},
   "outputs": [
    {
     "data": {
      "text/plain": [
       "array([[-0.26988161, -0.71974637,  1.06407202, -0.72858338, -0.15856461,\n",
       "         0.61272156,  0.24191956, -0.8156822 ,  0.77021717,  0.27310983,\n",
       "        -0.45539756,  0.58724467, -1.08109658, -0.98808176, -0.05840162,\n",
       "         0.17163018,  0.9753883 , -0.87705297, -0.10158695, -1.21943056,\n",
       "         0.78974115, -0.88981288,  0.73874493, -1.02793659, -0.59815746,\n",
       "         0.29630329,  0.48797083, -0.46197178, -0.04060418,  0.94338853,\n",
       "         0.76579531, -0.53827709,  0.74583535, -0.44978826,  0.9324431 ,\n",
       "         0.22259495, -0.4814297 , -0.79433164,  0.07079622, -0.02795639,\n",
       "         0.33963619,  0.99629098,  1.23629429, -0.63336238, -1.28317027,\n",
       "        -1.06262869,  0.25544886, -0.36734168, -0.83004361,  0.8494613 ]])"
      ]
     },
     "execution_count": 9,
     "metadata": {},
     "output_type": "execute_result"
    }
   ],
   "source": [
    "A2, cache = forward_propagation(X, parameters)\n",
    "A2"
   ]
  },
  {
   "cell_type": "code",
   "execution_count": 10,
   "id": "e7330067-cbe4-4369-adf3-afce98bf7fcc",
   "metadata": {},
   "outputs": [
    {
     "data": {
      "text/plain": [
       "73.10354370802223"
      ]
     },
     "execution_count": 10,
     "metadata": {},
     "output_type": "execute_result"
    }
   ],
   "source": [
    "loss = compute_loss(A2, y)\n",
    "loss"
   ]
  },
  {
   "cell_type": "code",
   "execution_count": 11,
   "id": "32fd61a5-357e-45dd-b0e7-f498ade73c7e",
   "metadata": {
    "scrolled": true
   },
   "outputs": [
    {
     "data": {
      "text/plain": [
       "{'dW1': array([[-6.44123072,  0.3084009 ],\n",
       "        [-0.95336668, -0.14148202],\n",
       "        [-2.29437842, -0.62519302],\n",
       "        [-1.65365872, -0.23898093]]),\n",
       " 'db1': array([[-4.34631075],\n",
       "        [-0.8841663 ],\n",
       "        [-1.29004062],\n",
       "        [-1.06099816]]),\n",
       " 'dW2': array([[-5.82259712, -8.19195815, -2.70425091, -3.11902552]]),\n",
       " 'db2': array([[-7.40504325]])}"
      ]
     },
     "execution_count": 11,
     "metadata": {},
     "output_type": "execute_result"
    }
   ],
   "source": [
    "grads = backward_propagation(parameters=parameters, cache=cache, X=X, Y=y)\n",
    "grads"
   ]
  },
  {
   "cell_type": "code",
   "execution_count": 14,
   "id": "8e073f14-8645-43ec-9873-f64edb46adb8",
   "metadata": {},
   "outputs": [
    {
     "name": "stdout",
     "output_type": "stream",
     "text": [
      "[0.3745401188473625, 0.9507143064099162, 0.7319939418114051, 0.5986584841970366, 0.15601864044243652, 0.15599452033620265, 0.05808361216819946, 0.8661761457749352, 0.6011150117432088, 0.7080725777960455, 0.020584494295802447, 0.9699098521619943, 0.8324426408004217, 0.21233911067827616, 0.18182496720710062, 0.18340450985343382, 0.3042422429595377]\n"
     ]
    },
    {
     "ename": "AttributeError",
     "evalue": "'list' object has no attribute 'reshape'",
     "output_type": "error",
     "traceback": [
      "\u001b[0;31m---------------------------------------------------------------------------\u001b[0m",
      "\u001b[0;31mAttributeError\u001b[0m                            Traceback (most recent call last)",
      "Cell \u001b[0;32mIn[14], line 16\u001b[0m\n\u001b[1;32m     13\u001b[0m     param_dictionary \u001b[38;5;241m=\u001b[39m vector_to_dictionary(vector\u001b[38;5;241m=\u001b[39mparam_vector, parameters\u001b[38;5;241m=\u001b[39mparameters)\n\u001b[1;32m     14\u001b[0m     \u001b[38;5;28mprint\u001b[39m(param_dictionary)\n\u001b[0;32m---> 16\u001b[0m \u001b[43mcheck_grads\u001b[49m\u001b[43m(\u001b[49m\u001b[43mparameters\u001b[49m\u001b[43m \u001b[49m\u001b[38;5;241;43m=\u001b[39;49m\u001b[43m \u001b[49m\u001b[43mparameters\u001b[49m\u001b[43m,\u001b[49m\u001b[43m \u001b[49m\u001b[43mgrads\u001b[49m\u001b[38;5;241;43m=\u001b[39;49m\u001b[43mgrads\u001b[49m\u001b[43m)\u001b[49m\n",
      "Cell \u001b[0;32mIn[14], line 13\u001b[0m, in \u001b[0;36mcheck_grads\u001b[0;34m(parameters, grads)\u001b[0m\n\u001b[1;32m     11\u001b[0m \u001b[38;5;28mprint\u001b[39m(param_vector)\n\u001b[1;32m     12\u001b[0m \u001b[38;5;66;03m# convert vector to dictionary\u001b[39;00m\n\u001b[0;32m---> 13\u001b[0m param_dictionary \u001b[38;5;241m=\u001b[39m \u001b[43mvector_to_dictionary\u001b[49m\u001b[43m(\u001b[49m\u001b[43mvector\u001b[49m\u001b[38;5;241;43m=\u001b[39;49m\u001b[43mparam_vector\u001b[49m\u001b[43m,\u001b[49m\u001b[43m \u001b[49m\u001b[43mparameters\u001b[49m\u001b[38;5;241;43m=\u001b[39;49m\u001b[43mparameters\u001b[49m\u001b[43m)\u001b[49m\n\u001b[1;32m     14\u001b[0m \u001b[38;5;28mprint\u001b[39m(param_dictionary)\n",
      "File \u001b[0;32m~/Personal/Projects/Python/ML/NN-from-scratch/utils.py:33\u001b[0m, in \u001b[0;36mvector_to_dictionary\u001b[0;34m(vector, parameters)\u001b[0m\n\u001b[1;32m     31\u001b[0m params \u001b[38;5;241m=\u001b[39m {}\n\u001b[1;32m     32\u001b[0m \u001b[38;5;28;01mfor\u001b[39;00m i \u001b[38;5;129;01min\u001b[39;00m parameters:\n\u001b[0;32m---> 33\u001b[0m     params[i] \u001b[38;5;241m=\u001b[39m \u001b[43mvector\u001b[49m\u001b[43m[\u001b[49m\u001b[43m:\u001b[49m\u001b[43mparameters\u001b[49m\u001b[43m[\u001b[49m\u001b[43mi\u001b[49m\u001b[43m]\u001b[49m\u001b[38;5;241;43m.\u001b[39;49m\u001b[43mshape\u001b[49m\u001b[43m[\u001b[49m\u001b[38;5;241;43m0\u001b[39;49m\u001b[43m]\u001b[49m\u001b[38;5;241;43m*\u001b[39;49m\u001b[43mparameters\u001b[49m\u001b[43m[\u001b[49m\u001b[43mi\u001b[49m\u001b[43m]\u001b[49m\u001b[38;5;241;43m.\u001b[39;49m\u001b[43mshape\u001b[49m\u001b[43m[\u001b[49m\u001b[38;5;241;43m1\u001b[39;49m\u001b[43m]\u001b[49m\u001b[43m]\u001b[49m\u001b[38;5;241;43m.\u001b[39;49m\u001b[43mreshape\u001b[49m(parameters[i]\u001b[38;5;241m.\u001b[39mshape)\n\u001b[1;32m     34\u001b[0m \u001b[38;5;28;01mreturn\u001b[39;00m params\n",
      "\u001b[0;31mAttributeError\u001b[0m: 'list' object has no attribute 'reshape'"
     ]
    }
   ],
   "source": [
    "\n",
    "def check_grads(parameters=parameters, grads=grads):\n",
    "    \"\"\"\n",
    "    check the calculated gradients are correct\n",
    "    \"\"\"\n",
    "    eps = 0.00000001\n",
    "    params_theta = {}\n",
    "\n",
    "    \n",
    "    # convert parameter dictionary to a single vector\n",
    "    param_vector = dictionary_to_vector(parameters=parameters)\n",
    "    print(param_vector)\n",
    "    # convert vector to dictionary\n",
    "    param_dictionary = vector_to_dictionary(vector=param_vector, parameters=parameters)\n",
    "    print(param_dictionary)\n",
    "\n",
    "check_grads(parameters = parameters, grads=grads)"
   ]
  },
  {
   "cell_type": "code",
   "execution_count": null,
   "id": "8b7f9a1f-44d0-41c8-ac2d-dee13ef9a934",
   "metadata": {},
   "outputs": [],
   "source": [
    "## manual gradient check\n",
    "## lets check the gradient calculation of W1[0][0]\n",
    "## making a copy of parameters\n",
    "import copy\n",
    "\n",
    "check_params = copy.deepcopy(parameters)\n",
    "\n",
    "## nudging the W[0][0] parameter by 0.00000001\n",
    "check_params[\"W1\"][0][0] = check_params[\"W1\"][0][0] + 0.00000001\n",
    "\n",
    "## forward pass and loss\n",
    "check_A2, check_cache = forward_propagation(parameters=check_params, X=X)\n",
    "check_loss = compute_loss(A2=check_A2, Y=y)\n",
    "\n",
    "# manually computing gradient of parameter W[0][0]\n",
    "gradient = (check_loss - loss)/ 0.00000001\n",
    "\n",
    "print(f\"Numerically approximated gradient of the parameter W[0][0] is:{gradient}\")\n",
    "print(f\"Gradient of W[0][0] calculated by backprop: {grads['dW1'][0][0]}\")\n",
    "print(gradient - grads['dW1'][0][0])"
   ]
  },
  {
   "cell_type": "code",
   "execution_count": null,
   "id": "404be72f-f6ea-4741-9784-8137d4ef9689",
   "metadata": {},
   "outputs": [],
   "source": [
    "parameters"
   ]
  },
  {
   "cell_type": "code",
   "execution_count": null,
   "id": "0b163317-bbbd-4648-9c50-3dbdb3077c62",
   "metadata": {},
   "outputs": [],
   "source": [
    "loss, check_loss"
   ]
  },
  {
   "cell_type": "code",
   "execution_count": null,
   "id": "5e33d635-8e9a-4e03-8702-48c879ef4dcb",
   "metadata": {},
   "outputs": [],
   "source": []
  }
 ],
 "metadata": {
  "kernelspec": {
   "display_name": "Python 3 (ipykernel)",
   "language": "python",
   "name": "python3"
  },
  "language_info": {
   "codemirror_mode": {
    "name": "ipython",
    "version": 3
   },
   "file_extension": ".py",
   "mimetype": "text/x-python",
   "name": "python",
   "nbconvert_exporter": "python",
   "pygments_lexer": "ipython3",
   "version": "3.10.12"
  }
 },
 "nbformat": 4,
 "nbformat_minor": 5
}
