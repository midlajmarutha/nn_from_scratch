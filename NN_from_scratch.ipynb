{
 "cells": [
  {
   "cell_type": "markdown",
   "id": "4b74f1e0-4576-4249-b7d7-dc4699a06915",
   "metadata": {},
   "source": [
    "## Building Neural networks from scratch\n"
   ]
  },
  {
   "cell_type": "markdown",
   "id": "33aec01d-517a-4fe7-a6ba-496e77a369dd",
   "metadata": {},
   "source": [
    "### importing dependencies"
   ]
  },
  {
   "cell_type": "code",
   "execution_count": 1,
   "id": "2f222ce6-1e2c-49b6-b488-66e2f956af29",
   "metadata": {},
   "outputs": [],
   "source": [
    "import numpy as np\n",
    "import matplotlib.pyplot as plt\n"
   ]
  },
  {
   "cell_type": "markdown",
   "id": "e0cec268-0a4b-452f-bafc-e76d12f2ff05",
   "metadata": {},
   "source": [
    "### building a toy dataset"
   ]
  },
  {
   "cell_type": "code",
   "execution_count": 2,
   "id": "827ce796-9410-4ef9-aecc-0806c6bd96fc",
   "metadata": {},
   "outputs": [
    {
     "data": {
      "text/plain": [
       "(array([[ 1.00529577,  0.97490389,  0.32647629,  1.20799539, -0.66322405,\n",
       "          1.81513447, -0.39875586, -1.60481749, -0.65523289,  0.08697505,\n",
       "          0.11293369, -0.14735801,  0.42638495, -0.2110756 ,  0.27260616,\n",
       "          1.13493061, -1.20576435,  0.79892326,  0.25291161, -1.49982849,\n",
       "          0.08346918, -0.59712966, -0.73178598, -0.71117082, -0.93065453,\n",
       "         -0.17252037, -0.76482273,  0.56404153,  1.15738402, -0.7822368 ,\n",
       "          1.24981149, -0.36251478, -0.63968045, -0.10933242, -1.21845561,\n",
       "         -1.20058446, -0.51802284, -1.18173843, -0.74347831,  0.76566352,\n",
       "          0.11932717, -0.94236145, -1.40489232, -0.50814667, -0.06242328,\n",
       "          0.68100472, -1.53236602,  2.58062987,  0.90884484, -1.0807957 ],\n",
       "        [-1.66109053, -0.55552358, -0.12382074, -0.85027857, -0.70275004,\n",
       "         -1.19278926,  1.3121696 ,  1.97379468,  0.72149528, -0.84176097,\n",
       "          0.97617007, -1.37636089,  0.64680314,  0.15847909,  1.63531643,\n",
       "          0.36582782, -0.49352295, -0.2957209 ,  0.30488952, -0.79443519,\n",
       "          0.52060798,  1.17443986,  0.87280041,  0.22759809, -0.25653465,\n",
       "         -0.08261087, -0.71322368, -0.31375117,  0.61423511, -0.57717997,\n",
       "          1.72229859,  0.45491453, -0.9989218 , -1.13484226, -0.1217351 ,\n",
       "         -1.3166891 , -0.07074666, -0.07179593, -1.53211496, -1.86286469,\n",
       "          0.46822036,  0.16356307,  1.34968835, -0.71800871, -0.43058223,\n",
       "         -0.26960264, -0.19080284, -1.05757549,  1.43966833,  0.38927222]]),\n",
       " array([  2.73691353,   8.02161323,   4.99270661,   8.4125703 ,\n",
       "         -5.81954264,  11.55712947,   6.37080117,   0.03043342,\n",
       "          1.36561328,  -0.51300445,   8.78431983,  -5.06066852,\n",
       "          9.6450953 ,   2.10379062,  13.35743141,  13.90858397,\n",
       "         -9.11372951,   7.91278162,   6.5477405 , -12.97080387,\n",
       "          6.27079334,   4.09516203,   1.50971421,  -1.55137608,\n",
       "         -5.72790955,   1.20678273,  -6.68470028,   5.94357638,\n",
       "         15.33024775,  -6.14379427,  21.60998485,   2.37445442,\n",
       "         -7.11205262,  -3.54887068,  -7.35632036, -13.18812122,\n",
       "         -1.49791605,  -6.81288708, -10.60840134,  -0.18901531,\n",
       "          6.29571915,  -3.72107624,  -1.49069684,  -4.65521687,\n",
       "          0.34770264,   7.10002456, -10.21294237,  18.35716152,\n",
       "         17.46910037,  -3.70000449]))"
      ]
     },
     "execution_count": 2,
     "metadata": {},
     "output_type": "execute_result"
    }
   ],
   "source": [
    "X = np.random.randn(2,50)\n",
    "y = X[0,:] * 8 + X[1,:] * 5 + 3\n",
    "X, y"
   ]
  },
  {
   "cell_type": "code",
   "execution_count": 3,
   "id": "1963db12-17c8-49b6-b9ce-a3c82b734b57",
   "metadata": {},
   "outputs": [
    {
     "data": {
      "text/plain": [
       "<matplotlib.collections.PathCollection at 0x7f24a44aabc0>"
      ]
     },
     "execution_count": 3,
     "metadata": {},
     "output_type": "execute_result"
    },
    {
     "data": {
      "image/png": "[encoded data removed]",
      "text/plain": [
       "<Figure size 640x480 with 1 Axes>"
      ]
     },
     "metadata": {},
     "output_type": "display_data"
    }
   ],
   "source": [
    "plt.scatter(x=X[0,:],y=y)\n",
    "plt.scatter(x=X[1,:],y=y)"
   ]
  },
  {
   "cell_type": "markdown",
   "id": "bce520ab-a7aa-42e5-9bb3-b95c138140a8",
   "metadata": {},
   "source": [
    "### Building neural network with one hidden layer"
   ]
  },
  {
   "cell_type": "code",
   "execution_count": 4,
   "id": "217d1c94-3417-4d5c-8c70-768d08fd87f8",
   "metadata": {},
   "outputs": [],
   "source": [
    "def initialize_parameters(n_in, n_h, n_out):\n",
    "    \"\"\"\n",
    "    initializes model parameters.\n",
    "\n",
    "    Arguments:\n",
    "    n_in: number of input units\n",
    "    n_h: number of hidden units\n",
    "    n_out: number of output units\n",
    "\n",
    "    Return:\n",
    "    parameters: dictionary of all the randomly intialized parameters\n",
    "    \n",
    "    \"\"\"\n",
    "\n",
    "    np.random.seed(42)\n",
    "\n",
    "    W1 = np.random.rand(n_h, n_in)\n",
    "    b1 = np.random.rand(n_h, 1)\n",
    "    W2 = np.random.rand(n_out, n_h)\n",
    "    b2 = np.random.rand(n_out, 1)\n",
    "\n",
    "    parameters = {\"W1\":W1,\n",
    "                  \"b1\":b1,\n",
    "                  \"W2\":W2,\n",
    "                  \"b2\":b2}\n",
    "    \n",
    "    return parameters"
   ]
  },
  {
   "cell_type": "code",
   "execution_count": 5,
   "id": "cf38a017-e403-4c00-95af-c74721dc605e",
   "metadata": {},
   "outputs": [],
   "source": [
    "def forward_propagation(X, parameters):\n",
    "    \"\"\"\n",
    "    Arguments:\n",
    "    X: input data of shape (n_x, m)\n",
    "    parameters: randomly initialized model parameters\n",
    "\n",
    "    Return:\n",
    "    A2 = sigmoid output of second activation\n",
    "    cache = dictionary of Z1, A1, Z2 and A2\n",
    "    \"\"\"\n",
    "    W1 = parameters[\"W1\"]\n",
    "    b1 = parameters[\"b1\"]\n",
    "    W2 = parameters[\"W2\"]\n",
    "    b2 = parameters[\"b2\"]\n",
    "\n",
    "    # Forward pass\n",
    "    Z1 = W1 @ X\n",
    "    A1 = np.tanh(Z1)\n",
    "    Z2 = W2 @ A1\n",
    "    A2 = Z2\n",
    "\n",
    "    cache = {\"Z1\":Z1,\n",
    "             \"A1\":A1,\n",
    "             \"Z2\":Z2,\n",
    "             \"A2\":A2}\n",
    "\n",
    "    return A2, cache"
   ]
  },
  {
   "cell_type": "code",
   "execution_count": 6,
   "id": "d368e722-fd01-45f8-95f6-d61764878377",
   "metadata": {},
   "outputs": [],
   "source": [
    "def compute_loss(A2, Y):\n",
    "    \"\"\"\n",
    "    compute Mean Squared Error loss of the model\n",
    "    Arguments:\n",
    "    A2: Prediction of the model\n",
    "    Y: \"true\" label vactor of shape (1, number of samples)\n",
    "\n",
    "    Return:\n",
    "    loss: computed scalar loss of the model\n",
    "    \"\"\"\n",
    "\n",
    "    m = len(Y)\n",
    "    loss = 1/m * np.sum((A2 - Y) ** 2)\n",
    "    return loss"
   ]
  },
  {
   "cell_type": "code",
   "execution_count": 7,
   "id": "528185aa-0cbb-4cba-8a2b-23104670a520",
   "metadata": {},
   "outputs": [],
   "source": [
    "def backward_propagation(parameters, cache, X, Y):\n",
    "    \"\"\" computes gradient of the model parameters\n",
    "    \n",
    "    Arguments:\n",
    "    parameters: dictionary of the parameters of the model\n",
    "    cache: a dictionary containing Z1, A1, Z2 and A2\n",
    "    X: input data of shape (2, number of example)\n",
    "    Y: \"true\" label vector of shape (1, number of example)\n",
    "    \n",
    "    Return:\n",
    "    grad: dictionary of the gradients of each model parameters\n",
    "    \"\"\"\n",
    "\n",
    "    m = len(Y)\n",
    "    \n",
    "    W1 = parameters[\"W1\"]\n",
    "    b1 = parameters[\"b1\"]\n",
    "    W2 = parameters[\"W2\"]\n",
    "    b2 = parameters[\"b2\"]\n",
    "\n",
    "    Z1 = cache[\"Z1\"]\n",
    "    A1 = cache[\"A1\"]\n",
    "    Z2 = cache[\"Z2\"]\n",
    "    A2 = cache[\"A2\"]\n",
    "\n",
    "    # Backpropagation\n",
    "    dA2 = (2/m) * (A2 - Y) # (1, m)\n",
    "    dZ2 = dA2 # (1,m)\n",
    "    dW2 = dZ2 @ A1.T #(1, n_h)\n",
    "    db2 = np.sum(dZ2, axis=1, keepdims=True) # (1,1)\n",
    "    dA1 = W2.T @ dZ2 # (n_h, m)\n",
    "    dZ1 = dA1 * (1 - np.power(A1,2)) # (n_h, m)\n",
    "    dW1 = dZ1 @ X.T # (n_h, n_in)\n",
    "    db1 = np.sum(dZ1, axis=1, keepdims=True) # (1, n_h)\n",
    "\n",
    "    grads = {\"dW1\":dW1,\n",
    "            \"db1\":db1,\n",
    "            \"dW2\":dW2,\n",
    "            \"db2\":db2}\n",
    "\n",
    "    return grads"
   ]
  },
  {
   "cell_type": "code",
   "execution_count": null,
   "id": "cf4d37a5-fd85-44d5-a3e4-ed38139247b2",
   "metadata": {},
   "outputs": [],
   "source": []
  },
  {
   "cell_type": "code",
   "execution_count": 8,
   "id": "443e2534-189d-4105-a98b-eb216b6be6ff",
   "metadata": {},
   "outputs": [
    {
     "data": {
      "text/plain": [
       "{'W1': array([[0.37454012, 0.95071431],\n",
       "        [0.73199394, 0.59865848],\n",
       "        [0.15601864, 0.15599452],\n",
       "        [0.05808361, 0.86617615]]),\n",
       " 'b1': array([[0.60111501],\n",
       "        [0.70807258],\n",
       "        [0.02058449],\n",
       "        [0.96990985]]),\n",
       " 'W2': array([[0.83244264, 0.21233911, 0.18182497, 0.18340451]]),\n",
       " 'b2': array([[0.30424224]])}"
      ]
     },
     "execution_count": 8,
     "metadata": {},
     "output_type": "execute_result"
    }
   ],
   "source": [
    "parameters = initialize_parameters(2, 4, 1)\n",
    "parameters"
   ]
  },
  {
   "cell_type": "code",
   "execution_count": 9,
   "id": "50f8130c-e318-40df-9333-36ea465fc624",
   "metadata": {},
   "outputs": [
    {
     "data": {
      "text/plain": [
       "array([[-0.92848217, -0.11890948,  0.02808425, -0.30495094, -0.89830295,\n",
       "        -0.35402029,  0.93629905,  0.89336059,  0.43322706, -0.76020896,\n",
       "         0.90472995, -1.0809373 ,  0.79568848,  0.0681803 ,  1.1657933 ,\n",
       "         0.8146868 , -0.91165604,  0.07347056,  0.44560211, -1.09741066,\n",
       "         0.57264858,  0.80322161,  0.53380569, -0.10472588, -0.67032986,\n",
       "        -0.17745964, -0.9293144 , -0.06119127,  0.96538841, -0.85475274,\n",
       "         1.25872207,  0.3095003 , -1.03563403, -0.98197073, -0.65823917,\n",
       "        -1.1979584 , -0.33060845, -0.60365683, -1.19600532, -1.05709826,\n",
       "         0.54098519, -0.28114871,  0.63053491, -0.8656969 , -0.48177496,\n",
       "         0.04446333, -0.8040314 ,  0.07228076,  1.19465096, -0.10689221]])"
      ]
     },
     "execution_count": 9,
     "metadata": {},
     "output_type": "execute_result"
    }
   ],
   "source": [
    "A2, cache = forward_propagation(X, parameters)\n",
    "A2"
   ]
  },
  {
   "cell_type": "code",
   "execution_count": 10,
   "id": "e7330067-cbe4-4369-adf3-afce98bf7fcc",
   "metadata": {},
   "outputs": [
    {
     "data": {
      "text/plain": [
       "62.74328171552422"
      ]
     },
     "execution_count": 10,
     "metadata": {},
     "output_type": "execute_result"
    }
   ],
   "source": [
    "loss = compute_loss(A2, y)\n",
    "loss"
   ]
  },
  {
   "cell_type": "code",
   "execution_count": 11,
   "id": "32fd61a5-357e-45dd-b0e7-f498ade73c7e",
   "metadata": {
    "scrolled": true
   },
   "outputs": [
    {
     "data": {
      "text/plain": [
       "{'dW1': array([[-5.76436862,  0.02007877],\n",
       "        [-1.02170966, -0.1862154 ],\n",
       "        [-2.0236091 , -0.85196878],\n",
       "        [-1.32903952, -0.32461194]]),\n",
       " 'db1': array([[-2.34409357],\n",
       "        [-0.59896287],\n",
       "        [-0.64312349],\n",
       "        [-0.35410033]]),\n",
       " 'dW2': array([[-6.14710368, -8.26111045, -2.62415714, -3.81473085]]),\n",
       " 'db2': array([[-3.65387765]])}"
      ]
     },
     "execution_count": 11,
     "metadata": {},
     "output_type": "execute_result"
    }
   ],
   "source": [
    "grads = backward_propagation(parameters=parameters, cache=cache, X=X, Y=y)\n",
    "grads"
   ]
  },
  {
   "cell_type": "code",
   "execution_count": 12,
   "id": "8e073f14-8645-43ec-9873-f64edb46adb8",
   "metadata": {},
   "outputs": [
    {
     "ename": "NameError",
     "evalue": "name 'resh' is not defined",
     "output_type": "error",
     "traceback": [
      "\u001b[0;31m---------------------------------------------------------------------------\u001b[0m",
      "\u001b[0;31mNameError\u001b[0m                                 Traceback (most recent call last)",
      "Cell \u001b[0;32mIn[12], line 15\u001b[0m\n\u001b[1;32m     13\u001b[0m     loss \u001b[38;5;241m=\u001b[39m compute_loss(A2\u001b[38;5;241m=\u001b[39mtheta_A2, Y\u001b[38;5;241m=\u001b[39my)\n\u001b[1;32m     14\u001b[0m     \u001b[38;5;28mprint\u001b[39m(loss)\n\u001b[0;32m---> 15\u001b[0m \u001b[43mcheck_grads\u001b[49m\u001b[43m(\u001b[49m\u001b[43mparameters\u001b[49m\u001b[43m \u001b[49m\u001b[38;5;241;43m=\u001b[39;49m\u001b[43m \u001b[49m\u001b[43mparameters\u001b[49m\u001b[43m,\u001b[49m\u001b[43m \u001b[49m\u001b[43mgrads\u001b[49m\u001b[38;5;241;43m=\u001b[39;49m\u001b[43mgrads\u001b[49m\u001b[43m)\u001b[49m\n",
      "Cell \u001b[0;32mIn[12], line 11\u001b[0m, in \u001b[0;36mcheck_grads\u001b[0;34m(parameters, grads)\u001b[0m\n\u001b[1;32m      9\u001b[0m     reshaped \u001b[38;5;241m=\u001b[39m np\u001b[38;5;241m.\u001b[39mreshape(parameters[i], parameters[i]\u001b[38;5;241m.\u001b[39mshape[\u001b[38;5;241m0\u001b[39m]\u001b[38;5;241m*\u001b[39mparameters[i]\u001b[38;5;241m.\u001b[39mshape[\u001b[38;5;241m1\u001b[39m])\n\u001b[1;32m     10\u001b[0m     \u001b[38;5;66;03m# concatinated.extend(reshaped)\u001b[39;00m\n\u001b[0;32m---> 11\u001b[0m     params_theta[i] \u001b[38;5;241m=\u001b[39m \u001b[43mresh\u001b[49m \u001b[38;5;241m+\u001b[39m eps\n\u001b[1;32m     12\u001b[0m theta_A2, theta_cache \u001b[38;5;241m=\u001b[39m forward_propagation(X, params_theta)\n\u001b[1;32m     13\u001b[0m loss \u001b[38;5;241m=\u001b[39m compute_loss(A2\u001b[38;5;241m=\u001b[39mtheta_A2, Y\u001b[38;5;241m=\u001b[39my)\n",
      "\u001b[0;31mNameError\u001b[0m: name 'resh' is not defined"
     ]
    }
   ],
   "source": [
    "from utils import *\n",
    "def check_grads(parameters=parameters, grads=grads):\n",
    "    \"\"\"\n",
    "    check the calculated gradients are correct\n",
    "    \"\"\"\n",
    "    eps = 0.00000001\n",
    "    params_theta = {}\n",
    "\n",
    "    # convert parameter dictionary to a single vector\n",
    "    param_vector = dictionary_to_vector(parameters=parameters)\n",
    "    print(param_vector)\n",
    "    # convert vector to dictionary\n",
    "    param_dictionary = vector_to_dictionary(vector=p\n",
    "        \n",
    "    theta_A2, theta_cache = forward_propagation(X, params_theta)\n",
    "    loss = compute_loss(A2=theta_A2, Y=y)\n",
    "    print(loss)\n",
    "check_grads(parameters = parameters, grads=grads)"
   ]
  },
  {
   "cell_type": "code",
   "execution_count": 25,
   "id": "8b7f9a1f-44d0-41c8-ac2d-dee13ef9a934",
   "metadata": {},
   "outputs": [
    {
     "name": "stdout",
     "output_type": "stream",
     "text": [
      "Numerically approximated gradient of the parameter W[0][0] is:-8.823963071336038\n",
      "Gradient of W[0][0] calculated by backprop: -8.823963198010127\n",
      "1.2667408810784764e-07\n"
     ]
    }
   ],
   "source": [
    "## manual gradient check\n",
    "## lets check the gradient calculation of W1[0][0]\n",
    "## making a copy of parameters\n",
    "import copy\n",
    "\n",
    "check_params = copy.deepcopy(parameters)\n",
    "\n",
    "## nudging the W[0][0] parameter by 0.00000001\n",
    "check_params[\"W1\"][0][0] = check_params[\"W1\"][0][0] + 0.00000001\n",
    "\n",
    "## forward pass and loss\n",
    "check_A2, check_cache = forward_propagation(parameters=check_params, X=X)\n",
    "check_loss = compute_loss(A2=check_A2, Y=y)\n",
    "\n",
    "# manually computing gradient of parameter W[0][0]\n",
    "gradient = (check_loss - loss)/ 0.00000001\n",
    "\n",
    "print(f\"Numerically approximated gradient of the parameter W[0][0] is:{gradient}\")\n",
    "print(f\"Gradient of W[0][0] calculated by backprop: {grads['dW1'][0][0]}\")\n",
    "print(gradient - grads['dW1'][0][0])"
   ]
  },
  {
   "cell_type": "code",
   "execution_count": null,
   "id": "404be72f-f6ea-4741-9784-8137d4ef9689",
   "metadata": {},
   "outputs": [],
   "source": [
    "parameters"
   ]
  },
  {
   "cell_type": "code",
   "execution_count": null,
   "id": "0b163317-bbbd-4648-9c50-3dbdb3077c62",
   "metadata": {},
   "outputs": [],
   "source": [
    "loss, check_loss"
   ]
  },
  {
   "cell_type": "code",
   "execution_count": null,
   "id": "5e33d635-8e9a-4e03-8702-48c879ef4dcb",
   "metadata": {},
   "outputs": [],
   "source": []
  }
 ],
 "metadata": {
  "kernelspec": {
   "display_name": "Python 3 (ipykernel)",
   "language": "python",
   "name": "python3"
  },
  "language_info": {
   "codemirror_mode": {
    "name": "ipython",
    "version": 3
   },
   "file_extension": ".py",
   "mimetype": "text/x-python",
   "name": "python",
   "nbconvert_exporter": "python",
   "pygments_lexer": "ipython3",
   "version": "3.10.12"
  }
 },
 "nbformat": 4,
 "nbformat_minor": 5
}
