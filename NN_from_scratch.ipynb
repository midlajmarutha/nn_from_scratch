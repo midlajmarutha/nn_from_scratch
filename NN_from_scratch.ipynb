{
 "cells": [
  {
   "cell_type": "markdown",
   "id": "4b74f1e0-4576-4249-b7d7-dc4699a06915",
   "metadata": {},
   "source": [
    "## Building Neural networks from scratch\n"
   ]
  },
  {
   "cell_type": "markdown",
   "id": "33aec01d-517a-4fe7-a6ba-496e77a369dd",
   "metadata": {},
   "source": [
    "### importing dependencies"
   ]
  },
  {
   "cell_type": "code",
   "execution_count": 1,
   "id": "2f222ce6-1e2c-49b6-b488-66e2f956af29",
   "metadata": {},
   "outputs": [],
   "source": [
    "import numpy as np"
   ]
  },
  {
   "cell_type": "markdown",
   "id": "e0cec268-0a4b-452f-bafc-e76d12f2ff05",
   "metadata": {},
   "source": [
    "### building a toy dataset"
   ]
  },
  {
   "cell_type": "code",
   "execution_count": 24,
   "id": "827ce796-9410-4ef9-aecc-0806c6bd96fc",
   "metadata": {},
   "outputs": [
    {
     "data": {
      "text/plain": [
       "(50, 2)"
      ]
     },
     "execution_count": 24,
     "metadata": {},
     "output_type": "execute_result"
    }
   ],
   "source": [
    "X = np.random.randn(50,2)\n",
    "y = X[:,0] * 8 + X[:,1] * 5 + 3\n",
    "X.shape"
   ]
  },
  {
   "cell_type": "markdown",
   "id": "bce520ab-a7aa-42e5-9bb3-b95c138140a8",
   "metadata": {},
   "source": [
    "### Building Linear layer"
   ]
  },
  {
   "cell_type": "code",
   "execution_count": 33,
   "id": "8553bb46-dbf2-4187-ba78-529cd0991f5e",
   "metadata": {},
   "outputs": [],
   "source": [
    "class Linear():\n",
    "    def __init__(self, in_features, out_features):\n",
    "        self.weights = np.random.randn(out_features, in_features)\n",
    "        self.bias = np.random.randn(out_features)\n",
    "\n",
    "    def forward(self, X):\n",
    "        print(self.weights.shape)\n",
    "        return self.weights @ np.transpose(X) + self.bias"
   ]
  },
  {
   "cell_type": "code",
   "execution_count": 34,
   "id": "12f1b7c6-f342-4864-82b3-c3b3c8e0ddcd",
   "metadata": {},
   "outputs": [],
   "source": [
    "model = Linear(in_features=2, out_features=1)"
   ]
  },
  {
   "cell_type": "code",
   "execution_count": 35,
   "id": "217d1c94-3417-4d5c-8c70-768d08fd87f8",
   "metadata": {},
   "outputs": [
    {
     "name": "stdout",
     "output_type": "stream",
     "text": [
      "(1, 2)\n"
     ]
    },
    {
     "data": {
      "text/plain": [
       "array([[ 0.95607056, -1.76599715, -0.08084073, -1.66972857, -1.3286154 ,\n",
       "        -1.36432867, -0.64772518,  0.98172012,  0.16229341,  0.66701583,\n",
       "         1.79484549,  0.06676632, -0.84496105, -0.89091114,  0.80508587,\n",
       "         1.09878134,  0.09119143,  0.14832778, -0.34190496, -1.05365918,\n",
       "         0.90948357, -0.60283747,  2.06039407,  0.10461385, -0.25408516,\n",
       "        -1.03261952, -1.23716198, -1.22426412,  0.92267508,  0.68473526,\n",
       "        -1.87329275, -3.31569199,  1.49946   , -1.66441356, -1.23851211,\n",
       "         0.5179295 , -1.05598786,  0.31571013,  0.23206298, -0.63369702,\n",
       "         0.79861308, -0.67183078,  0.7496449 ,  0.76818804, -0.38368265,\n",
       "         0.42389651, -0.36733448, -1.18965323,  1.96140487, -0.58019543]])"
      ]
     },
     "execution_count": 35,
     "metadata": {},
     "output_type": "execute_result"
    }
   ],
   "source": [
    "ypred = model.forward(X)\n",
    "ypred"
   ]
  },
  {
   "cell_type": "code",
   "execution_count": null,
   "id": "443e2534-189d-4105-a98b-eb216b6be6ff",
   "metadata": {},
   "outputs": [],
   "source": []
  }
 ],
 "metadata": {
  "kernelspec": {
   "display_name": "Python 3 (ipykernel)",
   "language": "python",
   "name": "python3"
  },
  "language_info": {
   "codemirror_mode": {
    "name": "ipython",
    "version": 3
   },
   "file_extension": ".py",
   "mimetype": "text/x-python",
   "name": "python",
   "nbconvert_exporter": "python",
   "pygments_lexer": "ipython3",
   "version": "3.10.12"
  }
 },
 "nbformat": 4,
 "nbformat_minor": 5
}
