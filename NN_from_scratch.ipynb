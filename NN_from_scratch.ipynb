{
 "cells": [
  {
   "cell_type": "markdown",
   "id": "4b74f1e0-4576-4249-b7d7-dc4699a06915",
   "metadata": {},
   "source": [
    "## Building Neural networks from scratch\n"
   ]
  },
  {
   "cell_type": "markdown",
   "id": "33aec01d-517a-4fe7-a6ba-496e77a369dd",
   "metadata": {},
   "source": [
    "### importing dependencies"
   ]
  },
  {
   "cell_type": "code",
   "execution_count": 1,
   "id": "2f222ce6-1e2c-49b6-b488-66e2f956af29",
   "metadata": {},
   "outputs": [],
   "source": [
    "import numpy as np\n",
    "import matplotlib.pyplot as plt\n"
   ]
  },
  {
   "cell_type": "markdown",
   "id": "e0cec268-0a4b-452f-bafc-e76d12f2ff05",
   "metadata": {},
   "source": [
    "### building a toy dataset"
   ]
  },
  {
   "cell_type": "code",
   "execution_count": 18,
   "id": "827ce796-9410-4ef9-aecc-0806c6bd96fc",
   "metadata": {},
   "outputs": [
    {
     "data": {
      "text/plain": [
       "array([[ 0.02393181,  0.87191399,  1.43735633,  0.00730637,  1.33088133,\n",
       "         0.98820261,  0.23229616,  0.17618092, -1.15256537, -1.50076839,\n",
       "         0.1650228 , -0.85592892, -0.03963614, -0.53466274, -1.7884965 ,\n",
       "         0.35730454, -0.41453181,  0.08019871, -0.89312027, -0.33481725,\n",
       "         1.56038014,  0.128551  ,  0.54957635, -1.27087181,  2.38903596,\n",
       "         1.84341376,  1.36343549,  0.82876598,  0.01514328,  0.44207402,\n",
       "         1.04801974, -0.62856975, -0.44449874, -1.66913236, -0.77181908,\n",
       "         1.66130173, -0.33424709, -0.31784691,  0.31776703, -1.61222731,\n",
       "         0.94538169,  1.26640686,  0.37729627,  1.65135099, -1.32683177,\n",
       "         1.8437158 , -0.7307414 , -1.27991973, -0.23739196,  1.87200568],\n",
       "       [-0.01944214, -0.93259166, -1.29494247, -0.1051185 , -1.99496157,\n",
       "        -1.30019284,  1.54306765,  1.32326381, -0.12841215, -0.46566477,\n",
       "         0.0585089 ,  2.34799693,  0.40497551,  0.90973817, -0.20245753,\n",
       "         0.06089661,  0.6471627 ,  0.12609483, -1.89737698,  1.28054076,\n",
       "        -0.61513368,  2.11131764,  0.68684851,  0.07097242,  0.43932714,\n",
       "        -0.10849789, -0.48643277,  0.20759826,  0.88499047, -0.46452975,\n",
       "        -0.62223716, -0.35548864,  0.95201109,  1.45255025,  0.36201391,\n",
       "         0.58131413, -0.62970086,  0.87675465,  0.55173701, -0.71012796,\n",
       "        -1.78767161, -1.2205701 , -0.66920273,  1.16193732,  1.55285978,\n",
       "        -0.43951788, -0.40791535,  0.26162306,  0.01214651,  0.93093408]])"
      ]
     },
     "execution_count": 18,
     "metadata": {},
     "output_type": "execute_result"
    }
   ],
   "source": [
    "X = np.random.randn(2,50)\n",
    "y = X[:,0] * 8 + X[:,1] * 5 + 3\n",
    "X[:3], y[:3]\n",
    "X"
   ]
  },
  {
   "cell_type": "code",
   "execution_count": 3,
   "id": "1963db12-17c8-49b6-b9ce-a3c82b734b57",
   "metadata": {},
   "outputs": [
    {
     "data": {
      "text/plain": [
       "<matplotlib.collections.PathCollection at 0x7fe24ff726b0>"
      ]
     },
     "execution_count": 3,
     "metadata": {},
     "output_type": "execute_result"
    },
    {
     "data": {
      "image/png": "[encoded data removed]",
      "text/plain": [
       "<Figure size 640x480 with 1 Axes>"
      ]
     },
     "metadata": {},
     "output_type": "display_data"
    }
   ],
   "source": [
    "plt.scatter(x=X[:,0],y=y)\n",
    "plt.scatter(x=X[:,1],y=y)"
   ]
  },
  {
   "cell_type": "markdown",
   "id": "bce520ab-a7aa-42e5-9bb3-b95c138140a8",
   "metadata": {},
   "source": [
    "### Building neural network with one hidden layer"
   ]
  },
  {
   "cell_type": "code",
   "execution_count": 38,
   "id": "8553bb46-dbf2-4187-ba78-529cd0991f5e",
   "metadata": {},
   "outputs": [],
   "source": [
    "class Linear():\n",
    "    def __init__(self, in_features, out_features):\n",
    "        self.weights = np.random.randn(out_features, in_features)\n",
    "        self.w_grad = np.zeros((out_features, in_features))\n",
    "        self.bias = np.random.randn(out_features)\n",
    "        self.b_grad = np.zeros(out_features)\n",
    "        self.params = {\"w = \n",
    "    def __call__(self, x):\n",
    "        return self.weights @ np.transpose(X) + self.bias\n",
    "    "
   ]
  },
  {
   "cell_type": "code",
   "execution_count": 39,
   "id": "12f1b7c6-f342-4864-82b3-c3b3c8e0ddcd",
   "metadata": {},
   "outputs": [
    {
     "name": "stdout",
     "output_type": "stream",
     "text": [
      "w_grad:[[0. 0.]], b_grad:[0.]\n"
     ]
    }
   ],
   "source": [
    "model = Linear(in_features=2, out_features=1)\n",
    "model.grad()"
   ]
  },
  {
   "cell_type": "code",
   "execution_count": 11,
   "id": "217d1c94-3417-4d5c-8c70-768d08fd87f8",
   "metadata": {},
   "outputs": [],
   "source": [
    "def initialize_parameters(n_in, n_h, n_out):\n",
    "    \"\"\"\n",
    "    initializes model parameters.\n",
    "\n",
    "    Arguments:\n",
    "    n_in: number of input units\n",
    "    n_h: number of hidden units\n",
    "    n_out: number of output units\n",
    "\n",
    "    Return:\n",
    "    parameters: dictionary of all the randomly intialized parameters\n",
    "    \n",
    "    \"\"\"\n",
    "\n",
    "    np.random.seed(42)\n",
    "\n",
    "    W1 = np.random.rand(n_h, n_in)\n",
    "    B1 = np.random.rand(n_h, 1)\n",
    "    W2 = np.random.rand(n_out, n_h)\n",
    "    B2 = np.random.rand(n_out, 1)\n",
    "\n",
    "    parameters = {\"W1\":W1,\n",
    "                  \"B1\":B1,\n",
    "                  \"W2\":W2,\n",
    "                  \"B2\":B2}\n",
    "    \n",
    "    return parameters"
   ]
  },
  {
   "cell_type": "code",
   "execution_count": 22,
   "id": "cf38a017-e403-4c00-95af-c74721dc605e",
   "metadata": {},
   "outputs": [],
   "source": [
    "def forward_propagation(X, parameters):\n",
    "    \"\"\"\n",
    "    Arguments:\n",
    "    X: input data of shape (n_x, m)\n",
    "    parameters: randomly initialized model parameters\n",
    "\n",
    "    Return:\n",
    "    A2 = sigmoid output of second activation\n",
    "    cache = dictionary of Z1, A1, Z2 and A2\n",
    "    \"\"\"\n",
    "    W1 = parameters[\"W1\"]\n",
    "    B1 = parameters[\"B1\"]\n",
    "    W2 = parameters[\"W2\"]\n",
    "    B2 = parameters[\"B2\"]\n",
    "\n",
    "    # Forward pass\n",
    "    Z1 = W1 @ X\n",
    "    A1 = np.tanh(Z1)\n",
    "    Z2 = W2 @ A1\n",
    "    A2 = Z2\n",
    "\n",
    "    cache = {\"Z1\":Z1,\n",
    "             \"A1\":A1,\n",
    "             \"Z2\":Z2,\n",
    "             \"A2\":A2}\n",
    "\n",
    "    return A2, cache"
   ]
  },
  {
   "cell_type": "code",
   "execution_count": 23,
   "id": "443e2534-189d-4105-a98b-eb216b6be6ff",
   "metadata": {},
   "outputs": [
    {
     "data": {
      "text/plain": [
       "{'W1': array([[0.37454012, 0.95071431],\n",
       "        [0.73199394, 0.59865848],\n",
       "        [0.15601864, 0.15599452],\n",
       "        [0.05808361, 0.86617615]]),\n",
       " 'B1': array([[0.60111501],\n",
       "        [0.70807258],\n",
       "        [0.02058449],\n",
       "        [0.96990985]]),\n",
       " 'W2': array([[0.83244264, 0.21233911, 0.18182497, 0.18340451]]),\n",
       " 'B2': array([[0.30424224]])}"
      ]
     },
     "execution_count": 23,
     "metadata": {},
     "output_type": "execute_result"
    }
   ],
   "source": [
    "parameters = initialize_parameters(2, 4, 1)\n",
    "parameters"
   ]
  },
  {
   "cell_type": "code",
   "execution_count": 25,
   "id": "50f8130c-e318-40df-9333-36ea465fc624",
   "metadata": {},
   "outputs": [
    {
     "data": {
      "text/plain": [
       "array([[-0.00938273, -0.52494799, -0.58041563, -0.11222396, -0.97180771,\n",
       "        -0.74736829,  1.14014267,  1.06877018, -0.64138863, -0.96006868,\n",
       "         0.14750895,  1.15349034,  0.41124159,  0.64418083, -0.8746034 ,\n",
       "         0.24443999,  0.47233958,  0.17884148, -1.25640731,  0.93841619,\n",
       "         0.0879562 ,  1.2269648 ,  0.85827536, -0.50906736,  1.0877677 ,\n",
       "         0.67204233,  0.13365656,  0.59242215,  0.82255255, -0.28111347,\n",
       "        -0.15333667, -0.64418099,  0.70997118,  0.60426127,  0.01124525,\n",
       "         1.04161823, -0.75375461,  0.702341  ,  0.68932305, -1.08361486,\n",
       "        -0.99293346, -0.59163795, -0.50876229,  1.20617456,  0.78072276,\n",
       "         0.38071371, -0.72175547, -0.32823374, -0.1062911 ,  1.17652617]])"
      ]
     },
     "execution_count": 25,
     "metadata": {},
     "output_type": "execute_result"
    }
   ],
   "source": [
    "A2, cache = forward_propagation(X, parameters)\n",
    "A2"
   ]
  },
  {
   "cell_type": "markdown",
   "id": "9f1d93d7-0f61-4207-8411-0bf74f964033",
   "metadata": {},
   "source": [
    "### Building MSE Loss function"
   ]
  },
  {
   "cell_type": "code",
   "execution_count": null,
   "id": "e9a29b75-6812-49fe-a6a1-1894bf61ea19",
   "metadata": {},
   "outputs": [],
   "source": [
    "class MSELoss():\n",
    "    def __init__(self, y, y_pred):\n",
    "        self.loss = np.sum((y-y_pred)**2) / (len(y) * 2)\n",
    "    def backward(self):\n",
    "        self."
   ]
  },
  {
   "cell_type": "code",
   "execution_count": null,
   "id": "33ce3452-80b9-468d-a6e9-94b614d1595e",
   "metadata": {},
   "outputs": [],
   "source": [
    "MSELoss(y=y, y_pred=ypred)"
   ]
  },
  {
   "cell_type": "code",
   "execution_count": null,
   "id": "076d6dc2-d988-4333-9f33-36a6d91547f8",
   "metadata": {},
   "outputs": [],
   "source": [
    "class Parameter():\n",
    "    def __init__(self, value, grad=True):\n",
    "        self.value = value\n",
    "        self.grad = 0"
   ]
  },
  {
   "cell_type": "code",
   "execution_count": null,
   "id": "a01dc6a4-2545-4e8c-a6b7-eb83bb21813d",
   "metadata": {},
   "outputs": [],
   "source": [
    "arr = [2,3,4,5,6,4]\n",
    "iter(arr)"
   ]
  },
  {
   "cell_type": "code",
   "execution_count": null,
   "id": "b2fb4833-f8e4-4128-bc73-bd4dede20581",
   "metadata": {},
   "outputs": [],
   "source": [
    "param = Parameter(arr)\n",
    "param.value"
   ]
  },
  {
   "cell_type": "code",
   "execution_count": 47,
   "id": "1bcff4b1-a333-4405-9a70-5351849d1460",
   "metadata": {},
   "outputs": [
    {
     "data": {
      "text/plain": [
       "[{'name': 'midlaj'},\n",
       " {'weights': array([[0.34685761, 0.86167589, 0.80868045, 0.26094441, 0.5701226 ,\n",
       "          0.87350555],\n",
       "         [0.55202143, 0.1151741 , 0.07881151, 0.1678621 , 0.77592331,\n",
       "          0.42663448],\n",
       "         [0.76903961, 0.53013512, 0.76107372, 0.65360844, 0.97681259,\n",
       "          0.30536109]])},\n",
       " {'bias': array([0.37695062, 0.83043353, 0.14605683, 0.09322402, 0.25497203,\n",
       "         0.90904958])}]"
      ]
     },
     "execution_count": 47,
     "metadata": {},
     "output_type": "execute_result"
    }
   ],
   "source": [
    "import numpy as np\n",
    "w = np.random.rand(3,6)\n",
    "b = np.random.rand(6)\n",
    "obj = [{\"name\":\"midlaj\"},{\"weights\":w},{\"bias\":b}]\n",
    "obj"
   ]
  },
  {
   "cell_type": "code",
   "execution_count": null,
   "id": "d5337966-af0b-4f4e-b330-b2f7f204090c",
   "metadata": {},
   "outputs": [],
   "source": []
  }
 ],
 "metadata": {
  "kernelspec": {
   "display_name": "Python 3 (ipykernel)",
   "language": "python",
   "name": "python3"
  },
  "language_info": {
   "codemirror_mode": {
    "name": "ipython",
    "version": 3
   },
   "file_extension": ".py",
   "mimetype": "text/x-python",
   "name": "python",
   "nbconvert_exporter": "python",
   "pygments_lexer": "ipython3",
   "version": "3.10.12"
  }
 },
 "nbformat": 4,
 "nbformat_minor": 5
}
