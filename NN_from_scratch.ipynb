{
 "cells": [
  {
   "cell_type": "markdown",
   "id": "4b74f1e0-4576-4249-b7d7-dc4699a06915",
   "metadata": {},
   "source": [
    "## Building Neural networks from scratch\n"
   ]
  },
  {
   "cell_type": "markdown",
   "id": "33aec01d-517a-4fe7-a6ba-496e77a369dd",
   "metadata": {},
   "source": [
    "### importing dependencies"
   ]
  },
  {
   "cell_type": "code",
   "execution_count": 5,
   "id": "2f222ce6-1e2c-49b6-b488-66e2f956af29",
   "metadata": {},
   "outputs": [],
   "source": [
    "import numpy as np\n",
    "import matplotlib.pyplot as plt\n"
   ]
  },
  {
   "cell_type": "markdown",
   "id": "e0cec268-0a4b-452f-bafc-e76d12f2ff05",
   "metadata": {},
   "source": [
    "### building a toy dataset"
   ]
  },
  {
   "cell_type": "code",
   "execution_count": 6,
   "id": "827ce796-9410-4ef9-aecc-0806c6bd96fc",
   "metadata": {},
   "outputs": [
    {
     "data": {
      "text/plain": [
       "(array([[-0.66297771,  2.12323549, -0.97125809, -0.28632849, -0.99315483,\n",
       "          0.37080674,  1.07394643,  1.04724391, -0.23155417, -1.30316022,\n",
       "          1.45622834,  0.08707208, -0.01476744,  0.85923062,  1.62965773,\n",
       "         -2.22136564,  0.56213345, -0.01771591, -0.57369591,  1.69318792,\n",
       "         -1.58652444,  0.68819165,  0.17782128, -0.94559393, -0.83494589,\n",
       "         -1.19873939,  1.30135172, -0.81202826,  0.31701771, -1.70304783,\n",
       "         -0.85705894, -0.06018412, -1.3468474 ,  0.40007839,  0.24518235,\n",
       "          0.55908983, -0.35301958,  0.75202563, -0.66476303,  0.5607945 ,\n",
       "          0.40187931,  0.59450343, -1.69495067,  1.59522073, -0.88591365,\n",
       "          0.15567047, -0.81284795, -2.01482021,  0.5127627 , -0.87684099],\n",
       "        [-0.08715476, -1.0974097 ,  1.2778344 ,  1.084314  ,  1.78403104,\n",
       "          1.17609901, -0.47952736,  0.62068267, -0.5652806 , -1.77660005,\n",
       "          1.36670898,  1.10737508, -0.63089722,  0.92185177, -0.10568526,\n",
       "          0.2929762 , -1.99274029, -0.13553091,  0.13879926,  0.33355793,\n",
       "          0.80865421,  0.09835766,  0.67693022, -0.24686489,  1.68310292,\n",
       "         -1.31876737, -0.90149036, -0.62036524, -0.35555622, -2.48986225,\n",
       "          1.88013683,  0.04874351,  0.14686329,  1.07981985,  0.5954189 ,\n",
       "          0.79155859, -0.43255019,  0.44758792,  0.32472423, -1.23858735,\n",
       "          1.18474977, -0.13160724, -0.90936329, -0.07567615, -0.23878617,\n",
       "          1.49283492,  0.82891715,  0.9842113 ,  1.27012097,  0.97221327]]),\n",
       " array([ -2.73959544,  14.49883543,   1.61910725,   6.1309421 ,\n",
       "          3.97491655,  11.84694894,   9.19393462,  14.48136465,\n",
       "         -1.67883637, -16.30828199,  21.48337164,   9.23345204,\n",
       "         -0.27262566,  14.48310379,  15.50883557, -13.30604408,\n",
       "         -2.46663387,   2.18061814,  -0.89557101,  18.21329302,\n",
       "         -5.64892442,   8.99732153,   7.80722137,  -5.79907589,\n",
       "          4.73594743, -13.18375198,   8.90336194,  -6.59805229,\n",
       "          3.75836061, -23.07369386,   5.54421258,   2.76224463,\n",
       "         -7.04046275,  11.59972635,   7.93855333,  11.43051157,\n",
       "         -1.98690764,  11.25414465,  -0.69448304,   1.29341922,\n",
       "         12.13878334,   7.09799127, -15.10642179,  15.38338512,\n",
       "         -5.28124005,  11.70953834,   0.64180216,  -8.19750514,\n",
       "         13.45270642,   0.84633846]))"
      ]
     },
     "execution_count": 6,
     "metadata": {},
     "output_type": "execute_result"
    }
   ],
   "source": [
    "X = np.random.randn(2,50)\n",
    "y = X[0,:] * 8 + X[1,:] * 5 + 3\n",
    "X, y"
   ]
  },
  {
   "cell_type": "code",
   "execution_count": 7,
   "id": "1963db12-17c8-49b6-b9ce-a3c82b734b57",
   "metadata": {},
   "outputs": [
    {
     "data": {
      "text/plain": [
       "<matplotlib.collections.PathCollection at 0x7f33632c9cf0>"
      ]
     },
     "execution_count": 7,
     "metadata": {},
     "output_type": "execute_result"
    },
    {
     "data": {
      "image/png": "[encoded data removed]",
      "text/plain": [
       "<Figure size 640x480 with 1 Axes>"
      ]
     },
     "metadata": {},
     "output_type": "display_data"
    }
   ],
   "source": [
    "plt.scatter(x=X[0,:],y=y)\n",
    "plt.scatter(x=X[1,:],y=y)"
   ]
  },
  {
   "cell_type": "markdown",
   "id": "bce520ab-a7aa-42e5-9bb3-b95c138140a8",
   "metadata": {},
   "source": [
    "### Building neural network with one hidden layer"
   ]
  },
  {
   "cell_type": "code",
   "execution_count": 8,
   "id": "8553bb46-dbf2-4187-ba78-529cd0991f5e",
   "metadata": {},
   "outputs": [
    {
     "ename": "SyntaxError",
     "evalue": "unterminated string literal (detected at line 7) (4011272880.py, line 7)",
     "output_type": "error",
     "traceback": [
      "\u001b[0;36m  Cell \u001b[0;32mIn[8], line 7\u001b[0;36m\u001b[0m\n\u001b[0;31m    self.params = {\"w =\u001b[0m\n\u001b[0m                   ^\u001b[0m\n\u001b[0;31mSyntaxError\u001b[0m\u001b[0;31m:\u001b[0m unterminated string literal (detected at line 7)\n"
     ]
    }
   ],
   "source": [
    "class Linear():\n",
    "    def __init__(self, in_features, out_features):\n",
    "        self.weights = np.random.randn(out_features, in_features)\n",
    "        self.w_grad = np.zeros((out_features, in_features))\n",
    "        self.bias = np.random.randn(out_features)\n",
    "        self.b_grad = np.zeros(out_features)\n",
    "        self.params = {\"w = \n",
    "    def __call__(self, x):\n",
    "        return self.weights @ np.transpose(X) + self.bias\n",
    "    "
   ]
  },
  {
   "cell_type": "code",
   "execution_count": 9,
   "id": "12f1b7c6-f342-4864-82b3-c3b3c8e0ddcd",
   "metadata": {},
   "outputs": [
    {
     "ename": "NameError",
     "evalue": "name 'Linear' is not defined",
     "output_type": "error",
     "traceback": [
      "\u001b[0;31m---------------------------------------------------------------------------\u001b[0m",
      "\u001b[0;31mNameError\u001b[0m                                 Traceback (most recent call last)",
      "Cell \u001b[0;32mIn[9], line 1\u001b[0m\n\u001b[0;32m----> 1\u001b[0m model \u001b[38;5;241m=\u001b[39m \u001b[43mLinear\u001b[49m(in_features\u001b[38;5;241m=\u001b[39m\u001b[38;5;241m2\u001b[39m, out_features\u001b[38;5;241m=\u001b[39m\u001b[38;5;241m1\u001b[39m)\n\u001b[1;32m      2\u001b[0m model\u001b[38;5;241m.\u001b[39mgrad()\n",
      "\u001b[0;31mNameError\u001b[0m: name 'Linear' is not defined"
     ]
    }
   ],
   "source": [
    "model = Linear(in_features=2, out_features=1)\n",
    "model.grad()"
   ]
  },
  {
   "cell_type": "code",
   "execution_count": 10,
   "id": "217d1c94-3417-4d5c-8c70-768d08fd87f8",
   "metadata": {},
   "outputs": [],
   "source": [
    "def initialize_parameters(n_in, n_h, n_out):\n",
    "    \"\"\"\n",
    "    initializes model parameters.\n",
    "\n",
    "    Arguments:\n",
    "    n_in: number of input units\n",
    "    n_h: number of hidden units\n",
    "    n_out: number of output units\n",
    "\n",
    "    Return:\n",
    "    parameters: dictionary of all the randomly intialized parameters\n",
    "    \n",
    "    \"\"\"\n",
    "\n",
    "    np.random.seed(42)\n",
    "\n",
    "    W1 = np.random.rand(n_h, n_in)\n",
    "    b1 = np.random.rand(n_h, 1)\n",
    "    W2 = np.random.rand(n_out, n_h)\n",
    "    b2 = np.random.rand(n_out, 1)\n",
    "\n",
    "    parameters = {\"W1\":W1,\n",
    "                  \"b1\":b1,\n",
    "                  \"W2\":W2,\n",
    "                  \"b2\":b2}\n",
    "    \n",
    "    return parameters"
   ]
  },
  {
   "cell_type": "code",
   "execution_count": 11,
   "id": "cf38a017-e403-4c00-95af-c74721dc605e",
   "metadata": {},
   "outputs": [],
   "source": [
    "def forward_propagation(X, parameters):\n",
    "    \"\"\"\n",
    "    Arguments:\n",
    "    X: input data of shape (n_x, m)\n",
    "    parameters: randomly initialized model parameters\n",
    "\n",
    "    Return:\n",
    "    A2 = sigmoid output of second activation\n",
    "    cache = dictionary of Z1, A1, Z2 and A2\n",
    "    \"\"\"\n",
    "    W1 = parameters[\"W1\"]\n",
    "    b1 = parameters[\"b1\"]\n",
    "    W2 = parameters[\"W2\"]\n",
    "    b2 = parameters[\"b2\"]\n",
    "\n",
    "    # Forward pass\n",
    "    Z1 = W1 @ X\n",
    "    A1 = np.tanh(Z1)\n",
    "    Z2 = W2 @ A1\n",
    "    A2 = Z2\n",
    "\n",
    "    cache = {\"Z1\":Z1,\n",
    "             \"A1\":A1,\n",
    "             \"Z2\":Z2,\n",
    "             \"A2\":A2}\n",
    "\n",
    "    return A2, cache"
   ]
  },
  {
   "cell_type": "code",
   "execution_count": 12,
   "id": "d368e722-fd01-45f8-95f6-d61764878377",
   "metadata": {},
   "outputs": [],
   "source": [
    "def compute_loss(A2, Y):\n",
    "    \"\"\"\n",
    "    compute Mean Squared Error loss of the model\n",
    "    Arguments:\n",
    "    A2: Prediction of the model\n",
    "    Y: \"true\" label vactor of shape (1, number of samples)\n",
    "\n",
    "    Return:\n",
    "    loss: computed scalar loss of the model\n",
    "    \"\"\"\n",
    "\n",
    "    m = len(Y)\n",
    "    loss = 1/m * np.sum((A2 - Y) ** 2)\n",
    "    return loss"
   ]
  },
  {
   "cell_type": "code",
   "execution_count": 13,
   "id": "528185aa-0cbb-4cba-8a2b-23104670a520",
   "metadata": {},
   "outputs": [],
   "source": [
    "def backward_propagation(parameters, cache, X, Y):\n",
    "    \"\"\" computes gradient of the model parameters\n",
    "    \n",
    "    Arguments:\n",
    "    parameters: dictionary of the parameters of the model\n",
    "    cache: a dictionary containing Z1, A1, Z2 and A2\n",
    "    X: input data of shape (2, number of example)\n",
    "    Y: \"true\" label vector of shape (1, number of example)\n",
    "    \n",
    "    Return:\n",
    "    grad: dictionary of the gradients of each model parameters\n",
    "    \"\"\"\n",
    "\n",
    "    m = len(Y)\n",
    "    \n",
    "    W1 = parameters[\"W1\"]\n",
    "    b1 = parameters[\"b1\"]\n",
    "    W2 = parameters[\"W2\"]\n",
    "    b2 = parameters[\"b2\"]\n",
    "\n",
    "    Z1 = cache[\"Z1\"]\n",
    "    A1 = cache[\"A1\"]\n",
    "    Z2 = cache[\"Z2\"]\n",
    "    A2 = cache[\"A2\"]\n",
    "\n",
    "    # Backpropagation\n",
    "    dA2 = (2/m) * (A2 - Y) # (1, m)\n",
    "    dZ2 = dA2 # (1,m)\n",
    "    dW2 = dZ2 @ A1.T #(1, n_h)\n",
    "    db2 = np.sum(dZ2, axis=1, keepdims=True) # (1,1)\n",
    "    dA1 = W2.T @ dZ2 # (n_h, m)\n",
    "    dZ1 = dA1 * (1 - np.power(A1,2)) # (n_h, m)\n",
    "    dW1 = dZ1 @ X.T # (n_h, n_in)\n",
    "    db1 = np.sum(dZ1, axis=1, keepdims=True) # (1, n_h)\n",
    "\n",
    "    grads = {\"dW1\":dW1,\n",
    "            \"db1\":db1,\n",
    "            \"dW2\":dW2,\n",
    "            \"db2\":db2}\n",
    "\n",
    "    return grads"
   ]
  },
  {
   "cell_type": "code",
   "execution_count": null,
   "id": "cf4d37a5-fd85-44d5-a3e4-ed38139247b2",
   "metadata": {},
   "outputs": [],
   "source": []
  },
  {
   "cell_type": "code",
   "execution_count": 14,
   "id": "443e2534-189d-4105-a98b-eb216b6be6ff",
   "metadata": {},
   "outputs": [
    {
     "data": {
      "text/plain": [
       "{'W1': array([[0.37454012, 0.95071431],\n",
       "        [0.73199394, 0.59865848],\n",
       "        [0.15601864, 0.15599452],\n",
       "        [0.05808361, 0.86617615]]),\n",
       " 'b1': array([[0.60111501],\n",
       "        [0.70807258],\n",
       "        [0.02058449],\n",
       "        [0.96990985]]),\n",
       " 'W2': array([[0.83244264, 0.21233911, 0.18182497, 0.18340451]]),\n",
       " 'b2': array([[0.30424224]])}"
      ]
     },
     "execution_count": 14,
     "metadata": {},
     "output_type": "execute_result"
    }
   ],
   "source": [
    "parameters = initialize_parameters(2, 4, 1)\n",
    "parameters"
   ]
  },
  {
   "cell_type": "code",
   "execution_count": 15,
   "id": "50f8130c-e318-40df-9333-36ea465fc624",
   "metadata": {},
   "outputs": [
    {
     "data": {
      "text/plain": [
       "array([[-0.41230032, -0.14624137,  0.73930818,  0.84931902,  0.98004043,\n",
       "         1.05299805,  0.00798272,  0.94508895, -0.66830616, -1.26691462,\n",
       "         1.22639666,  0.96416591, -0.63847478,  1.04512791,  0.60632613,\n",
       "        -0.63937496, -1.12708031, -0.15798716, -0.13422202,  0.92936632,\n",
       "         0.09626413,  0.43426349,  0.7345471 , -0.66762319,  0.98129975,\n",
       "        -1.19818723, -0.31153617, -0.88881708, -0.22836692, -1.32279755,\n",
       "         1.04331922,  0.02342417, -0.46746252,  1.0215503 ,  0.69704199,\n",
       "         0.92130488, -0.60465358,  0.75823194,  0.02334429, -0.85199997,\n",
       "         1.06176371,  0.15213492, -1.15428297,  0.62014185, -0.64004217,\n",
       "         1.11633107,  0.46081178,  0.08440341,  1.10759831,  0.55551187]])"
      ]
     },
     "execution_count": 15,
     "metadata": {},
     "output_type": "execute_result"
    }
   ],
   "source": [
    "A2, cache = forward_propagation(X, parameters)\n",
    "A2"
   ]
  },
  {
   "cell_type": "code",
   "execution_count": 16,
   "id": "e7330067-cbe4-4369-adf3-afce98bf7fcc",
   "metadata": {},
   "outputs": [
    {
     "data": {
      "text/plain": [
       "91.31545390473383"
      ]
     },
     "execution_count": 16,
     "metadata": {},
     "output_type": "execute_result"
    }
   ],
   "source": [
    "loss = compute_loss(A2, y)\n",
    "loss"
   ]
  },
  {
   "cell_type": "code",
   "execution_count": 17,
   "id": "32fd61a5-357e-45dd-b0e7-f498ade73c7e",
   "metadata": {},
   "outputs": [
    {
     "data": {
      "text/plain": [
       "{'dW1': array([[-6.90039686, -0.550064  ],\n",
       "        [-1.05086825, -0.51206353],\n",
       "        [-2.59069119, -1.51480472],\n",
       "        [-1.81494855, -0.46685476]]),\n",
       " 'db1': array([[-3.07556652],\n",
       "        [-0.87886263],\n",
       "        [-1.12103676],\n",
       "        [-0.7910537 ]]),\n",
       " 'dW2': array([[ -9.25555187, -11.23928662,  -3.84132879,  -6.21273203]]),\n",
       " 'db2': array([[-6.08613798]])}"
      ]
     },
     "execution_count": 17,
     "metadata": {},
     "output_type": "execute_result"
    }
   ],
   "source": [
    "grads = backward_propagation(parameters=parameters, cache=cache, X=X, Y=y)\n",
    "grads"
   ]
  },
  {
   "cell_type": "code",
   "execution_count": 32,
   "id": "8e073f14-8645-43ec-9873-f64edb46adb8",
   "metadata": {},
   "outputs": [
    {
     "name": "stdout",
     "output_type": "stream",
     "text": [
      "91.3154534452379\n"
     ]
    }
   ],
   "source": [
    "def check_grads(parameters=parameters, grads=grads):\n",
    "    \"\"\"\n",
    "    check the calculated gradients are correct\n",
    "    \"\"\"\n",
    "    eps = 0.00000001\n",
    "    # concatinated = []\n",
    "    params_theta = {}\n",
    "    for i in parameters:\n",
    "        reshaped = np.reshape(parameters[i], parameters[i].shape[0]*parameters[i].shape[1])\n",
    "        # concatinated.extend(reshaped)\n",
    "        params_theta[i] = resh + eps\n",
    "    theta_A2, theta_cache = forward_propagation(X, params_theta)\n",
    "    loss = compute_loss(A2=theta_A2, Y=y)\n",
    "    print(loss)\n",
    "check_grads(parameters = parameters, grads=grads)"
   ]
  },
  {
   "cell_type": "code",
   "execution_count": null,
   "id": "8b7f9a1f-44d0-41c8-ac2d-dee13ef9a934",
   "metadata": {},
   "outputs": [],
   "source": []
  }
 ],
 "metadata": {
  "kernelspec": {
   "display_name": "Python 3 (ipykernel)",
   "language": "python",
   "name": "python3"
  },
  "language_info": {
   "codemirror_mode": {
    "name": "ipython",
    "version": 3
   },
   "file_extension": ".py",
   "mimetype": "text/x-python",
   "name": "python",
   "nbconvert_exporter": "python",
   "pygments_lexer": "ipython3",
   "version": "3.10.12"
  }
 },
 "nbformat": 4,
 "nbformat_minor": 5
}
