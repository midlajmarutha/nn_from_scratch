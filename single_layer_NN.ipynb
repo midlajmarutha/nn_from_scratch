{
 "cells": [
  {
   "cell_type": "markdown",
   "id": "4b74f1e0-4576-4249-b7d7-dc4699a06915",
   "metadata": {},
   "source": [
    "## Building Neural networks from scratch\n"
   ]
  },
  {
   "cell_type": "markdown",
   "id": "33aec01d-517a-4fe7-a6ba-496e77a369dd",
   "metadata": {},
   "source": [
    "### importing dependencies"
   ]
  },
  {
   "cell_type": "code",
   "execution_count": 1,
   "id": "2f222ce6-1e2c-49b6-b488-66e2f956af29",
   "metadata": {},
   "outputs": [],
   "source": [
    "import numpy as np\n",
    "import matplotlib.pyplot as plt\n",
    "from utils import dictionary_to_vector, vector_to_dictionary"
   ]
  },
  {
   "cell_type": "markdown",
   "id": "e0cec268-0a4b-452f-bafc-e76d12f2ff05",
   "metadata": {},
   "source": [
    "### building a toy dataset"
   ]
  },
  {
   "cell_type": "code",
   "execution_count": 2,
   "id": "827ce796-9410-4ef9-aecc-0806c6bd96fc",
   "metadata": {},
   "outputs": [
    {
     "data": {
      "text/plain": [
       "(array([[-7.13737544e-01, -1.34791507e-01, -8.38936829e-01,\n",
       "          5.22782529e-01,  1.34494224e-01,  4.58140867e-01,\n",
       "         -1.96665587e-01,  1.84668700e-01,  6.24014072e-01,\n",
       "          8.66499793e-01, -1.08385366e+00,  1.08204393e+00,\n",
       "          8.55020723e-01, -1.53878098e+00, -2.88979711e-01,\n",
       "          6.81651268e-01, -1.94595671e+00,  1.13464147e+00,\n",
       "         -1.05576994e+00, -8.20629508e-01, -1.18497399e-01,\n",
       "          4.46420873e-01, -4.91595161e-01,  2.71907595e-01,\n",
       "          1.85591086e+00, -1.04846273e+00, -1.77589607e+00,\n",
       "         -2.10279710e+00, -2.30082862e+00, -1.88166329e+00,\n",
       "          2.29423469e-01, -5.57887399e-01,  4.35873000e-01,\n",
       "         -2.26284737e-01,  1.05053968e+00,  1.46216258e+00,\n",
       "          5.76880028e-01, -5.90932829e-01,  1.59612685e+00,\n",
       "         -1.37111824e+00, -9.67998442e-01,  1.23282238e+00,\n",
       "          3.43016652e-02, -1.79654994e+00,  3.33599378e-01,\n",
       "          6.09926740e-01,  8.96075306e-01,  5.64751506e-01,\n",
       "          5.02205732e-01,  4.49744296e-01],\n",
       "        [-1.25266522e-02,  1.30059337e+00, -6.77013889e-01,\n",
       "         -5.71911633e-01, -8.04713131e-01,  7.33622410e-01,\n",
       "         -1.13195101e+00, -3.75626408e-01, -4.61966079e-01,\n",
       "          6.02285870e-01,  1.42900189e-01,  8.98731006e-01,\n",
       "         -1.30828345e+00, -2.42583756e+00,  2.61315692e-03,\n",
       "         -1.42424224e+00,  1.04919607e+00,  3.11385041e-01,\n",
       "          3.47588239e-02, -3.50428275e-01, -1.53112930e+00,\n",
       "         -4.39180099e-01,  1.27344035e+00,  1.19401928e+00,\n",
       "         -1.05961806e+00, -9.83613678e-01,  1.89981978e+00,\n",
       "         -7.74068631e-01, -3.33062712e-01, -1.48913890e+00,\n",
       "         -6.75221253e-01, -2.71451118e-01, -2.98075359e+00,\n",
       "          7.47428757e-01,  1.64425460e+00,  1.77528145e-01,\n",
       "         -1.05262103e-01,  8.09198684e-02, -2.62702523e-01,\n",
       "          1.66855898e+00,  4.77910725e-01, -8.80897076e-01,\n",
       "          3.65910591e-01, -1.72059386e-01, -3.75624894e-02,\n",
       "          9.23485515e-02, -1.55234873e+00,  9.10378729e-01,\n",
       "          1.65114985e+00, -1.79282661e+00]]),\n",
       " array([ -2.77253361,   8.42463481,  -7.09656408,   4.32270207,\n",
       "          0.05238814,  10.33323899,  -4.23307974,   2.59921756,\n",
       "          5.68228218,  12.9434277 ,  -4.95632832,  16.15000651,\n",
       "          3.29874855, -21.43943565,   0.7012281 ,   1.33199893,\n",
       "         -7.32167333,  13.63405697,  -5.27236543,  -5.31717744,\n",
       "         -5.60362571,   4.37546649,   5.43444044,  11.14535715,\n",
       "         12.54919661, -10.30577026,  -1.70806963, -17.69271998,\n",
       "        -17.07194251, -19.49900078,   1.45928149,  -2.82035479,\n",
       "         -8.41678393,   4.92686589,  19.62559046,  15.58494134,\n",
       "          7.08872971,  -1.32286329,  14.45550222,   0.37384892,\n",
       "         -2.35443391,   8.45809363,   5.10396628, -12.23269643,\n",
       "          5.48098258,   8.34115668,   2.40685881,  12.06990569,\n",
       "         15.27339512,  -2.36617869]))"
      ]
     },
     "execution_count": 2,
     "metadata": {},
     "output_type": "execute_result"
    }
   ],
   "source": [
    "X = np.random.randn(2,50)\n",
    "y = X[0,:] * 8 + X[1,:] * 5 + 3\n",
    "X, y"
   ]
  },
  {
   "cell_type": "code",
   "execution_count": 3,
   "id": "1963db12-17c8-49b6-b9ce-a3c82b734b57",
   "metadata": {},
   "outputs": [
    {
     "data": {
      "text/plain": [
       "<matplotlib.collections.PathCollection at 0x7f673f7a6bf0>"
      ]
     },
     "execution_count": 3,
     "metadata": {},
     "output_type": "execute_result"
    },
    {
     "data": {
      "image/png": "[encoded data removed]",
      "text/plain": [
       "<Figure size 640x480 with 1 Axes>"
      ]
     },
     "metadata": {},
     "output_type": "display_data"
    }
   ],
   "source": [
    "plt.scatter(x=X[0,:],y=y)\n",
    "plt.scatter(x=X[1,:],y=y)"
   ]
  },
  {
   "cell_type": "markdown",
   "id": "bce520ab-a7aa-42e5-9bb3-b95c138140a8",
   "metadata": {},
   "source": [
    "### Building neural network with one hidden layer"
   ]
  },
  {
   "cell_type": "code",
   "execution_count": 4,
   "id": "217d1c94-3417-4d5c-8c70-768d08fd87f8",
   "metadata": {},
   "outputs": [],
   "source": [
    "def initialize_parameters(n_in, n_h, n_out):\n",
    "    \"\"\"\n",
    "    initializes model parameters.\n",
    "\n",
    "    Arguments:\n",
    "    n_in: number of input units\n",
    "    n_h: number of hidden units\n",
    "    n_out: number of output units\n",
    "\n",
    "    Return:\n",
    "    parameters: dictionary of all the randomly intialized parameters\n",
    "    \n",
    "    \"\"\"\n",
    "\n",
    "    np.random.seed(42)\n",
    "\n",
    "    W1 = np.random.rand(n_h, n_in)\n",
    "    b1 = np.random.rand(n_h, 1)\n",
    "    W2 = np.random.rand(n_out, n_h)\n",
    "    b2 = np.random.rand(n_out, 1)\n",
    "\n",
    "    parameters = {\"W1\":W1,\n",
    "                  \"b1\":b1,\n",
    "                  \"W2\":W2,\n",
    "                  \"b2\":b2}\n",
    "    \n",
    "    return parameters"
   ]
  },
  {
   "cell_type": "code",
   "execution_count": 5,
   "id": "cf38a017-e403-4c00-95af-c74721dc605e",
   "metadata": {},
   "outputs": [],
   "source": [
    "def forward_propagation(X, parameters):\n",
    "    \"\"\"\n",
    "    Arguments:\n",
    "    X: input data of shape (n_x, m)\n",
    "    parameters: randomly initialized model parameters\n",
    "\n",
    "    Return:\n",
    "    A2 = sigmoid output of second activation\n",
    "    cache = dictionary of Z1, A1, Z2 and A2\n",
    "    \"\"\"\n",
    "    W1 = parameters[\"W1\"]\n",
    "    b1 = parameters[\"b1\"]\n",
    "    W2 = parameters[\"W2\"]\n",
    "    b2 = parameters[\"b2\"]\n",
    "\n",
    "    # Forward pass\n",
    "    Z1 = W1 @ X\n",
    "    A1 = np.tanh(Z1)\n",
    "    Z2 = W2 @ A1\n",
    "    A2 = Z2\n",
    "\n",
    "    cache = {\"Z1\":Z1,\n",
    "             \"A1\":A1,\n",
    "             \"Z2\":Z2,\n",
    "             \"A2\":A2}\n",
    "\n",
    "    return A2, cache"
   ]
  },
  {
   "cell_type": "code",
   "execution_count": 6,
   "id": "d368e722-fd01-45f8-95f6-d61764878377",
   "metadata": {},
   "outputs": [],
   "source": [
    "def compute_loss(A2, Y):\n",
    "    \"\"\"\n",
    "    compute Mean Squared Error loss of the model\n",
    "    Arguments:\n",
    "    A2: Prediction of the model\n",
    "    Y: \"true\" label vactor of shape (1, number of samples)\n",
    "\n",
    "    Return:\n",
    "    loss: computed scalar loss of the model\n",
    "    \"\"\"\n",
    "\n",
    "    m = len(Y)\n",
    "    loss = 1/m * np.sum((A2 - Y) ** 2)\n",
    "    return loss"
   ]
  },
  {
   "cell_type": "code",
   "execution_count": 7,
   "id": "528185aa-0cbb-4cba-8a2b-23104670a520",
   "metadata": {},
   "outputs": [],
   "source": [
    "def backward_propagation(parameters, cache, X, Y):\n",
    "    \"\"\" computes gradient of the model parameters\n",
    "    \n",
    "    Arguments:\n",
    "    parameters: dictionary of the parameters of the model\n",
    "    cache: a dictionary containing Z1, A1, Z2 and A2\n",
    "    X: input data of shape (2, number of example)\n",
    "    Y: \"true\" label vector of shape (1, number of example)\n",
    "    \n",
    "    Return:\n",
    "    grad: dictionary of the gradients of each model parameters\n",
    "    \"\"\"\n",
    "\n",
    "    m = len(Y)\n",
    "    \n",
    "    W1 = parameters[\"W1\"]\n",
    "    b1 = parameters[\"b1\"]\n",
    "    W2 = parameters[\"W2\"]\n",
    "    b2 = parameters[\"b2\"]\n",
    "\n",
    "    Z1 = cache[\"Z1\"]\n",
    "    A1 = cache[\"A1\"]\n",
    "    Z2 = cache[\"Z2\"]\n",
    "    A2 = cache[\"A2\"]\n",
    "\n",
    "    # Backpropagation\n",
    "    dA2 = (2/m) * (A2 - Y) # (1, m)\n",
    "    dZ2 = dA2 # (1,m)\n",
    "    dW2 = dZ2 @ A1.T #(1, n_h)\n",
    "    db2 = np.sum(dZ2, axis=1, keepdims=True) # (1,1)\n",
    "    dA1 = W2.T @ dZ2 # (n_h, m)\n",
    "    dZ1 = dA1 * (1 - np.power(A1,2)) # (n_h, m)\n",
    "    dW1 = dZ1 @ X.T # (n_h, n_in)\n",
    "    db1 = np.sum(dZ1, axis=1, keepdims=True) # (1, n_h)\n",
    "\n",
    "    grads = {\"dW1\":dW1,\n",
    "            \"db1\":db1,\n",
    "            \"dW2\":dW2,\n",
    "            \"db2\":db2}\n",
    "\n",
    "    return grads"
   ]
  },
  {
   "cell_type": "code",
   "execution_count": null,
   "id": "cf4d37a5-fd85-44d5-a3e4-ed38139247b2",
   "metadata": {},
   "outputs": [],
   "source": []
  },
  {
   "cell_type": "code",
   "execution_count": 17,
   "id": "443e2534-189d-4105-a98b-eb216b6be6ff",
   "metadata": {},
   "outputs": [
    {
     "data": {
      "text/plain": [
       "{'W1': array([[0.37454012, 0.95071431],\n",
       "        [0.73199394, 0.59865848],\n",
       "        [0.15601864, 0.15599452],\n",
       "        [0.05808361, 0.86617615]]),\n",
       " 'b1': array([[0.60111501],\n",
       "        [0.70807258],\n",
       "        [0.02058449],\n",
       "        [0.96990985]]),\n",
       " 'W2': array([[0.83244264, 0.21233911, 0.18182497, 0.18340451]]),\n",
       " 'b2': array([[0.30424224]])}"
      ]
     },
     "execution_count": 17,
     "metadata": {},
     "output_type": "execute_result"
    }
   ],
   "source": [
    "parameters = initialize_parameters(2, 4, 1)\n",
    "parameters"
   ]
  },
  {
   "cell_type": "code",
   "execution_count": 27,
   "id": "50f8130c-e318-40df-9333-36ea465fc624",
   "metadata": {},
   "outputs": [],
   "source": [
    "A2, cache = forward_propagation(X, parameters)"
   ]
  },
  {
   "cell_type": "code",
   "execution_count": 10,
   "id": "e7330067-cbe4-4369-adf3-afce98bf7fcc",
   "metadata": {},
   "outputs": [
    {
     "data": {
      "text/plain": [
       "83.49252631890171"
      ]
     },
     "execution_count": 10,
     "metadata": {},
     "output_type": "execute_result"
    }
   ],
   "source": [
    "loss = compute_loss(A2, y)\n",
    "loss"
   ]
  },
  {
   "cell_type": "code",
   "execution_count": 11,
   "id": "32fd61a5-357e-45dd-b0e7-f498ade73c7e",
   "metadata": {
    "scrolled": true
   },
   "outputs": [
    {
     "data": {
      "text/plain": [
       "{'dW1': array([[-5.94805962, -0.12453439],\n",
       "        [-1.09901028, -0.13594957],\n",
       "        [-2.54652659, -1.24963944],\n",
       "        [-1.74885154, -0.3764352 ]]),\n",
       " 'db1': array([[-2.60164001],\n",
       "        [-0.73892429],\n",
       "        [-0.6459632 ],\n",
       "        [-0.5018723 ]]),\n",
       " 'dW2': array([[ -7.94691747, -10.16054875,  -3.58696793,  -5.22791224]]),\n",
       " 'db2': array([[-3.18176479]])}"
      ]
     },
     "execution_count": 11,
     "metadata": {},
     "output_type": "execute_result"
    }
   ],
   "source": [
    "grads = backward_propagation(parameters=parameters, cache=cache, X=X, Y=y)\n",
    "grads"
   ]
  },
  {
   "cell_type": "code",
   "execution_count": 12,
   "id": "8b7f9a1f-44d0-41c8-ac2d-dee13ef9a934",
   "metadata": {},
   "outputs": [
    {
     "name": "stdout",
     "output_type": "stream",
     "text": [
      "Numerically approximated gradient of the parameter W[0][0] is:-5.948061243543634\n",
      "Gradient of W[0][0] calculated by backprop: -5.948059621818693\n",
      "-1.6217249410033219e-06\n"
     ]
    }
   ],
   "source": [
    "## manual gradient check\n",
    "## lets check the gradient calculation of W1[0][0]\n",
    "## making a copy of parameters\n",
    "import copy\n",
    "\n",
    "check_params = copy.deepcopy(parameters)\n",
    "\n",
    "## nudging the W[0][0] parameter by 0.00000001\n",
    "check_params[\"W1\"][0][0] = check_params[\"W1\"][0][0] + 0.00000001\n",
    "\n",
    "## forward pass and loss\n",
    "check_A2, check_cache = forward_propagation(parameters=check_params, X=X)\n",
    "check_loss = compute_loss(A2=check_A2, Y=y)\n",
    "\n",
    "# manually computing gradient of parameter W[0][0]\n",
    "gradient = (check_loss - loss)/ 0.00000001\n",
    "\n",
    "print(f\"Numerically approximated gradient of the parameter W[0][0] is:{gradient}\")\n",
    "print(f\"Gradient of W[0][0] calculated by backprop: {grads['dW1'][0][0]}\")\n",
    "print(gradient - grads['dW1'][0][0])"
   ]
  },
  {
   "cell_type": "code",
   "execution_count": 12,
   "id": "8e073f14-8645-43ec-9873-f64edb46adb8",
   "metadata": {},
   "outputs": [
    {
     "name": "stdout",
     "output_type": "stream",
     "text": [
      "[0.37454012 0.95071431 0.73199394 0.59865848 0.15601864 0.15599452\n",
      " 0.05808361 0.86617615 0.60111501 0.70807258 0.02058449 0.96990985\n",
      " 0.83244264 0.21233911 0.18182497 0.18340451 0.30424224]\n",
      "{'W1': array([[0.37454012, 0.95071431],\n",
      "       [0.73199394, 0.59865848],\n",
      "       [0.15601864, 0.15599452],\n",
      "       [0.05808361, 0.86617615]]), 'b1': array([[0.37454012],\n",
      "       [0.95071431],\n",
      "       [0.73199394],\n",
      "       [0.59865848]]), 'W2': array([[0.37454012, 0.95071431, 0.73199394, 0.59865848]]), 'b2': array([[0.37454012]])}\n"
     ]
    }
   ],
   "source": [
    "\n",
    "def check_grads(parameters=parameters, grads=grads):\n",
    "    \"\"\"\n",
    "    check the calculated gradients are correct\n",
    "    \"\"\"\n",
    "    eps = 0.00000001\n",
    "    params_theta = {}\n",
    "\n",
    "    \n",
    "    # convert parameter dictionary to a single vector\n",
    "    param_vector = dictionary_to_vector(parameters=parameters)\n",
    "    print(param_vector)\n",
    "\n",
    "    for i in range(len(param_vector)):\n",
    "        theta_minus = param_vector[i] - eps\n",
    "        theta_plus = param_vector[i] + eps\n",
    "\n",
    "        ## convert theta_minus and theta_plus vector to dictionary\n",
    "        dict_theta_minus = vector_to_dictionary(vector=theta_minus, parameters=parameters)\n",
    "        dict_theta_plus = vector_to_dictionary(vector=theta_plus, parameters=parameters)\n",
    "\n",
    "        ## TODO: forward pass and calculate loss\n",
    "        pred_minus = forward_propagation(X=X, parameters=dict_theta_minus)\n",
    "        loss_minus = compute_loss(A2=pred_minus[0], Y=y)\n",
    "        pred_plus = forward_propagation(X=X, parameters=dict_theta_plus)\n",
    "        loss_plus = compute_loss(A2=pred_plus[0], Y=y)\n",
    "        ## TODO: calculate gradient manually\n",
    "        np.\n",
    "        ## TODO: check correctness of the backpropagation\n",
    "    print(param_dictionary)\n",
    "\n",
    "check_grads(parameters = parameters, grads=grads)"
   ]
  },
  {
   "cell_type": "code",
   "execution_count": 14,
   "id": "404be72f-f6ea-4741-9784-8137d4ef9689",
   "metadata": {},
   "outputs": [
    {
     "data": {
      "text/plain": [
       "{'W1': array([[0.37454012, 0.95071431],\n",
       "        [0.73199394, 0.59865848],\n",
       "        [0.15601864, 0.15599452],\n",
       "        [0.05808361, 0.86617615]]),\n",
       " 'b1': array([[0.60111501],\n",
       "        [0.70807258],\n",
       "        [0.02058449],\n",
       "        [0.96990985]]),\n",
       " 'W2': array([[0.83244264, 0.21233911, 0.18182497, 0.18340451]]),\n",
       " 'b2': array([[0.30424224]])}"
      ]
     },
     "execution_count": 14,
     "metadata": {},
     "output_type": "execute_result"
    }
   ],
   "source": [
    "parameters"
   ]
  },
  {
   "cell_type": "code",
   "execution_count": 15,
   "id": "0b163317-bbbd-4648-9c50-3dbdb3077c62",
   "metadata": {},
   "outputs": [
    {
     "data": {
      "text/plain": [
       "(94.59291734864503, 94.5929173012015)"
      ]
     },
     "execution_count": 15,
     "metadata": {},
     "output_type": "execute_result"
    }
   ],
   "source": [
    "loss, check_loss"
   ]
  },
  {
   "cell_type": "code",
   "execution_count": null,
   "id": "5e33d635-8e9a-4e03-8702-48c879ef4dcb",
   "metadata": {},
   "outputs": [],
   "source": []
  }
 ],
 "metadata": {
  "kernelspec": {
   "display_name": "Python 3 (ipykernel)",
   "language": "python",
   "name": "python3"
  },
  "language_info": {
   "codemirror_mode": {
    "name": "ipython",
    "version": 3
   },
   "file_extension": ".py",
   "mimetype": "text/x-python",
   "name": "python",
   "nbconvert_exporter": "python",
   "pygments_lexer": "ipython3",
   "version": "3.10.12"
  }
 },
 "nbformat": 4,
 "nbformat_minor": 5
}
