{
 "cells": [
  {
   "cell_type": "markdown",
   "id": "4b74f1e0-4576-4249-b7d7-dc4699a06915",
   "metadata": {},
   "source": [
    "## Building Neural networks from scratch\n"
   ]
  },
  {
   "cell_type": "markdown",
   "id": "33aec01d-517a-4fe7-a6ba-496e77a369dd",
   "metadata": {},
   "source": [
    "### importing dependencies"
   ]
  },
  {
   "cell_type": "code",
   "execution_count": 1,
   "id": "2f222ce6-1e2c-49b6-b488-66e2f956af29",
   "metadata": {},
   "outputs": [],
   "source": [
    "import numpy as np\n",
    "import matplotlib.pyplot as plt\n",
    "from utils import dictionary_to_vector, vector_to_dictionary"
   ]
  },
  {
   "cell_type": "markdown",
   "id": "e0cec268-0a4b-452f-bafc-e76d12f2ff05",
   "metadata": {},
   "source": [
    "### building a toy dataset"
   ]
  },
  {
   "cell_type": "code",
   "execution_count": 2,
   "id": "827ce796-9410-4ef9-aecc-0806c6bd96fc",
   "metadata": {},
   "outputs": [
    {
     "data": {
      "text/plain": [
       "(array([[ 0.2302586 ,  0.98294761,  1.31128075, -1.12182841,  0.83843214,\n",
       "          1.57655699, -0.53047517,  0.44931875,  0.84361701,  1.5063021 ,\n",
       "         -0.46795129, -0.923719  , -0.35648465,  0.08237828,  0.37128483,\n",
       "         -0.31276731, -0.6011687 ,  0.19859087, -0.82642494, -0.21482989,\n",
       "          2.33566154,  0.42665084,  1.6459717 ,  1.0989447 ,  0.4416971 ,\n",
       "          0.22153134,  1.53567855, -0.84273795,  0.69342721, -0.91079734,\n",
       "          1.02930076,  0.9768837 ,  1.7372833 , -1.03465644, -1.05747867,\n",
       "          0.77421926, -0.01807498, -0.90690056, -0.7079184 , -1.51012943,\n",
       "          0.01766221,  1.34721175,  1.99310194, -0.24919523,  0.74371587,\n",
       "          0.13173812, -0.60422405,  1.13257483,  0.05927145, -1.07959204],\n",
       "        [-0.08133031,  0.44357861,  1.08227925, -0.27928983,  0.5524044 ,\n",
       "         -0.18404844, -1.19045726,  1.30546152,  0.48546004,  0.03717439,\n",
       "          0.75558982,  0.21211745, -0.38934474, -0.01797412, -1.40822148,\n",
       "          1.56927935,  1.14262522,  0.12808733,  0.67296113,  1.86261449,\n",
       "          1.13238319, -0.91532537, -0.26388627,  1.34005709,  1.40825446,\n",
       "         -0.26345724, -0.1748247 ,  1.69525367, -1.64197599, -0.88161331,\n",
       "          1.66923082,  1.26653893, -1.2274411 ,  0.98113404, -0.19297508,\n",
       "         -1.72505129, -0.30510183, -0.03319906, -2.4791411 ,  0.43139674,\n",
       "         -2.26097182, -0.37779155,  2.45202582,  0.82632688, -0.22746878,\n",
       "          0.28313061, -1.04259388, -0.17197901,  3.12031253,  0.84900259]]),\n",
       " array([  4.43541727,  13.08147397,  18.90164224,  -7.37107641,\n",
       "         12.46947909,  14.69221371,  -7.19608766,  13.12185758,\n",
       "         12.17623625,  15.23628874,   3.03433877,  -3.32916477,\n",
       "         -1.79860092,   3.56915563,  -1.07082875,   8.3442583 ,\n",
       "          3.90377652,   5.22916356,  -0.24659387,  10.59443331,\n",
       "         27.34720825,   1.83657988,  14.84834221,  18.49184307,\n",
       "         13.57484907,   3.45496448,  14.41130493,   4.73436472,\n",
       "          0.3375377 ,  -8.69444526,  19.58056023,  17.14776423,\n",
       "         10.76106089,  -0.37158131,  -6.42470478,   0.5684976 ,\n",
       "          1.32989099,  -4.42119974, -15.05905272,  -6.92405173,\n",
       "         -8.16356142,  11.8887362 ,  31.20494461,   5.13807259,\n",
       "          7.81238305,   5.46955799,  -7.04676175,  11.20070354,\n",
       "         19.07573426,  -1.39172336]))"
      ]
     },
     "execution_count": 2,
     "metadata": {},
     "output_type": "execute_result"
    }
   ],
   "source": [
    "X = np.random.randn(2,50)\n",
    "y = X[0,:] * 8 + X[1,:] * 5 + 3\n",
    "X, y"
   ]
  },
  {
   "cell_type": "code",
   "execution_count": 3,
   "id": "1963db12-17c8-49b6-b9ce-a3c82b734b57",
   "metadata": {},
   "outputs": [
    {
     "data": {
      "text/plain": [
       "<matplotlib.collections.PathCollection at 0x7f4eacf05f60>"
      ]
     },
     "execution_count": 3,
     "metadata": {},
     "output_type": "execute_result"
    },
    {
     "data": {
      "image/png": "[encoded data removed]",
      "text/plain": [
       "<Figure size 640x480 with 1 Axes>"
      ]
     },
     "metadata": {},
     "output_type": "display_data"
    }
   ],
   "source": [
    "plt.scatter(x=X[0,:],y=y)\n",
    "plt.scatter(x=X[1,:],y=y)"
   ]
  },
  {
   "cell_type": "markdown",
   "id": "bce520ab-a7aa-42e5-9bb3-b95c138140a8",
   "metadata": {},
   "source": [
    "### Building neural network with one hidden layer"
   ]
  },
  {
   "cell_type": "code",
   "execution_count": 4,
   "id": "217d1c94-3417-4d5c-8c70-768d08fd87f8",
   "metadata": {},
   "outputs": [],
   "source": [
    "def initialize_parameters(n_in, n_h, n_out):\n",
    "    \"\"\"\n",
    "    initializes model parameters.\n",
    "\n",
    "    Arguments:\n",
    "    n_in: number of input units\n",
    "    n_h: number of hidden units\n",
    "    n_out: number of output units\n",
    "\n",
    "    Return:\n",
    "    parameters: dictionary of all the randomly intialized parameters\n",
    "    \n",
    "    \"\"\"\n",
    "\n",
    "    np.random.seed(42)\n",
    "\n",
    "    W1 = np.random.rand(n_h, n_in)\n",
    "    b1 = np.random.rand(n_h, 1)\n",
    "    W2 = np.random.rand(n_out, n_h)\n",
    "    b2 = np.random.rand(n_out, 1)\n",
    "\n",
    "    parameters = {\"W1\":W1,\n",
    "                  \"b1\":b1,\n",
    "                  \"W2\":W2,\n",
    "                  \"b2\":b2}\n",
    "    \n",
    "    return parameters"
   ]
  },
  {
   "cell_type": "code",
   "execution_count": 5,
   "id": "cf38a017-e403-4c00-95af-c74721dc605e",
   "metadata": {},
   "outputs": [],
   "source": [
    "def forward_propagation(X, parameters):\n",
    "    \"\"\"\n",
    "    Arguments:\n",
    "    X: input data of shape (n_x, m)\n",
    "    parameters: randomly initialized model parameters\n",
    "\n",
    "    Return:\n",
    "    A2 = sigmoid output of second activation\n",
    "    cache = dictionary of Z1, A1, Z2 and A2\n",
    "    \"\"\"\n",
    "    W1 = parameters[\"W1\"]\n",
    "    b1 = parameters[\"b1\"]\n",
    "    W2 = parameters[\"W2\"]\n",
    "    b2 = parameters[\"b2\"]\n",
    "\n",
    "    # Forward pass\n",
    "    Z1 = W1 @ X\n",
    "    A1 = np.tanh(Z1)\n",
    "    Z2 = W2 @ A1\n",
    "    A2 = Z2\n",
    "\n",
    "    cache = {\"Z1\":Z1,\n",
    "             \"A1\":A1,\n",
    "             \"Z2\":Z2,\n",
    "             \"A2\":A2}\n",
    "\n",
    "    return A2, cache"
   ]
  },
  {
   "cell_type": "code",
   "execution_count": 6,
   "id": "d368e722-fd01-45f8-95f6-d61764878377",
   "metadata": {},
   "outputs": [],
   "source": [
    "def compute_loss(A2, Y):\n",
    "    \"\"\"\n",
    "    compute Mean Squared Error loss of the model\n",
    "    Arguments:\n",
    "    A2: Prediction of the model\n",
    "    Y: \"true\" label vactor of shape (1, number of samples)\n",
    "\n",
    "    Return:\n",
    "    loss: computed scalar loss of the model\n",
    "    \"\"\"\n",
    "\n",
    "    m = len(Y)\n",
    "    loss = 1/m * np.sum((A2 - Y) ** 2)\n",
    "    return loss"
   ]
  },
  {
   "cell_type": "code",
   "execution_count": 7,
   "id": "528185aa-0cbb-4cba-8a2b-23104670a520",
   "metadata": {},
   "outputs": [],
   "source": [
    "def backward_propagation(parameters, cache, X, Y):\n",
    "    \"\"\" computes gradient of the model parameters\n",
    "    \n",
    "    Arguments:\n",
    "    parameters: dictionary of the parameters of the model\n",
    "    cache: a dictionary containing Z1, A1, Z2 and A2\n",
    "    X: input data of shape (2, number of example)\n",
    "    Y: \"true\" label vector of shape (1, number of example)\n",
    "    \n",
    "    Return:\n",
    "    grad: dictionary of the gradients of each model parameters\n",
    "    \"\"\"\n",
    "\n",
    "    m = len(Y)\n",
    "    \n",
    "    W1 = parameters[\"W1\"]\n",
    "    b1 = parameters[\"b1\"]\n",
    "    W2 = parameters[\"W2\"]\n",
    "    b2 = parameters[\"b2\"]\n",
    "\n",
    "    Z1 = cache[\"Z1\"]\n",
    "    A1 = cache[\"A1\"]\n",
    "    Z2 = cache[\"Z2\"]\n",
    "    A2 = cache[\"A2\"]\n",
    "\n",
    "    # Backpropagation\n",
    "    dA2 = (2/m) * (A2 - Y) # (1, m)\n",
    "    dZ2 = dA2 # (1,m)\n",
    "    dW2 = dZ2 @ A1.T #(1, n_h)\n",
    "    db2 = np.sum(dZ2, axis=1, keepdims=True) # (1,1)\n",
    "    dA1 = W2.T @ dZ2 # (n_h, m)\n",
    "    dZ1 = dA1 * (1 - np.power(A1,2)) # (n_h, m)\n",
    "    dW1 = dZ1 @ X.T # (n_h, n_in)\n",
    "    db1 = np.sum(dZ1, axis=1, keepdims=True) # (1, n_h)\n",
    "\n",
    "    grads = {\"dW1\":dW1,\n",
    "            \"db1\":db1,\n",
    "            \"dW2\":dW2,\n",
    "            \"db2\":db2}\n",
    "\n",
    "    return grads"
   ]
  },
  {
   "cell_type": "code",
   "execution_count": null,
   "id": "cf4d37a5-fd85-44d5-a3e4-ed38139247b2",
   "metadata": {},
   "outputs": [],
   "source": []
  },
  {
   "cell_type": "code",
   "execution_count": 8,
   "id": "443e2534-189d-4105-a98b-eb216b6be6ff",
   "metadata": {},
   "outputs": [
    {
     "data": {
      "text/plain": [
       "{'W1': array([[0.37454012, 0.95071431],\n",
       "        [0.73199394, 0.59865848],\n",
       "        [0.15601864, 0.15599452],\n",
       "        [0.05808361, 0.86617615]]),\n",
       " 'b1': array([[0.60111501],\n",
       "        [0.70807258],\n",
       "        [0.02058449],\n",
       "        [0.96990985]]),\n",
       " 'W2': array([[0.83244264, 0.21233911, 0.18182497, 0.18340451]]),\n",
       " 'b2': array([[0.30424224]])}"
      ]
     },
     "execution_count": 8,
     "metadata": {},
     "output_type": "execute_result"
    }
   ],
   "source": [
    "parameters = initialize_parameters(2, 4, 1)\n",
    "parameters"
   ]
  },
  {
   "cell_type": "code",
   "execution_count": 9,
   "id": "50f8130c-e318-40df-9333-36ea465fc624",
   "metadata": {},
   "outputs": [
    {
     "data": {
      "text/plain": [
       "array([[ 0.02652253,  0.82426952,  1.1580249 , -0.74988482,  0.85456342,\n",
       "         0.51923194, -1.08565359,  1.10841013,  0.81254385,  0.68341598,\n",
       "         0.54570439, -0.22183   , -0.56825554,  0.02181844, -0.98548684,\n",
       "         1.05721161,  0.78228632,  0.23922513,  0.3083675 ,  1.15028895,\n",
       "         1.24595646, -0.68997767,  0.47158643,  1.19334412,  1.13531158,\n",
       "        -0.17728421,  0.51271118,  0.98397297, -0.9999491 , -1.03830125,\n",
       "         1.23930823,  1.16588806, -0.41332852,  0.49714063, -0.66205509,\n",
       "        -1.010984  , -0.33786636, -0.4630719 , -1.29091155, -0.25406725,\n",
       "        -1.23234709,  0.2388761 ,  1.32846405,  0.69054682,  0.1205772 ,\n",
       "         0.36887219, -1.04610035,  0.35584409,  1.29671043,  0.36101256]])"
      ]
     },
     "execution_count": 9,
     "metadata": {},
     "output_type": "execute_result"
    }
   ],
   "source": [
    "A2, cache = forward_propagation(X, parameters)\n",
    "A2"
   ]
  },
  {
   "cell_type": "code",
   "execution_count": 10,
   "id": "e7330067-cbe4-4369-adf3-afce98bf7fcc",
   "metadata": {},
   "outputs": [
    {
     "data": {
      "text/plain": [
       "117.65663882724962"
      ]
     },
     "execution_count": 10,
     "metadata": {},
     "output_type": "execute_result"
    }
   ],
   "source": [
    "loss = compute_loss(A2, y)\n",
    "loss"
   ]
  },
  {
   "cell_type": "code",
   "execution_count": 11,
   "id": "32fd61a5-357e-45dd-b0e7-f498ade73c7e",
   "metadata": {
    "scrolled": true
   },
   "outputs": [
    {
     "data": {
      "text/plain": [
       "{'dW1': array([[-6.30152107, -0.6480525 ],\n",
       "        [-1.06050329, -0.45643699],\n",
       "        [-2.74719164, -2.21418136],\n",
       "        [-1.79336237, -0.46660473]]),\n",
       " 'db1': array([[-4.13447802],\n",
       "        [-0.9257509 ],\n",
       "        [-1.87152279],\n",
       "        [-1.13217482]]),\n",
       " 'dW2': array([[-10.96429014, -12.8063144 ,  -4.77885803,  -8.07653343]]),\n",
       " 'db2': array([[-11.57698194]])}"
      ]
     },
     "execution_count": 11,
     "metadata": {},
     "output_type": "execute_result"
    }
   ],
   "source": [
    "grads = backward_propagation(parameters=parameters, cache=cache, X=X, Y=y)\n",
    "grads"
   ]
  },
  {
   "cell_type": "code",
   "execution_count": 12,
   "id": "8b7f9a1f-44d0-41c8-ac2d-dee13ef9a934",
   "metadata": {},
   "outputs": [
    {
     "name": "stdout",
     "output_type": "stream",
     "text": [
      "Numerically approximated gradient of the parameter W[0][0] is:-6.3015221485329675\n",
      "Gradient of W[0][0] calculated by backprop: -6.301521069526943\n",
      "-1.0790060249732392e-06\n"
     ]
    }
   ],
   "source": [
    "## manual gradient check\n",
    "## lets check the gradient calculation of W1[0][0]\n",
    "## making a copy of parameters\n",
    "import copy\n",
    "\n",
    "check_params = copy.deepcopy(parameters)\n",
    "\n",
    "## nudging the W[0][0] parameter by 0.00000001\n",
    "check_params[\"W1\"][0][0] = check_params[\"W1\"][0][0] + 0.00000001\n",
    "\n",
    "## forward pass and loss\n",
    "check_A2, check_cache = forward_propagation(parameters=check_params, X=X)\n",
    "check_loss = compute_loss(A2=check_A2, Y=y)\n",
    "\n",
    "# manually computing gradient of parameter W[0][0]\n",
    "gradient = (check_loss - loss)/ 0.00000001\n",
    "\n",
    "print(f\"Numerically approximated gradient of the parameter W[0][0] is:{gradient}\")\n",
    "print(f\"Gradient of W[0][0] calculated by backprop: {grads['dW1'][0][0]}\")\n",
    "print(gradient - grads['dW1'][0][0])"
   ]
  },
  {
   "cell_type": "code",
   "execution_count": 21,
   "id": "8e073f14-8645-43ec-9873-f64edb46adb8",
   "metadata": {},
   "outputs": [
    {
     "name": "stdout",
     "output_type": "stream",
     "text": [
      "17\n",
      "[[ 1.90306362e-09  1.73385797e-08  1.98857386e-08 -1.73304731e-08\n",
      "   1.70379670e-08  1.78471633e-08 -1.83576772e-08  1.84628535e-08\n",
      "   1.66644001e-08  1.87672820e-08  7.26103933e-09 -9.64354718e-09\n",
      "  -1.13929793e-08  8.92259482e-10 -1.58229243e-08  1.70661352e-08\n",
      "   1.16205050e-08  5.30534433e-09  8.13588474e-10  1.84790065e-08\n",
      "   2.05658917e-08 -1.02156559e-08  1.78208448e-08  1.97288463e-08\n",
      "   1.87116571e-08 -1.70527531e-09  1.75271828e-08  1.55779443e-08\n",
      "  -1.59072011e-08 -1.86984170e-08  1.98150061e-08  1.95044856e-08\n",
      "   5.83556703e-10  4.10283918e-09 -1.62067355e-08 -1.61125888e-08\n",
      "  -5.89239485e-09 -1.30383374e-08 -1.99007690e-08 -1.41275756e-08\n",
      "  -1.94499070e-08  1.27692148e-08  2.00414907e-08  1.07927982e-08\n",
      "   6.79372913e-09  7.05642633e-09 -1.81190929e-08  1.30313276e-08\n",
      "   1.99033252e-08  7.42224837e-10]]\n",
      "[[ 1.77658180e-09  1.69876504e-08  1.98692334e-08 -1.64842628e-08\n",
      "   1.69391310e-08  1.44224745e-08 -1.81947351e-08  1.81630275e-08\n",
      "   1.64988940e-08  1.63833005e-08  6.45862508e-09 -8.44167458e-09\n",
      "  -1.14340490e-08  8.55376048e-10 -1.35446416e-08  1.48765587e-08\n",
      "   9.18808296e-09  5.29286742e-09  5.41651307e-10  1.66419656e-08\n",
      "   2.03234540e-08 -8.92523855e-09  1.38773002e-08  1.97423597e-08\n",
      "   1.83537283e-08 -1.83038318e-09  1.42799836e-08  1.08560496e-08\n",
      "  -1.20100989e-08 -1.87241187e-08  1.97652392e-08  1.95131951e-08\n",
      "   2.69053579e-09  2.16682028e-09 -1.52750252e-08 -1.17488206e-08\n",
      "  -5.96365046e-09 -1.20959918e-08 -1.96718299e-08 -1.06368718e-08\n",
      "  -1.83436057e-08  1.00503796e-08  2.00408143e-08  1.00158533e-08\n",
      "   6.04186623e-09  7.11613768e-09 -1.80757600e-08  1.12087111e-08\n",
      "   1.93798746e-08 -6.49805765e-11]]\n",
      "[[ 4.78057005e-09  1.24082260e-08  1.08392129e-08 -1.34214986e-08\n",
      "   1.15498142e-08  1.60450717e-08 -8.86141960e-09  8.36007752e-09\n",
      "   1.18082055e-08  1.46096211e-08 -7.89476540e-09 -1.53861606e-08\n",
      "  -7.67676112e-09  1.76349312e-09  1.97089456e-09  1.43715262e-10\n",
      "  -9.09143538e-09  4.61425126e-09 -1.55684496e-08  3.20252136e-09\n",
      "   1.13493828e-08  6.15663565e-09  1.64744960e-08  1.03697642e-08\n",
      "   8.32524538e-09  4.08148176e-09  1.60871545e-08 -1.10878393e-08\n",
      "   7.66509078e-09 -1.07823654e-08  1.01711266e-08  1.02496096e-08\n",
      "   2.66703238e-08 -1.92829660e-08 -1.37900944e-08  8.99160590e-09\n",
      "  -1.33825750e-09 -1.40737036e-08 -1.01446425e-08 -1.83949154e-08\n",
      "  -6.64593403e-09  1.80911114e-08  1.24365029e-08 -2.50904508e-09\n",
      "   1.36312676e-08  3.62839547e-09 -9.38083211e-09  1.62145770e-08\n",
      "   9.27370047e-09 -1.96977354e-08]]\n",
      "[[-2.66463740e-09  1.19179715e-08  1.83986173e-08 -8.22545854e-09\n",
      "   1.44589107e-08 -2.72852785e-09 -2.38462350e-08  2.51685994e-08\n",
      "   1.31980902e-08  2.62639444e-09  2.53188827e-08  5.61234414e-09\n",
      "  -1.27223039e-08 -5.56597705e-10 -3.63011159e-08  3.61379839e-08\n",
      "   3.53214032e-08  4.75669126e-09  2.20696924e-08  3.42849158e-08\n",
      "   1.68414944e-08 -2.93882830e-08 -4.60412009e-09  2.06085191e-08\n",
      "   2.55753989e-08 -9.25066113e-09 -2.59812483e-09  4.54122073e-08\n",
      "  -4.27341371e-08 -1.86239129e-08  2.17169323e-08  2.09468680e-08\n",
      "  -3.26270682e-08  3.12918651e-08 -6.30684394e-09 -4.45059865e-08\n",
      "  -1.07695987e-08 -2.03363215e-09 -2.28190609e-08  9.87028892e-09\n",
      "  -2.95324432e-08 -9.11053477e-09  2.00834638e-08  2.63776614e-08\n",
      "  -6.73008288e-09  9.97278560e-09 -2.21983365e-08 -3.67013753e-09\n",
      "   2.47921497e-08  2.66593773e-08]]\n",
      "[[ 3.36913844e-09  1.37003728e-08  1.67507079e-08 -1.56630056e-08\n",
      "   1.17143057e-08  2.20245262e-08 -7.23218418e-09  6.10865536e-09\n",
      "   1.18343169e-08  2.08211508e-08 -6.83698287e-09 -1.33577915e-08\n",
      "  -5.14887044e-09  1.20588622e-09  5.29580202e-09 -4.40737979e-09\n",
      "  -8.73856720e-09  2.89980767e-09 -1.20918183e-08 -2.94611047e-09\n",
      "   2.58565751e-08  6.20996987e-09  2.30101767e-08  1.39668344e-08\n",
      "   5.95638294e-09  3.24305341e-09  2.14983309e-08 -1.21219943e-08\n",
      "   9.93267602e-09 -1.23433896e-08  1.26847941e-08  1.26833966e-08\n",
      "   2.52732462e-08 -1.51461827e-08 -1.49067749e-08  1.10887888e-08\n",
      "  -2.63944200e-10 -1.29953382e-08 -8.17183121e-09 -2.14934481e-08\n",
      "   2.29324115e-10  1.92785760e-08  1.86673219e-08 -3.61878116e-09\n",
      "   1.08175712e-08  1.92057414e-09 -8.28668689e-09  1.62138198e-08\n",
      "   6.84941437e-10 -1.57846347e-08]]\n",
      "[[-1.19002322e-09  6.18262086e-09  1.38253715e-08 -3.89945365e-09\n",
      "   7.71801756e-09 -2.57115951e-09 -1.62299894e-08  1.77482362e-08\n",
      "   6.81006651e-09  5.13850074e-10  1.10395136e-08  3.06740544e-09\n",
      "  -5.62348368e-09 -2.63112317e-10 -2.00860955e-08  2.21135963e-08\n",
      "   1.66091605e-08  1.87032073e-09  9.84641590e-09  2.55433161e-08\n",
      "   1.25358706e-08 -1.33227038e-08 -3.68904884e-09  1.70312080e-08\n",
      "   1.89906233e-08 -3.85681739e-09 -2.44741272e-09  2.43846330e-08\n",
      "  -2.35197224e-08 -1.19478794e-08  2.05710999e-08  1.64441432e-08\n",
      "  -1.78562824e-08  1.43626762e-08 -2.72027800e-09 -2.47071217e-08\n",
      "  -4.45532056e-09 -4.75722461e-10 -2.86178787e-08  6.14000584e-09\n",
      "  -2.93562117e-08 -5.40619038e-09  2.29655868e-08  1.19998135e-08\n",
      "  -3.30860189e-09  4.12768375e-09 -1.42987506e-08 -2.46203302e-09\n",
      "   3.60583532e-08  1.24132035e-08]]\n",
      "[[ 2.74796487e-09  9.74471925e-09  6.45790910e-09 -1.22408579e-08\n",
      "   7.69462560e-09  1.87897602e-08 -2.42344300e-09  1.76229631e-09\n",
      "   8.16485013e-09  1.77792869e-08 -3.86965648e-09 -1.08747991e-08\n",
      "  -3.76491083e-09  9.86214395e-10  1.36002209e-09 -8.97725450e-10\n",
      "  -3.23556026e-09  2.34244557e-09 -7.52769341e-09 -3.86561450e-10\n",
      "   9.78222037e-09  2.97791380e-09  1.93631264e-08  3.85170740e-09\n",
      "   1.49445678e-09  2.53314780e-09  1.83159158e-08 -2.10706563e-09\n",
      "   1.85271798e-09 -5.96324701e-09  2.20441843e-09  3.85082011e-09\n",
      "   9.24687754e-09 -7.02025627e-09 -1.20222490e-08  1.83550264e-09\n",
      "  -2.01867689e-10 -1.07867865e-08 -4.15440571e-10 -1.66795906e-08\n",
      "   1.62185820e-11  1.51703505e-08  1.05843778e-09 -1.89093696e-09\n",
      "   8.69719924e-09  1.48059587e-09 -3.33284134e-09  1.34671175e-08\n",
      "   1.25512933e-11 -8.47614434e-09]]\n",
      "[[-9.70616684e-10  4.39753745e-09  5.33010280e-09 -3.04747760e-09\n",
      "   5.06963538e-09 -2.19353047e-09 -5.43853007e-09  5.12021825e-09\n",
      "   4.69846917e-09  4.38779235e-10  6.24824237e-09  2.49722554e-09\n",
      "  -4.11195322e-09 -2.15182122e-10 -5.15833687e-09  4.50425031e-09\n",
      "   6.14974249e-09  1.51083279e-09  6.12983087e-09  3.35155947e-09\n",
      "   4.74264894e-09 -6.38873709e-09 -3.10434456e-09  4.69678607e-09\n",
      "   4.76474815e-09 -3.01255862e-09 -2.08512030e-09  4.23857816e-09\n",
      "  -4.38707737e-09 -5.77217074e-09  3.57493501e-09  4.99262409e-09\n",
      "  -6.53318755e-09  6.65710098e-09 -2.19389240e-09 -4.08971479e-09\n",
      "  -3.40748235e-09 -3.94873689e-10 -1.45487800e-09  4.76483730e-09\n",
      "  -2.07614104e-09 -4.25414215e-09  1.30214950e-09  6.27031316e-09\n",
      "  -2.66007677e-09  3.18208560e-09 -5.75084647e-09 -2.04495243e-09\n",
      "   6.60755006e-10  6.66572975e-09]]\n",
      "[[0. 0. 0. 0. 0. 0. 0. 0. 0. 0. 0. 0. 0. 0. 0. 0. 0. 0. 0. 0. 0. 0. 0. 0.\n",
      "  0. 0. 0. 0. 0. 0. 0. 0. 0. 0. 0. 0. 0. 0. 0. 0. 0. 0. 0. 0. 0. 0. 0. 0.\n",
      "  0. 0.]]\n",
      "[[0. 0. 0. 0. 0. 0. 0. 0. 0. 0. 0. 0. 0. 0. 0. 0. 0. 0. 0. 0. 0. 0. 0. 0.\n",
      "  0. 0. 0. 0. 0. 0. 0. 0. 0. 0. 0. 0. 0. 0. 0. 0. 0. 0. 0. 0. 0. 0. 0. 0.\n",
      "  0. 0.]]\n",
      "[[0. 0. 0. 0. 0. 0. 0. 0. 0. 0. 0. 0. 0. 0. 0. 0. 0. 0. 0. 0. 0. 0. 0. 0.\n",
      "  0. 0. 0. 0. 0. 0. 0. 0. 0. 0. 0. 0. 0. 0. 0. 0. 0. 0. 0. 0. 0. 0. 0. 0.\n",
      "  0. 0.]]\n",
      "[[0. 0. 0. 0. 0. 0. 0. 0. 0. 0. 0. 0. 0. 0. 0. 0. 0. 0. 0. 0. 0. 0. 0. 0.\n",
      "  0. 0. 0. 0. 0. 0. 0. 0. 0. 0. 0. 0. 0. 0. 0. 0. 0. 0. 0. 0. 0. 0. 0. 0.\n",
      "  0. 0.]]\n",
      "[[0. 0. 0. 0. 0. 0. 0. 0. 0. 0. 0. 0. 0. 0. 0. 0. 0. 0. 0. 0. 0. 0. 0. 0.\n",
      "  0. 0. 0. 0. 0. 0. 0. 0. 0. 0. 0. 0. 0. 0. 0. 0. 0. 0. 0. 0. 0. 0. 0. 0.\n",
      "  0. 0.]]\n",
      "[[0. 0. 0. 0. 0. 0. 0. 0. 0. 0. 0. 0. 0. 0. 0. 0. 0. 0. 0. 0. 0. 0. 0. 0.\n",
      "  0. 0. 0. 0. 0. 0. 0. 0. 0. 0. 0. 0. 0. 0. 0. 0. 0. 0. 0. 0. 0. 0. 0. 0.\n",
      "  0. 0.]]\n",
      "[[0. 0. 0. 0. 0. 0. 0. 0. 0. 0. 0. 0. 0. 0. 0. 0. 0. 0. 0. 0. 0. 0. 0. 0.\n",
      "  0. 0. 0. 0. 0. 0. 0. 0. 0. 0. 0. 0. 0. 0. 0. 0. 0. 0. 0. 0. 0. 0. 0. 0.\n",
      "  0. 0.]]\n",
      "[[0. 0. 0. 0. 0. 0. 0. 0. 0. 0. 0. 0. 0. 0. 0. 0. 0. 0. 0. 0. 0. 0. 0. 0.\n",
      "  0. 0. 0. 0. 0. 0. 0. 0. 0. 0. 0. 0. 0. 0. 0. 0. 0. 0. 0. 0. 0. 0. 0. 0.\n",
      "  0. 0.]]\n",
      "[[0. 0. 0. 0. 0. 0. 0. 0. 0. 0. 0. 0. 0. 0. 0. 0. 0. 0. 0. 0. 0. 0. 0. 0.\n",
      "  0. 0. 0. 0. 0. 0. 0. 0. 0. 0. 0. 0. 0. 0. 0. 0. 0. 0. 0. 0. 0. 0. 0. 0.\n",
      "  0. 0.]]\n",
      "[[-13.03853949 -12.38115885  -9.09873137  -9.3706845  -10.60523616\n",
      "   -8.32418294  -5.60237225  -1.4076079    0.           0.\n",
      "    0.           0.           0.           0.           0.\n",
      "    0.           0.        ]] [[ -6.30152107  -0.6480525   -1.06050329  -0.45643699  -2.74719164\n",
      "   -2.21418136  -1.79336237  -0.46660473  -4.13447802  -0.9257509\n",
      "   -1.87152279  -1.13217482 -10.96429014 -12.8063144   -4.77885803\n",
      "   -8.07653343 -11.57698194]]\n",
      "0.6127737806232384\n",
      "\u001b[93mThere is a mistake in the backward propagation! difference = 0.6127737806232384\u001b[0m\n"
     ]
    }
   ],
   "source": [
    "\n",
    "def check_grads(parameters=parameters, grads=grads):\n",
    "    \"\"\"\n",
    "    check the calculated gradients are correct\n",
    "    \"\"\"\n",
    "    eps = 0.00000001\n",
    "    params_theta = {}\n",
    "\n",
    "    \n",
    "    # convert parameter dictionary to a single vector\n",
    "    param_vector = dictionary_to_vector(parameters=parameters)\n",
    "    grad_vector = dictionary_to_vector(grads)\n",
    "    gradapprox = np.zeros(grad_vector.shape)\n",
    "    print(param_vector.shape[1])\n",
    "\n",
    "    for i in range(param_vector.shape[1]):\n",
    "        theta_minus = np.copy(param_vector)\n",
    "        theta_minus[0][i] -= eps\n",
    "        theta_plus = np.copy(param_vector)\n",
    "        theta_plus[0][i] += eps\n",
    "        # print(theta_minus[0][i], theta_plus[0][i])\n",
    "        ## convert theta_minus and theta_plus vector to dictionary\n",
    "        theta_minus = vector_to_dictionary(vector=theta_minus[0], parameters=parameters)\n",
    "        theta_plus = vector_to_dictionary(vector=theta_plus[0], parameters=parameters)\n",
    "        ## TODO: forward pass and calculate loss\n",
    "        pred_minus = forward_propagation(X=X, parameters=theta_minus)\n",
    "        loss_minus = compute_loss(A2=pred_minus[0], Y=y)\n",
    "        pred_plus = forward_propagation(X=X, parameters=theta_plus)\n",
    "        loss_plus = compute_loss(A2=pred_plus[0], Y=y)\n",
    "        ## TODO: calculate gradient manually\n",
    "        gradapprox[0][i] = (loss_plus - loss_minus)/(2 * eps)\n",
    "        \n",
    "    ## TODO: check difference between manualy calculated gradient and gradients calculated using backpropagation\n",
    "    numerator = np.linalg.norm(grad_vector - gradapprox)\n",
    "    denominator = np.linalg.norm(grad_vector) + np.linalg.norm(gradapprox)\n",
    "    difference = numerator/denominator\n",
    "    print(gradapprox, grad_vector)\n",
    "    print(difference)\n",
    "    if difference > 2e-7:\n",
    "        print (\"\\033[93m\" + \"There is a mistake in the backward propagation! difference = \" + str(difference) + \"\\033[0m\")\n",
    "    else:\n",
    "        print (\"\\033[92m\" + \"Your backward propagation works perfectly fine! difference = \" + str(difference) + \"\\033[0m\")\n",
    "    \n",
    "\n",
    "check_grads(parameters = parameters, grads=grads)"
   ]
  },
  {
   "cell_type": "code",
   "execution_count": 14,
   "id": "404be72f-f6ea-4741-9784-8137d4ef9689",
   "metadata": {},
   "outputs": [
    {
     "data": {
      "text/plain": [
       "{'W1': array([[0.37454012, 0.95071431],\n",
       "        [0.73199394, 0.59865848],\n",
       "        [0.15601864, 0.15599452],\n",
       "        [0.05808361, 0.86617615]]),\n",
       " 'b1': array([[0.60111501],\n",
       "        [0.70807258],\n",
       "        [0.02058449],\n",
       "        [0.96990985]]),\n",
       " 'W2': array([[0.83244264, 0.21233911, 0.18182497, 0.18340451]]),\n",
       " 'b2': array([[0.30424224]])}"
      ]
     },
     "execution_count": 14,
     "metadata": {},
     "output_type": "execute_result"
    }
   ],
   "source": [
    "parameters"
   ]
  },
  {
   "cell_type": "code",
   "execution_count": 15,
   "id": "0b163317-bbbd-4648-9c50-3dbdb3077c62",
   "metadata": {},
   "outputs": [
    {
     "data": {
      "text/plain": [
       "(117.65663882724962, 117.6566387642344)"
      ]
     },
     "execution_count": 15,
     "metadata": {},
     "output_type": "execute_result"
    }
   ],
   "source": [
    "loss, check_loss"
   ]
  },
  {
   "cell_type": "code",
   "execution_count": null,
   "id": "5e33d635-8e9a-4e03-8702-48c879ef4dcb",
   "metadata": {},
   "outputs": [],
   "source": []
  },
  {
   "cell_type": "code",
   "execution_count": null,
   "id": "7ec70475-8373-4009-9a4e-ca3e5a54d8be",
   "metadata": {},
   "outputs": [],
   "source": []
  }
 ],
 "metadata": {
  "kernelspec": {
   "display_name": "Python 3 (ipykernel)",
   "language": "python",
   "name": "python3"
  },
  "language_info": {
   "codemirror_mode": {
    "name": "ipython",
    "version": 3
   },
   "file_extension": ".py",
   "mimetype": "text/x-python",
   "name": "python",
   "nbconvert_exporter": "python",
   "pygments_lexer": "ipython3",
   "version": "3.10.12"
  }
 },
 "nbformat": 4,
 "nbformat_minor": 5
}
