{
 "cells": [
  {
   "cell_type": "markdown",
   "id": "4b74f1e0-4576-4249-b7d7-dc4699a06915",
   "metadata": {},
   "source": [
    "## Building Neural networks from scratch\n"
   ]
  },
  {
   "cell_type": "markdown",
   "id": "33aec01d-517a-4fe7-a6ba-496e77a369dd",
   "metadata": {},
   "source": [
    "### importing dependencies"
   ]
  },
  {
   "cell_type": "code",
   "execution_count": 1,
   "id": "2f222ce6-1e2c-49b6-b488-66e2f956af29",
   "metadata": {},
   "outputs": [],
   "source": [
    "import numpy as np\n",
    "import matplotlib.pyplot as plt\n",
    "from utils import dictionary_to_vector, vector_to_dictionary"
   ]
  },
  {
   "cell_type": "markdown",
   "id": "e0cec268-0a4b-452f-bafc-e76d12f2ff05",
   "metadata": {},
   "source": [
    "### building a toy dataset"
   ]
  },
  {
   "cell_type": "code",
   "execution_count": 2,
   "id": "827ce796-9410-4ef9-aecc-0806c6bd96fc",
   "metadata": {},
   "outputs": [
    {
     "data": {
      "text/plain": [
       "(array([[-3.46516822e-01,  3.28366315e-01,  2.75543546e+00,\n",
       "         -1.39573010e+00, -1.45709752e+00,  8.53064417e-01,\n",
       "          1.76859449e-02,  2.56435372e-01, -8.81178349e-01,\n",
       "         -7.46367222e-01,  6.85604381e-01,  2.26186559e+00,\n",
       "         -1.92533204e+00, -1.29951202e+00,  5.16378815e-01,\n",
       "          1.28091829e+00, -2.51229977e-01, -3.29927693e-01,\n",
       "         -3.56851480e-01,  1.92169382e-01,  1.36035205e-01,\n",
       "          2.02845862e+00, -8.62854233e-02,  1.03102478e+00,\n",
       "          5.86276712e-01, -1.13082317e+00, -7.68238981e-01,\n",
       "         -7.19713471e-01, -3.31966003e-02,  2.35350627e+00,\n",
       "          2.86849467e-01,  1.46868576e-01, -3.09808803e-01,\n",
       "         -1.53749813e+00, -2.47206020e-01, -8.43631643e-01,\n",
       "         -3.14447445e-01,  3.76324371e-02,  8.37949812e-02,\n",
       "         -7.26366784e-01, -3.17203296e-01,  2.32037010e-01,\n",
       "         -1.52704391e-02, -4.98867069e-01,  6.21855046e-01,\n",
       "          5.03516418e-02,  2.75885728e-01,  4.14248263e-01,\n",
       "         -4.10227005e-01, -5.87034224e-01],\n",
       "        [-4.04140475e-02,  3.62408412e-01,  1.24540427e+00,\n",
       "         -1.37933671e+00,  9.66727223e-01,  2.94023398e-02,\n",
       "          3.52058392e-03,  7.68149019e-01, -3.24920934e-01,\n",
       "          1.10538890e+00, -5.34962894e-01, -7.17841563e-01,\n",
       "         -6.67505776e-01,  2.55323797e-02,  1.52376669e+00,\n",
       "         -6.00286980e-01, -1.47129039e+00, -8.17921337e-01,\n",
       "          2.00245205e-01,  1.01835978e+00,  1.60821787e-01,\n",
       "          1.29381643e+00,  1.46502827e+00,  5.58583112e-01,\n",
       "          1.89641393e+00,  1.48052785e-01,  3.25411838e-02,\n",
       "          1.82637210e-01,  5.12847429e-01,  3.32828082e-01,\n",
       "          6.19177021e-01,  7.43489856e-01, -1.27476299e+00,\n",
       "         -5.16235863e-01,  3.68900966e-01,  5.35248636e-01,\n",
       "          2.10868453e+00,  1.01852689e-03,  1.85651751e-01,\n",
       "         -1.59718454e+00,  7.88100165e-01,  3.49822856e-02,\n",
       "         -9.04186370e-01,  1.28053663e+00, -6.31439060e-01,\n",
       "          8.17357520e-01,  8.35177963e-01, -9.84971076e-01,\n",
       "          1.11126924e+00,  3.19050300e-01]]),\n",
       " array([ 2.57951869e-02,  7.43897258e+00,  3.12705051e+01, -1.50625244e+01,\n",
       "        -3.82314406e+00,  9.97152704e+00,  3.15909048e+00,  8.89222807e+00,\n",
       "        -5.67403147e+00,  2.55600672e+00,  5.81002058e+00,  1.75057169e+01,\n",
       "        -1.57401852e+01, -7.26843430e+00,  1.47498640e+01,  1.02459114e+01,\n",
       "        -6.36629174e+00, -3.72902823e+00,  1.14641418e+00,  9.62915397e+00,\n",
       "         4.89239058e+00,  2.56967511e+01,  9.63485796e+00,  1.40411138e+01,\n",
       "         1.71722834e+01, -5.30632140e+00, -2.98320593e+00, -1.84452171e+00,\n",
       "         5.29866434e+00,  2.34921906e+01,  8.39068084e+00,  7.89239789e+00,\n",
       "        -5.85228535e+00, -1.18811643e+01,  2.86685667e+00, -1.07280997e+00,\n",
       "         1.10278431e+01,  3.30615213e+00,  4.59861860e+00, -1.07968570e+01,\n",
       "         4.40287445e+00,  5.03120751e+00, -1.64309536e+00,  5.41174659e+00,\n",
       "         4.81764507e+00,  7.48960073e+00,  9.38297564e+00,  1.38913072e+00,\n",
       "         5.27453018e+00, -1.01022292e-01]))"
      ]
     },
     "execution_count": 2,
     "metadata": {},
     "output_type": "execute_result"
    }
   ],
   "source": [
    "X = np.random.randn(2,50)\n",
    "y = X[0,:] * 8 + X[1,:] * 5 + 3\n",
    "X, y"
   ]
  },
  {
   "cell_type": "code",
   "execution_count": 3,
   "id": "1963db12-17c8-49b6-b9ce-a3c82b734b57",
   "metadata": {},
   "outputs": [
    {
     "data": {
      "text/plain": [
       "<matplotlib.collections.PathCollection at 0x7fc577eb2cb0>"
      ]
     },
     "execution_count": 3,
     "metadata": {},
     "output_type": "execute_result"
    },
    {
     "data": {
      "image/png": "[encoded data removed]",
      "text/plain": [
       "<Figure size 640x480 with 1 Axes>"
      ]
     },
     "metadata": {},
     "output_type": "display_data"
    }
   ],
   "source": [
    "plt.scatter(x=X[0,:],y=y)\n",
    "plt.scatter(x=X[1,:],y=y)"
   ]
  },
  {
   "cell_type": "markdown",
   "id": "bce520ab-a7aa-42e5-9bb3-b95c138140a8",
   "metadata": {},
   "source": [
    "### Building neural network with one hidden layer"
   ]
  },
  {
   "cell_type": "code",
   "execution_count": 4,
   "id": "217d1c94-3417-4d5c-8c70-768d08fd87f8",
   "metadata": {},
   "outputs": [],
   "source": [
    "def initialize_parameters(n_in, n_h, n_out):\n",
    "    \"\"\"\n",
    "    initializes model parameters.\n",
    "\n",
    "    Arguments:\n",
    "    n_in: number of input units\n",
    "    n_h: number of hidden units\n",
    "    n_out: number of output units\n",
    "\n",
    "    Return:\n",
    "    parameters: dictionary of all the randomly intialized parameters\n",
    "    \n",
    "    \"\"\"\n",
    "\n",
    "    np.random.seed(42)\n",
    "\n",
    "    W1 = np.random.rand(n_h, n_in)\n",
    "    b1 = np.random.rand(n_h, 1)\n",
    "    W2 = np.random.rand(n_out, n_h)\n",
    "    b2 = np.random.rand(n_out, 1)\n",
    "\n",
    "    parameters = {\"W1\":W1,\n",
    "                  \"b1\":b1,\n",
    "                  \"W2\":W2,\n",
    "                  \"b2\":b2}\n",
    "    \n",
    "    return parameters"
   ]
  },
  {
   "cell_type": "code",
   "execution_count": 5,
   "id": "cf38a017-e403-4c00-95af-c74721dc605e",
   "metadata": {},
   "outputs": [],
   "source": [
    "def forward_propagation(X, parameters):\n",
    "    \"\"\"\n",
    "    Arguments:\n",
    "    X: input data of shape (n_x, m)\n",
    "    parameters: randomly initialized model parameters\n",
    "\n",
    "    Return:\n",
    "    A2 = sigmoid output of second activation\n",
    "    cache = dictionary of Z1, A1, Z2 and A2\n",
    "    \"\"\"\n",
    "    W1 = parameters[\"W1\"]\n",
    "    b1 = parameters[\"b1\"]\n",
    "    W2 = parameters[\"W2\"]\n",
    "    b2 = parameters[\"b2\"]\n",
    "\n",
    "    # Forward pass\n",
    "    Z1 = W1 @ X\n",
    "    A1 = np.tanh(Z1)\n",
    "    Z2 = W2 @ A1\n",
    "    A2 = Z2\n",
    "\n",
    "    cache = {\"Z1\":Z1,\n",
    "             \"A1\":A1,\n",
    "             \"Z2\":Z2,\n",
    "             \"A2\":A2}\n",
    "\n",
    "    return A2, cache"
   ]
  },
  {
   "cell_type": "code",
   "execution_count": 6,
   "id": "d368e722-fd01-45f8-95f6-d61764878377",
   "metadata": {},
   "outputs": [],
   "source": [
    "def compute_loss(A2, Y):\n",
    "    \"\"\"\n",
    "    compute Mean Squared Error loss of the model\n",
    "    Arguments:\n",
    "    A2: Prediction of the model\n",
    "    Y: \"true\" label vactor of shape (1, number of samples)\n",
    "\n",
    "    Return:\n",
    "    loss: computed scalar loss of the model\n",
    "    \"\"\"\n",
    "\n",
    "    m = len(Y)\n",
    "    loss = 1/m * np.sum((A2 - Y) ** 2)\n",
    "    return loss"
   ]
  },
  {
   "cell_type": "code",
   "execution_count": 7,
   "id": "528185aa-0cbb-4cba-8a2b-23104670a520",
   "metadata": {},
   "outputs": [],
   "source": [
    "def backward_propagation(parameters, cache, X, Y):\n",
    "    \"\"\" computes gradient of the model parameters\n",
    "    \n",
    "    Arguments:\n",
    "    parameters: dictionary of the parameters of the model\n",
    "    cache: a dictionary containing Z1, A1, Z2 and A2\n",
    "    X: input data of shape (2, number of example)\n",
    "    Y: \"true\" label vector of shape (1, number of example)\n",
    "    \n",
    "    Return:\n",
    "    grad: dictionary of the gradients of each model parameters\n",
    "    \"\"\"\n",
    "\n",
    "    m = len(Y)\n",
    "    \n",
    "    W1 = parameters[\"W1\"]\n",
    "    b1 = parameters[\"b1\"]\n",
    "    W2 = parameters[\"W2\"]\n",
    "    b2 = parameters[\"b2\"]\n",
    "\n",
    "    Z1 = cache[\"Z1\"]\n",
    "    A1 = cache[\"A1\"]\n",
    "    Z2 = cache[\"Z2\"]\n",
    "    A2 = cache[\"A2\"]\n",
    "\n",
    "    # Backpropagation\n",
    "    dA2 = (2/m) * (A2 - Y) # (1, m)\n",
    "    dZ2 = dA2 # (1,m)\n",
    "    dW2 = dZ2 @ A1.T #(1, n_h)\n",
    "    db2 = np.sum(dZ2, axis=1, keepdims=True) # (1,1)\n",
    "    dA1 = W2.T @ dZ2 # (n_h, m)\n",
    "    dZ1 = dA1 * (1 - np.power(A1,2)) # (n_h, m)\n",
    "    dW1 = dZ1 @ X.T # (n_h, n_in)\n",
    "    db1 = np.sum(dZ1, axis=1, keepdims=True) # (1, n_h)\n",
    "\n",
    "    grads = {\"dW1\":dW1,\n",
    "            \"db1\":db1,\n",
    "            \"dW2\":dW2,\n",
    "            \"db2\":db2}\n",
    "\n",
    "    return grads"
   ]
  },
  {
   "cell_type": "code",
   "execution_count": null,
   "id": "cf4d37a5-fd85-44d5-a3e4-ed38139247b2",
   "metadata": {},
   "outputs": [],
   "source": []
  },
  {
   "cell_type": "code",
   "execution_count": 8,
   "id": "443e2534-189d-4105-a98b-eb216b6be6ff",
   "metadata": {},
   "outputs": [
    {
     "data": {
      "text/plain": [
       "{'W1': array([[0.37454012, 0.95071431],\n",
       "        [0.73199394, 0.59865848],\n",
       "        [0.15601864, 0.15599452],\n",
       "        [0.05808361, 0.86617615]]),\n",
       " 'b1': array([[0.60111501],\n",
       "        [0.70807258],\n",
       "        [0.02058449],\n",
       "        [0.96990985]]),\n",
       " 'W2': array([[0.83244264, 0.21233911, 0.18182497, 0.18340451]]),\n",
       " 'b2': array([[0.30424224]])}"
      ]
     },
     "execution_count": 8,
     "metadata": {},
     "output_type": "execute_result"
    }
   ],
   "source": [
    "parameters = initialize_parameters(2, 4, 1)\n",
    "parameters"
   ]
  },
  {
   "cell_type": "code",
   "execution_count": 9,
   "id": "50f8130c-e318-40df-9333-36ea465fc624",
   "metadata": {},
   "outputs": [
    {
     "data": {
      "text/plain": [
       "array([[-0.2173051 ,  0.53240239,  1.27926659, -1.22407057,  0.30392064,\n",
       "         0.43699092,  0.01284564,  0.82318893, -0.70788384,  0.7063792 ,\n",
       "        -0.23622638,  0.274148  , -1.10941557, -0.56084793,  1.17103475,\n",
       "        -0.02225433, -1.12484684, -0.87542834,  0.04070485,  0.94720094,\n",
       "         0.24366074,  1.25125136,  1.06708186,  0.90742795,  1.2364374 ,\n",
       "        -0.37900476, -0.33812597, -0.15739286,  0.51649744,  1.04247903,\n",
       "         0.72985273,  0.77151323, -1.07629931, -0.99192357,  0.2764421 ,\n",
       "         0.16053962,  1.18299723,  0.02017456,  0.24461689, -1.20560071,\n",
       "         0.63465102,  0.15517446, -0.83458975,  0.89291546, -0.36300972,\n",
       "         0.78988453,  0.87031895, -0.74401631,  0.82620379,  0.05555073]])"
      ]
     },
     "execution_count": 9,
     "metadata": {},
     "output_type": "execute_result"
    }
   ],
   "source": [
    "A2, cache = forward_propagation(X, parameters)\n",
    "A2"
   ]
  },
  {
   "cell_type": "code",
   "execution_count": 10,
   "id": "e7330067-cbe4-4369-adf3-afce98bf7fcc",
   "metadata": {},
   "outputs": [
    {
     "data": {
      "text/plain": [
       "94.59291734864503"
      ]
     },
     "execution_count": 10,
     "metadata": {},
     "output_type": "execute_result"
    }
   ],
   "source": [
    "loss = compute_loss(A2, y)\n",
    "loss"
   ]
  },
  {
   "cell_type": "code",
   "execution_count": 11,
   "id": "32fd61a5-357e-45dd-b0e7-f498ade73c7e",
   "metadata": {
    "scrolled": true
   },
   "outputs": [
    {
     "data": {
      "text/plain": [
       "{'dW1': array([[-4.74435491, -1.22221401],\n",
       "        [-0.69180527, -0.60940163],\n",
       "        [-2.39394493, -1.65735601],\n",
       "        [-1.62857506, -0.61995451]]),\n",
       " 'db1': array([[-3.26705248],\n",
       "        [-0.88332036],\n",
       "        [-1.2961011 ],\n",
       "        [-0.82601029]]),\n",
       " 'dW2': array([[ -9.51210309, -10.39017973,  -3.86881036,  -7.04472041]]),\n",
       " 'db2': array([[-7.86125133]])}"
      ]
     },
     "execution_count": 11,
     "metadata": {},
     "output_type": "execute_result"
    }
   ],
   "source": [
    "grads = backward_propagation(parameters=parameters, cache=cache, X=X, Y=y)\n",
    "grads"
   ]
  },
  {
   "cell_type": "code",
   "execution_count": 12,
   "id": "8e073f14-8645-43ec-9873-f64edb46adb8",
   "metadata": {},
   "outputs": [
    {
     "name": "stdout",
     "output_type": "stream",
     "text": [
      "[0.37454012 0.95071431 0.73199394 0.59865848 0.15601864 0.15599452\n",
      " 0.05808361 0.86617615 0.60111501 0.70807258 0.02058449 0.96990985\n",
      " 0.83244264 0.21233911 0.18182497 0.18340451 0.30424224]\n",
      "{'W1': array([[0.37454012, 0.95071431],\n",
      "       [0.73199394, 0.59865848],\n",
      "       [0.15601864, 0.15599452],\n",
      "       [0.05808361, 0.86617615]]), 'b1': array([[0.37454012],\n",
      "       [0.95071431],\n",
      "       [0.73199394],\n",
      "       [0.59865848]]), 'W2': array([[0.37454012, 0.95071431, 0.73199394, 0.59865848]]), 'b2': array([[0.37454012]])}\n"
     ]
    }
   ],
   "source": [
    "\n",
    "def check_grads(parameters=parameters, grads=grads):\n",
    "    \"\"\"\n",
    "    check the calculated gradients are correct\n",
    "    \"\"\"\n",
    "    eps = 0.00000001\n",
    "    params_theta = {}\n",
    "\n",
    "    \n",
    "    # convert parameter dictionary to a single vector\n",
    "    param_vector = dictionary_to_vector(parameters=parameters)\n",
    "    print(param_vector)\n",
    "\n",
    "    for i in range(len(param_vector)):\n",
    "        theta_minus = param_vector[i] - eps\n",
    "        theta_plus = param_vector[i] + eps\n",
    "\n",
    "        ## convert theta_minus and theta_plus vector to dictionary\n",
    "        dict_theta_minus = vector_to_dictionary(vector=theta_minus, parameters=parameters)\n",
    "        dict_theta_plus = vector_to_dictionary(vector=theta_plus, parameters=parameters)\n",
    "\n",
    "        ## TODO: forward pass and calculate loss\n",
    "\n",
    "        ## TODO: calculate gradient manually\n",
    "    \n",
    "        ## TODO: check correctness of the backpropagation\n",
    "    print(param_dictionary)\n",
    "\n",
    "check_grads(parameters = parameters, grads=grads)"
   ]
  },
  {
   "cell_type": "code",
   "execution_count": 16,
   "id": "8b7f9a1f-44d0-41c8-ac2d-dee13ef9a934",
   "metadata": {},
   "outputs": [
    {
     "name": "stdout",
     "output_type": "stream",
     "text": [
      "Numerically approximated gradient of the parameter W[0][0] is:-4.744353532259993\n",
      "Gradient of W[0][0] calculated by backprop: -4.744354905210456\n",
      "1.3729504635406897e-06\n"
     ]
    }
   ],
   "source": [
    "## manual gradient check\n",
    "## lets check the gradient calculation of W1[0][0]\n",
    "## making a copy of parameters\n",
    "import copy\n",
    "\n",
    "check_params = copy.deepcopy(parameters)\n",
    "\n",
    "## nudging the W[0][0] parameter by 0.00000001\n",
    "check_params[\"W1\"][0][0] = check_params[\"W1\"][0][0] + 0.00000001\n",
    "\n",
    "## forward pass and loss\n",
    "check_A2, check_cache = forward_propagation(parameters=check_params, X=X)\n",
    "check_loss = compute_loss(A2=check_A2, Y=y)\n",
    "\n",
    "# manually computing gradient of parameter W[0][0]\n",
    "gradient = (check_loss - loss)/ 0.00000001\n",
    "\n",
    "print(f\"Numerically approximated gradient of the parameter W[0][0] is:{gradient}\")\n",
    "print(f\"Gradient of W[0][0] calculated by backprop: {grads['dW1'][0][0]}\")\n",
    "print(gradient - grads['dW1'][0][0])"
   ]
  },
  {
   "cell_type": "code",
   "execution_count": 14,
   "id": "404be72f-f6ea-4741-9784-8137d4ef9689",
   "metadata": {},
   "outputs": [
    {
     "data": {
      "text/plain": [
       "{'W1': array([[0.37454012, 0.95071431],\n",
       "        [0.73199394, 0.59865848],\n",
       "        [0.15601864, 0.15599452],\n",
       "        [0.05808361, 0.86617615]]),\n",
       " 'b1': array([[0.60111501],\n",
       "        [0.70807258],\n",
       "        [0.02058449],\n",
       "        [0.96990985]]),\n",
       " 'W2': array([[0.83244264, 0.21233911, 0.18182497, 0.18340451]]),\n",
       " 'b2': array([[0.30424224]])}"
      ]
     },
     "execution_count": 14,
     "metadata": {},
     "output_type": "execute_result"
    }
   ],
   "source": [
    "parameters"
   ]
  },
  {
   "cell_type": "code",
   "execution_count": 15,
   "id": "0b163317-bbbd-4648-9c50-3dbdb3077c62",
   "metadata": {},
   "outputs": [
    {
     "data": {
      "text/plain": [
       "(94.59291734864503, 94.5929173012015)"
      ]
     },
     "execution_count": 15,
     "metadata": {},
     "output_type": "execute_result"
    }
   ],
   "source": [
    "loss, check_loss"
   ]
  },
  {
   "cell_type": "code",
   "execution_count": null,
   "id": "5e33d635-8e9a-4e03-8702-48c879ef4dcb",
   "metadata": {},
   "outputs": [],
   "source": []
  }
 ],
 "metadata": {
  "kernelspec": {
   "display_name": "Python 3 (ipykernel)",
   "language": "python",
   "name": "python3"
  },
  "language_info": {
   "codemirror_mode": {
    "name": "ipython",
    "version": 3
   },
   "file_extension": ".py",
   "mimetype": "text/x-python",
   "name": "python",
   "nbconvert_exporter": "python",
   "pygments_lexer": "ipython3",
   "version": "3.10.12"
  }
 },
 "nbformat": 4,
 "nbformat_minor": 5
}
