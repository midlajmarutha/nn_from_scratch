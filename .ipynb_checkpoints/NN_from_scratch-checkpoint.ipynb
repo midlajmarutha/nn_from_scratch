{
 "cells": [
  {
   "cell_type": "markdown",
   "id": "4b74f1e0-4576-4249-b7d7-dc4699a06915",
   "metadata": {},
   "source": [
    "## Building Neural networks from scratch\n"
   ]
  },
  {
   "cell_type": "markdown",
   "id": "33aec01d-517a-4fe7-a6ba-496e77a369dd",
   "metadata": {},
   "source": [
    "### importing dependencies"
   ]
  },
  {
   "cell_type": "code",
   "execution_count": 1,
   "id": "2f222ce6-1e2c-49b6-b488-66e2f956af29",
   "metadata": {},
   "outputs": [],
   "source": [
    "import numpy as np\n",
    "import matplotlib.pyplot as plt\n"
   ]
  },
  {
   "cell_type": "markdown",
   "id": "e0cec268-0a4b-452f-bafc-e76d12f2ff05",
   "metadata": {},
   "source": [
    "### building a toy dataset"
   ]
  },
  {
   "cell_type": "code",
   "execution_count": 2,
   "id": "827ce796-9410-4ef9-aecc-0806c6bd96fc",
   "metadata": {},
   "outputs": [
    {
     "data": {
      "text/plain": [
       "(array([[ 0.57108364,  0.13498086, -0.13097946, -0.32297607, -0.37946309,\n",
       "          0.69745694, -1.39811403, -0.23325348,  1.03581902,  0.5681919 ,\n",
       "          1.09187353,  1.00240552, -0.39349346, -0.2611883 ,  1.32052951,\n",
       "          1.00343655,  1.78296087,  0.11770731,  0.35153888,  1.77717177,\n",
       "          1.16319357,  0.57624286,  1.41504509, -0.43269386,  0.98370602,\n",
       "          0.40499526,  1.05554639, -0.97392671, -1.00031052,  3.11451477,\n",
       "         -1.72265214, -0.91432879, -0.35825435,  0.67101982, -1.32176997,\n",
       "          0.23842398, -0.64220993, -0.84216609,  0.5552938 ,  2.19849731,\n",
       "         -1.32921873,  1.2480347 ,  0.48548864,  1.25171133,  0.19628714,\n",
       "         -1.00091741, -0.05211224, -0.59412712,  0.33425323,  1.05873008],\n",
       "        [-0.8330115 ,  0.88923608, -1.1932798 ,  0.48278674,  0.02329519,\n",
       "          0.09871838,  0.5242889 ,  1.08225996,  0.08691801,  0.41341545,\n",
       "          0.63616396, -1.36745814, -0.49529725, -0.25627302, -0.88381262,\n",
       "          2.53703125,  1.30157023, -0.60190223, -0.8875293 , -0.40911064,\n",
       "          0.4727854 , -0.80944718, -0.26236695, -0.01159059, -0.49115202,\n",
       "         -1.18890387, -0.85813447,  0.81445848,  0.99926455, -0.70090819,\n",
       "         -1.56805512,  0.06869082,  0.21205412, -0.9993818 , -0.18424257,\n",
       "         -0.87737672,  0.26339955, -0.80477248, -0.46566377, -0.02169231,\n",
       "         -0.3440382 , -0.27133371,  1.20148195, -0.39104193,  0.75743052,\n",
       "         -0.11080191, -1.01592366, -1.65787269,  0.11140113,  0.98953426]]),\n",
       " array([ 3.40361166e+00,  8.52602728e+00, -4.01423466e+00,  2.83012511e+00,\n",
       "         8.07712198e-02,  9.07324741e+00, -5.56346774e+00,  6.54527198e+00,\n",
       "         1.17211422e+01,  9.61261243e+00,  1.49158080e+01,  4.18195346e+00,\n",
       "        -2.62443390e+00, -3.70871535e-01,  9.14517295e+00,  2.37126487e+01,\n",
       "         2.37715381e+01,  9.32147307e-01,  1.37466453e+00,  1.51718209e+01,\n",
       "         1.46694755e+01,  3.56270700e+00,  1.30085260e+01, -5.19503856e-01,\n",
       "         8.41388808e+00,  2.95442691e-01,  7.15369874e+00, -7.19121295e-01,\n",
       "        -6.16143599e-03,  2.44115773e+01, -1.86214928e+01, -3.97117625e+00,\n",
       "         1.19423577e+00,  3.37124959e+00, -8.49537259e+00,  5.20508235e-01,\n",
       "        -8.20681692e-01, -7.76119109e+00,  5.11403153e+00,  2.04795169e+01,\n",
       "        -9.35394084e+00,  1.16276091e+01,  1.28913189e+01,  1.10584810e+01,\n",
       "         8.35744975e+00, -5.56134883e+00, -2.49651619e+00, -1.00423804e+01,\n",
       "         6.23103151e+00,  1.64175119e+01]))"
      ]
     },
     "execution_count": 2,
     "metadata": {},
     "output_type": "execute_result"
    }
   ],
   "source": [
    "X = np.random.randn(2,50)\n",
    "y = X[0,:] * 8 + X[1,:] * 5 + 3\n",
    "X, y"
   ]
  },
  {
   "cell_type": "code",
   "execution_count": 3,
   "id": "1963db12-17c8-49b6-b9ce-a3c82b734b57",
   "metadata": {},
   "outputs": [
    {
     "data": {
      "text/plain": [
       "<matplotlib.collections.PathCollection at 0x7fc0bc21a7a0>"
      ]
     },
     "execution_count": 3,
     "metadata": {},
     "output_type": "execute_result"
    },
    {
     "data": {
      "image/png": "[encoded data removed]",
      "text/plain": [
       "<Figure size 640x480 with 1 Axes>"
      ]
     },
     "metadata": {},
     "output_type": "display_data"
    }
   ],
   "source": [
    "plt.scatter(x=X[0,:],y=y)\n",
    "plt.scatter(x=X[1,:],y=y)"
   ]
  },
  {
   "cell_type": "markdown",
   "id": "bce520ab-a7aa-42e5-9bb3-b95c138140a8",
   "metadata": {},
   "source": [
    "### Building neural network with one hidden layer"
   ]
  },
  {
   "cell_type": "code",
   "execution_count": 8,
   "id": "8553bb46-dbf2-4187-ba78-529cd0991f5e",
   "metadata": {},
   "outputs": [
    {
     "ename": "SyntaxError",
     "evalue": "unterminated string literal (detected at line 7) (4011272880.py, line 7)",
     "output_type": "error",
     "traceback": [
      "\u001b[0;36m  Cell \u001b[0;32mIn[8], line 7\u001b[0;36m\u001b[0m\n\u001b[0;31m    self.params = {\"w =\u001b[0m\n\u001b[0m                   ^\u001b[0m\n\u001b[0;31mSyntaxError\u001b[0m\u001b[0;31m:\u001b[0m unterminated string literal (detected at line 7)\n"
     ]
    }
   ],
   "source": [
    "class Linear():\n",
    "    def __init__(self, in_features, out_features):\n",
    "        self.weights = np.random.randn(out_features, in_features)\n",
    "        self.w_grad = np.zeros((out_features, in_features))\n",
    "        self.bias = np.random.randn(out_features)\n",
    "        self.b_grad = np.zeros(out_features)\n",
    "        self.params = {\"w = \n",
    "    def __call__(self, x):\n",
    "        return self.weights @ np.transpose(X) + self.bias\n",
    "    "
   ]
  },
  {
   "cell_type": "code",
   "execution_count": 9,
   "id": "12f1b7c6-f342-4864-82b3-c3b3c8e0ddcd",
   "metadata": {},
   "outputs": [
    {
     "ename": "NameError",
     "evalue": "name 'Linear' is not defined",
     "output_type": "error",
     "traceback": [
      "\u001b[0;31m---------------------------------------------------------------------------\u001b[0m",
      "\u001b[0;31mNameError\u001b[0m                                 Traceback (most recent call last)",
      "Cell \u001b[0;32mIn[9], line 1\u001b[0m\n\u001b[0;32m----> 1\u001b[0m model \u001b[38;5;241m=\u001b[39m \u001b[43mLinear\u001b[49m(in_features\u001b[38;5;241m=\u001b[39m\u001b[38;5;241m2\u001b[39m, out_features\u001b[38;5;241m=\u001b[39m\u001b[38;5;241m1\u001b[39m)\n\u001b[1;32m      2\u001b[0m model\u001b[38;5;241m.\u001b[39mgrad()\n",
      "\u001b[0;31mNameError\u001b[0m: name 'Linear' is not defined"
     ]
    }
   ],
   "source": [
    "model = Linear(in_features=2, out_features=1)\n",
    "model.grad()"
   ]
  },
  {
   "cell_type": "code",
   "execution_count": 4,
   "id": "217d1c94-3417-4d5c-8c70-768d08fd87f8",
   "metadata": {},
   "outputs": [],
   "source": [
    "def initialize_parameters(n_in, n_h, n_out):\n",
    "    \"\"\"\n",
    "    initializes model parameters.\n",
    "\n",
    "    Arguments:\n",
    "    n_in: number of input units\n",
    "    n_h: number of hidden units\n",
    "    n_out: number of output units\n",
    "\n",
    "    Return:\n",
    "    parameters: dictionary of all the randomly intialized parameters\n",
    "    \n",
    "    \"\"\"\n",
    "\n",
    "    np.random.seed(42)\n",
    "\n",
    "    W1 = np.random.rand(n_h, n_in)\n",
    "    b1 = np.random.rand(n_h, 1)\n",
    "    W2 = np.random.rand(n_out, n_h)\n",
    "    b2 = np.random.rand(n_out, 1)\n",
    "\n",
    "    parameters = {\"W1\":W1,\n",
    "                  \"b1\":b1,\n",
    "                  \"W2\":W2,\n",
    "                  \"b2\":b2}\n",
    "    \n",
    "    return parameters"
   ]
  },
  {
   "cell_type": "code",
   "execution_count": 5,
   "id": "cf38a017-e403-4c00-95af-c74721dc605e",
   "metadata": {},
   "outputs": [],
   "source": [
    "def forward_propagation(X, parameters):\n",
    "    \"\"\"\n",
    "    Arguments:\n",
    "    X: input data of shape (n_x, m)\n",
    "    parameters: randomly initialized model parameters\n",
    "\n",
    "    Return:\n",
    "    A2 = sigmoid output of second activation\n",
    "    cache = dictionary of Z1, A1, Z2 and A2\n",
    "    \"\"\"\n",
    "    W1 = parameters[\"W1\"]\n",
    "    b1 = parameters[\"b1\"]\n",
    "    W2 = parameters[\"W2\"]\n",
    "    b2 = parameters[\"b2\"]\n",
    "\n",
    "    # Forward pass\n",
    "    Z1 = W1 @ X\n",
    "    A1 = np.tanh(Z1)\n",
    "    Z2 = W2 @ A1\n",
    "    A2 = Z2\n",
    "\n",
    "    cache = {\"Z1\":Z1,\n",
    "             \"A1\":A1,\n",
    "             \"Z2\":Z2,\n",
    "             \"A2\":A2}\n",
    "\n",
    "    return A2, cache"
   ]
  },
  {
   "cell_type": "code",
   "execution_count": 6,
   "id": "d368e722-fd01-45f8-95f6-d61764878377",
   "metadata": {},
   "outputs": [],
   "source": [
    "def compute_loss(A2, Y):\n",
    "    \"\"\"\n",
    "    compute Mean Squared Error loss of the model\n",
    "    Arguments:\n",
    "    A2: Prediction of the model\n",
    "    Y: \"true\" label vactor of shape (1, number of samples)\n",
    "\n",
    "    Return:\n",
    "    loss: computed scalar loss of the model\n",
    "    \"\"\"\n",
    "\n",
    "    m = len(Y)\n",
    "    loss = 1/m * np.sum((A2 - Y) ** 2)\n",
    "    return loss"
   ]
  },
  {
   "cell_type": "code",
   "execution_count": 7,
   "id": "528185aa-0cbb-4cba-8a2b-23104670a520",
   "metadata": {},
   "outputs": [],
   "source": [
    "def backward_propagation(parameters, cache, X, Y):\n",
    "    \"\"\" computes gradient of the model parameters\n",
    "    \n",
    "    Arguments:\n",
    "    parameters: dictionary of the parameters of the model\n",
    "    cache: a dictionary containing Z1, A1, Z2 and A2\n",
    "    X: input data of shape (2, number of example)\n",
    "    Y: \"true\" label vector of shape (1, number of example)\n",
    "    \n",
    "    Return:\n",
    "    grad: dictionary of the gradients of each model parameters\n",
    "    \"\"\"\n",
    "\n",
    "    m = len(Y)\n",
    "    \n",
    "    W1 = parameters[\"W1\"]\n",
    "    b1 = parameters[\"b1\"]\n",
    "    W2 = parameters[\"W2\"]\n",
    "    b2 = parameters[\"b2\"]\n",
    "\n",
    "    Z1 = cache[\"Z1\"]\n",
    "    A1 = cache[\"A1\"]\n",
    "    Z2 = cache[\"Z2\"]\n",
    "    A2 = cache[\"A2\"]\n",
    "\n",
    "    # Backpropagation\n",
    "    dA2 = (2/m) * (A2 - Y) # (1, m)\n",
    "    dZ2 = dA2 # (1,m)\n",
    "    dW2 = dZ2 @ A1.T #(1, n_h)\n",
    "    db2 = np.sum(dZ2, axis=1, keepdims=True) # (1,1)\n",
    "    dA1 = W2.T @ dZ2 # (n_h, m)\n",
    "    dZ1 = dA1 * (1 - np.power(A1,2)) # (n_h, m)\n",
    "    dW1 = dZ1 @ X.T # (n_h, n_in)\n",
    "    db1 = np.sum(dZ1, axis=1, keepdims=True) # (1, n_h)\n",
    "\n",
    "    grads = {\"dW1\":dW1,\n",
    "            \"db1\":db1,\n",
    "            \"dW2\":dW2,\n",
    "            \"db2\":db2}\n",
    "\n",
    "    return grads"
   ]
  },
  {
   "cell_type": "code",
   "execution_count": null,
   "id": "cf4d37a5-fd85-44d5-a3e4-ed38139247b2",
   "metadata": {},
   "outputs": [],
   "source": []
  },
  {
   "cell_type": "code",
   "execution_count": 8,
   "id": "443e2534-189d-4105-a98b-eb216b6be6ff",
   "metadata": {},
   "outputs": [
    {
     "data": {
      "text/plain": [
       "{'W1': array([[0.37454012, 0.95071431],\n",
       "        [0.73199394, 0.59865848],\n",
       "        [0.15601864, 0.15599452],\n",
       "        [0.05808361, 0.86617615]]),\n",
       " 'b1': array([[0.60111501],\n",
       "        [0.70807258],\n",
       "        [0.02058449],\n",
       "        [0.96990985]]),\n",
       " 'W2': array([[0.83244264, 0.21233911, 0.18182497, 0.18340451]]),\n",
       " 'b2': array([[0.30424224]])}"
      ]
     },
     "execution_count": 8,
     "metadata": {},
     "output_type": "execute_result"
    }
   ],
   "source": [
    "parameters = initialize_parameters(2, 4, 1)\n",
    "parameters"
   ]
  },
  {
   "cell_type": "code",
   "execution_count": 9,
   "id": "50f8130c-e318-40df-9333-36ea465fc624",
   "metadata": {},
   "outputs": [
    {
     "data": {
      "text/plain": [
       "array([[-0.56790779,  0.8616146 , -1.01172833,  0.35642126, -0.16458733,\n",
       "         0.43859071, -0.10983034,  0.864306  ,  0.5636008 ,  0.66971824,\n",
       "         0.96268319, -0.78290929, -0.67216942, -0.40144817, -0.28657247,\n",
       "         1.30460482,  1.23814849, -0.56021679, -0.6977002 ,  0.38422849,\n",
       "         0.88956678, -0.54590118,  0.38340322, -0.22811316, -0.04707838,\n",
       "        -0.87211062, -0.38010823,  0.37618998,  0.52650114,  0.57873106,\n",
       "        -1.26721182, -0.36588463,  0.05294815, -0.65890037, -0.73984973,\n",
       "        -0.73183895, -0.03218254, -0.99206537, -0.22747622,  0.82903965,\n",
       "        -0.85198448,  0.30482677,  1.08188836,  0.18303538,  0.79722704,\n",
       "        -0.57177128, -0.90952675, -1.20364855,  0.28686831,  1.10074259]])"
      ]
     },
     "execution_count": 9,
     "metadata": {},
     "output_type": "execute_result"
    }
   ],
   "source": [
    "A2, cache = forward_propagation(X, parameters)\n",
    "A2"
   ]
  },
  {
   "cell_type": "code",
   "execution_count": 10,
   "id": "e7330067-cbe4-4369-adf3-afce98bf7fcc",
   "metadata": {},
   "outputs": [
    {
     "data": {
      "text/plain": [
       "95.7754876108164"
      ]
     },
     "execution_count": 10,
     "metadata": {},
     "output_type": "execute_result"
    }
   ],
   "source": [
    "loss = compute_loss(A2, y)\n",
    "loss"
   ]
  },
  {
   "cell_type": "code",
   "execution_count": 16,
   "id": "32fd61a5-357e-45dd-b0e7-f498ade73c7e",
   "metadata": {
    "scrolled": true
   },
   "outputs": [
    {
     "data": {
      "text/plain": [
       "{'dW1': array([[-8.8239632 ,  0.77842161],\n",
       "        [-1.28060426,  0.04634611],\n",
       "        [-3.00324943, -0.75014499],\n",
       "        [-2.34906045, -0.07214227]]),\n",
       " 'db1': array([[-5.04384103],\n",
       "        [-0.99185244],\n",
       "        [-1.58695616],\n",
       "        [-1.23620723]]),\n",
       " 'dW2': array([[ -7.14501972, -10.28641159,  -3.52044061,  -3.32794636]]),\n",
       " 'db2': array([[-9.3472306]])}"
      ]
     },
     "execution_count": 16,
     "metadata": {},
     "output_type": "execute_result"
    }
   ],
   "source": [
    "grads = backward_propagation(parameters=parameters, cache=cache, X=X, Y=y)\n",
    "grads"
   ]
  },
  {
   "cell_type": "code",
   "execution_count": 12,
   "id": "8e073f14-8645-43ec-9873-f64edb46adb8",
   "metadata": {},
   "outputs": [
    {
     "ename": "NameError",
     "evalue": "name 'resh' is not defined",
     "output_type": "error",
     "traceback": [
      "\u001b[0;31m---------------------------------------------------------------------------\u001b[0m",
      "\u001b[0;31mNameError\u001b[0m                                 Traceback (most recent call last)",
      "Cell \u001b[0;32mIn[12], line 15\u001b[0m\n\u001b[1;32m     13\u001b[0m     loss \u001b[38;5;241m=\u001b[39m compute_loss(A2\u001b[38;5;241m=\u001b[39mtheta_A2, Y\u001b[38;5;241m=\u001b[39my)\n\u001b[1;32m     14\u001b[0m     \u001b[38;5;28mprint\u001b[39m(loss)\n\u001b[0;32m---> 15\u001b[0m \u001b[43mcheck_grads\u001b[49m\u001b[43m(\u001b[49m\u001b[43mparameters\u001b[49m\u001b[43m \u001b[49m\u001b[38;5;241;43m=\u001b[39;49m\u001b[43m \u001b[49m\u001b[43mparameters\u001b[49m\u001b[43m,\u001b[49m\u001b[43m \u001b[49m\u001b[43mgrads\u001b[49m\u001b[38;5;241;43m=\u001b[39;49m\u001b[43mgrads\u001b[49m\u001b[43m)\u001b[49m\n",
      "Cell \u001b[0;32mIn[12], line 11\u001b[0m, in \u001b[0;36mcheck_grads\u001b[0;34m(parameters, grads)\u001b[0m\n\u001b[1;32m      9\u001b[0m     reshaped \u001b[38;5;241m=\u001b[39m np\u001b[38;5;241m.\u001b[39mreshape(parameters[i], parameters[i]\u001b[38;5;241m.\u001b[39mshape[\u001b[38;5;241m0\u001b[39m]\u001b[38;5;241m*\u001b[39mparameters[i]\u001b[38;5;241m.\u001b[39mshape[\u001b[38;5;241m1\u001b[39m])\n\u001b[1;32m     10\u001b[0m     \u001b[38;5;66;03m# concatinated.extend(reshaped)\u001b[39;00m\n\u001b[0;32m---> 11\u001b[0m     params_theta[i] \u001b[38;5;241m=\u001b[39m \u001b[43mresh\u001b[49m \u001b[38;5;241m+\u001b[39m eps\n\u001b[1;32m     12\u001b[0m theta_A2, theta_cache \u001b[38;5;241m=\u001b[39m forward_propagation(X, params_theta)\n\u001b[1;32m     13\u001b[0m loss \u001b[38;5;241m=\u001b[39m compute_loss(A2\u001b[38;5;241m=\u001b[39mtheta_A2, Y\u001b[38;5;241m=\u001b[39my)\n",
      "\u001b[0;31mNameError\u001b[0m: name 'resh' is not defined"
     ]
    }
   ],
   "source": [
    "def check_grads(parameters=parameters, grads=grads):\n",
    "    \"\"\"\n",
    "    check the calculated gradients are correct\n",
    "    \"\"\"\n",
    "    eps = 0.00000001\n",
    "    # concatinated = []\n",
    "    params_theta = {}\n",
    "    for i in parameters:\n",
    "        reshaped = np.reshape(parameters[i], parameters[i].shape[0]*parameters[i].shape[1])\n",
    "        # concatinated.extend(reshaped)\n",
    "        params_theta[i] = resh + eps\n",
    "    theta_A2, theta_cache = forward_propagation(X, params_theta)\n",
    "    loss = compute_loss(A2=theta_A2, Y=y)\n",
    "    print(loss)\n",
    "check_grads(parameters = parameters, grads=grads)"
   ]
  },
  {
   "cell_type": "code",
   "execution_count": 25,
   "id": "8b7f9a1f-44d0-41c8-ac2d-dee13ef9a934",
   "metadata": {},
   "outputs": [
    {
     "name": "stdout",
     "output_type": "stream",
     "text": [
      "Numerically approximated gradient of the parameter W[0][0] is:-8.823963071336038\n",
      "Gradient of W[0][0] calculated by backprop: -8.823963198010127\n",
      "1.2667408810784764e-07\n"
     ]
    }
   ],
   "source": [
    "## manual gradient check\n",
    "## lets check the gradient calculation of W1[0][0]\n",
    "## making a copy of parameters\n",
    "import copy\n",
    "\n",
    "check_params = copy.deepcopy(parameters)\n",
    "\n",
    "## nudging the W[0][0] parameter by 0.00000001\n",
    "check_params[\"W1\"][0][0] = check_params[\"W1\"][0][0] + 0.00000001\n",
    "\n",
    "## forward pass and loss\n",
    "check_A2, check_cache = forward_propagation(parameters=check_params, X=X)\n",
    "check_loss = compute_loss(A2=check_A2, Y=y)\n",
    "\n",
    "# manually computing gradient of parameter W[0][0]\n",
    "gradient = (check_loss - loss)/ 0.00000001\n",
    "\n",
    "print(f\"Numerically approximated gradient of the parameter W[0][0] is:{gradient}\")\n",
    "print(f\"Gradient of W[0][0] calculated by backprop: {grads['dW1'][0][0]}\")\n",
    "print(gradient - grads['dW1'][0][0])"
   ]
  },
  {
   "cell_type": "code",
   "execution_count": null,
   "id": "404be72f-f6ea-4741-9784-8137d4ef9689",
   "metadata": {},
   "outputs": [],
   "source": [
    "parameters"
   ]
  },
  {
   "cell_type": "code",
   "execution_count": null,
   "id": "0b163317-bbbd-4648-9c50-3dbdb3077c62",
   "metadata": {},
   "outputs": [],
   "source": [
    "loss, check_loss"
   ]
  },
  {
   "cell_type": "code",
   "execution_count": null,
   "id": "5e33d635-8e9a-4e03-8702-48c879ef4dcb",
   "metadata": {},
   "outputs": [],
   "source": []
  }
 ],
 "metadata": {
  "kernelspec": {
   "display_name": "Python 3 (ipykernel)",
   "language": "python",
   "name": "python3"
  },
  "language_info": {
   "codemirror_mode": {
    "name": "ipython",
    "version": 3
   },
   "file_extension": ".py",
   "mimetype": "text/x-python",
   "name": "python",
   "nbconvert_exporter": "python",
   "pygments_lexer": "ipython3",
   "version": "3.10.12"
  }
 },
 "nbformat": 4,
 "nbformat_minor": 5
}
