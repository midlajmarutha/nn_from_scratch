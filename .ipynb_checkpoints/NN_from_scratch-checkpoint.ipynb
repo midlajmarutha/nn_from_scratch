{
 "cells": [
  {
   "cell_type": "markdown",
   "id": "4b74f1e0-4576-4249-b7d7-dc4699a06915",
   "metadata": {},
   "source": [
    "## Building Neural networks from scratch\n"
   ]
  },
  {
   "cell_type": "markdown",
   "id": "33aec01d-517a-4fe7-a6ba-496e77a369dd",
   "metadata": {},
   "source": [
    "### importing dependencies"
   ]
  },
  {
   "cell_type": "code",
   "execution_count": 18,
   "id": "2f222ce6-1e2c-49b6-b488-66e2f956af29",
   "metadata": {},
   "outputs": [],
   "source": [
    "import numpy as np\n",
    "import matplotlib.pyplot as plt"
   ]
  },
  {
   "cell_type": "markdown",
   "id": "e0cec268-0a4b-452f-bafc-e76d12f2ff05",
   "metadata": {},
   "source": [
    "### building a toy dataset"
   ]
  },
  {
   "cell_type": "code",
   "execution_count": 21,
   "id": "827ce796-9410-4ef9-aecc-0806c6bd96fc",
   "metadata": {},
   "outputs": [
    {
     "data": {
      "text/plain": [
       "(array([[-1.36706486, -0.85299186],\n",
       "        [-0.12626897,  0.57594808],\n",
       "        [-1.98922883,  1.67442398]]),\n",
       " array([-12.20147821,   4.86958865,  -4.54171071]))"
      ]
     },
     "execution_count": 21,
     "metadata": {},
     "output_type": "execute_result"
    }
   ],
   "source": [
    "X = np.random.randn(50,2)\n",
    "y = X[:,0] * 8 + X[:,1] * 5 + 3\n",
    "X[:3], y[:3]"
   ]
  },
  {
   "cell_type": "code",
   "execution_count": 34,
   "id": "1963db12-17c8-49b6-b9ce-a3c82b734b57",
   "metadata": {},
   "outputs": [
    {
     "data": {
      "text/plain": [
       "<matplotlib.collections.PathCollection at 0x7f1c4099bb20>"
      ]
     },
     "execution_count": 34,
     "metadata": {},
     "output_type": "execute_result"
    },
    {
     "data": {
      "image/png": "[encoded data removed]",
      "text/plain": [
       "<Figure size 640x480 with 1 Axes>"
      ]
     },
     "metadata": {},
     "output_type": "display_data"
    }
   ],
   "source": [
    "plt.scatter(x=X[:,0],y=y)\n",
    "plt.scatter(x=X[:,1],y=y)"
   ]
  },
  {
   "cell_type": "markdown",
   "id": "bce520ab-a7aa-42e5-9bb3-b95c138140a8",
   "metadata": {},
   "source": [
    "### Building Linear layer"
   ]
  },
  {
   "cell_type": "code",
   "execution_count": 38,
   "id": "8553bb46-dbf2-4187-ba78-529cd0991f5e",
   "metadata": {},
   "outputs": [],
   "source": [
    "class Linear():\n",
    "    def __init__(self, in_features, out_features):\n",
    "        self.weights = np.random.randn(out_features, in_features)\n",
    "        self.w_grad = np.zeros((out_features, in_features))\n",
    "        self.bias = np.random.randn(out_features)\n",
    "        self.b_grad = np.zeros(out_features)\n",
    "        self.params = {\"w = \n",
    "    def __call__(self, x):\n",
    "        return self.weights @ np.transpose(X) + self.bias\n",
    "    "
   ]
  },
  {
   "cell_type": "code",
   "execution_count": 39,
   "id": "12f1b7c6-f342-4864-82b3-c3b3c8e0ddcd",
   "metadata": {},
   "outputs": [
    {
     "name": "stdout",
     "output_type": "stream",
     "text": [
      "w_grad:[[0. 0.]], b_grad:[0.]\n"
     ]
    }
   ],
   "source": [
    "model = Linear(in_features=2, out_features=1)\n",
    "model.grad()"
   ]
  },
  {
   "cell_type": "code",
   "execution_count": null,
   "id": "217d1c94-3417-4d5c-8c70-768d08fd87f8",
   "metadata": {},
   "outputs": [],
   "source": []
  },
  {
   "cell_type": "code",
   "execution_count": null,
   "id": "443e2534-189d-4105-a98b-eb216b6be6ff",
   "metadata": {},
   "outputs": [],
   "source": []
  },
  {
   "cell_type": "markdown",
   "id": "9f1d93d7-0f61-4207-8411-0bf74f964033",
   "metadata": {},
   "source": [
    "### Building MSE Loss function"
   ]
  },
  {
   "cell_type": "code",
   "execution_count": null,
   "id": "e9a29b75-6812-49fe-a6a1-1894bf61ea19",
   "metadata": {},
   "outputs": [],
   "source": [
    "class MSELoss():\n",
    "    def __init__(self, y, y_pred):\n",
    "        self.loss = np.sum((y-y_pred)**2) / (len(y) * 2)\n",
    "    def backward(self):\n",
    "        self."
   ]
  },
  {
   "cell_type": "code",
   "execution_count": null,
   "id": "33ce3452-80b9-468d-a6e9-94b614d1595e",
   "metadata": {},
   "outputs": [],
   "source": [
    "MSELoss(y=y, y_pred=ypred)"
   ]
  },
  {
   "cell_type": "code",
   "execution_count": null,
   "id": "076d6dc2-d988-4333-9f33-36a6d91547f8",
   "metadata": {},
   "outputs": [],
   "source": [
    "class Parameter():\n",
    "    def __init__(self, value, grad=True):\n",
    "        self.value = value\n",
    "        self.grad = 0"
   ]
  },
  {
   "cell_type": "code",
   "execution_count": null,
   "id": "a01dc6a4-2545-4e8c-a6b7-eb83bb21813d",
   "metadata": {},
   "outputs": [],
   "source": [
    "arr = [2,3,4,5,6,4]\n",
    "iter(arr)"
   ]
  },
  {
   "cell_type": "code",
   "execution_count": null,
   "id": "b2fb4833-f8e4-4128-bc73-bd4dede20581",
   "metadata": {},
   "outputs": [],
   "source": [
    "param = Parameter(arr)\n",
    "param.value"
   ]
  },
  {
   "cell_type": "code",
   "execution_count": 47,
   "id": "1bcff4b1-a333-4405-9a70-5351849d1460",
   "metadata": {},
   "outputs": [
    {
     "data": {
      "text/plain": [
       "[{'name': 'midlaj'},\n",
       " {'weights': array([[0.34685761, 0.86167589, 0.80868045, 0.26094441, 0.5701226 ,\n",
       "          0.87350555],\n",
       "         [0.55202143, 0.1151741 , 0.07881151, 0.1678621 , 0.77592331,\n",
       "          0.42663448],\n",
       "         [0.76903961, 0.53013512, 0.76107372, 0.65360844, 0.97681259,\n",
       "          0.30536109]])},\n",
       " {'bias': array([0.37695062, 0.83043353, 0.14605683, 0.09322402, 0.25497203,\n",
       "         0.90904958])}]"
      ]
     },
     "execution_count": 47,
     "metadata": {},
     "output_type": "execute_result"
    }
   ],
   "source": [
    "import numpy as np\n",
    "w = np.random.rand(3,6)\n",
    "b = np.random.rand(6)\n",
    "obj = [{\"name\":\"midlaj\"},{\"weights\":w},{\"bias\":b}]\n",
    "obj"
   ]
  },
  {
   "cell_type": "code",
   "execution_count": null,
   "id": "d5337966-af0b-4f4e-b330-b2f7f204090c",
   "metadata": {},
   "outputs": [],
   "source": []
  }
 ],
 "metadata": {
  "kernelspec": {
   "display_name": "Python 3 (ipykernel)",
   "language": "python",
   "name": "python3"
  },
  "language_info": {
   "codemirror_mode": {
    "name": "ipython",
    "version": 3
   },
   "file_extension": ".py",
   "mimetype": "text/x-python",
   "name": "python",
   "nbconvert_exporter": "python",
   "pygments_lexer": "ipython3",
   "version": "3.10.12"
  }
 },
 "nbformat": 4,
 "nbformat_minor": 5
}
