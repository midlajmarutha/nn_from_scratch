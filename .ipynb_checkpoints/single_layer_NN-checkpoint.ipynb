{
 "cells": [
  {
   "cell_type": "markdown",
   "id": "4b74f1e0-4576-4249-b7d7-dc4699a06915",
   "metadata": {},
   "source": [
    "## Building Neural networks from scratch\n"
   ]
  },
  {
   "cell_type": "markdown",
   "id": "33aec01d-517a-4fe7-a6ba-496e77a369dd",
   "metadata": {},
   "source": [
    "### importing dependencies"
   ]
  },
  {
   "cell_type": "code",
   "execution_count": 1,
   "id": "2f222ce6-1e2c-49b6-b488-66e2f956af29",
   "metadata": {},
   "outputs": [],
   "source": [
    "import numpy as np\n",
    "import matplotlib.pyplot as plt\n",
    "from utils import dictionary_to_vector, vector_to_dictionary"
   ]
  },
  {
   "cell_type": "markdown",
   "id": "e0cec268-0a4b-452f-bafc-e76d12f2ff05",
   "metadata": {},
   "source": [
    "### building a toy dataset"
   ]
  },
  {
   "cell_type": "code",
   "execution_count": 2,
   "id": "827ce796-9410-4ef9-aecc-0806c6bd96fc",
   "metadata": {},
   "outputs": [
    {
     "data": {
      "text/plain": [
       "(array([[-0.1815283 ,  1.67547895,  0.64447845,  0.3805154 , -1.01879338,\n",
       "         -1.10610083,  1.41722239,  1.30696639, -0.02532214,  1.18605975,\n",
       "          0.0856159 ,  0.33161038,  0.13187352,  1.7193344 ,  0.29874511,\n",
       "         -1.12499237, -1.52838789, -0.90598556,  0.42464031, -0.56483139,\n",
       "         -0.78576858,  0.44256534,  0.17580721,  1.00142723,  0.81330466,\n",
       "         -0.59268662, -0.59928941,  0.68576021,  0.20347346,  0.80769089,\n",
       "         -0.64732281,  0.46196079,  0.43243056, -0.38994777,  1.2765968 ,\n",
       "         -0.88792218,  0.7616636 ,  0.42403867,  2.01818651,  1.78187592,\n",
       "         -1.78734898, -0.48916102,  0.71765226, -0.10541207, -0.68958315,\n",
       "          0.05453475,  0.70600868,  0.80304801, -1.70581552, -0.4230439 ],\n",
       "        [ 0.87048596,  0.31625752, -0.14613015, -1.08334778, -1.55449339,\n",
       "         -1.25644927,  0.67922217,  0.86263977,  0.02859353,  0.6671453 ,\n",
       "          0.38579464,  0.07685826, -1.74924162, -0.79072558,  1.10702695,\n",
       "          0.0326315 ,  2.6551319 , -0.61386542,  2.26182618, -0.77794024,\n",
       "         -1.01258752, -0.91779623, -0.08450435, -0.05655803, -1.18816454,\n",
       "          0.6720386 , -0.6717167 ,  0.77401285, -0.8339681 ,  1.06706484,\n",
       "          0.17114986, -0.28014656,  0.1486235 ,  0.39989592,  1.68073692,\n",
       "          0.39855584, -0.18890637,  1.84410456,  0.60779913, -1.29118702,\n",
       "         -0.58951995,  0.04351678, -0.22437078,  0.97308153, -0.29887625,\n",
       "          1.16857029, -0.12699503,  0.8014945 , -1.29790248,  0.55072748]]),\n",
       " array([  5.9002034 ,  17.98511916,   7.42517684,   0.62738434,\n",
       "        -12.92281396, -12.13105297,  17.73388994,  17.76892997,\n",
       "          2.94039052,  15.82420449,   5.6139004 ,   6.03717431,\n",
       "         -4.69121991,  12.8010473 ,  10.92509564,  -5.83678148,\n",
       "          4.04855637,  -7.31721161,  17.70625337,  -5.40835233,\n",
       "         -8.34908622,   1.95154153,   3.98393591,  10.72862765,\n",
       "          3.5656146 ,   1.61870003,  -5.15289879,  12.35614594,\n",
       "          0.45794715,  14.79685134,  -1.32283322,   5.29495354,\n",
       "          7.20256195,   1.87989748,  21.61645902,  -2.11059825,\n",
       "          8.14877695,  15.61283217,  22.1844877 ,  10.79907224,\n",
       "        -14.24639165,  -0.69570426,   7.61936414,   7.02211104,\n",
       "         -4.01104645,   9.27912948,   8.01309426,  13.43185659,\n",
       "        -17.13603659,   2.36928622]))"
      ]
     },
     "execution_count": 2,
     "metadata": {},
     "output_type": "execute_result"
    }
   ],
   "source": [
    "X = np.random.randn(2,50)\n",
    "y = X[0,:] * 8 + X[1,:] * 5 + 3\n",
    "X, y"
   ]
  },
  {
   "cell_type": "code",
   "execution_count": 3,
   "id": "1963db12-17c8-49b6-b9ce-a3c82b734b57",
   "metadata": {},
   "outputs": [
    {
     "data": {
      "text/plain": [
       "<matplotlib.collections.PathCollection at 0x7fb2e9e82d40>"
      ]
     },
     "execution_count": 3,
     "metadata": {},
     "output_type": "execute_result"
    },
    {
     "data": {
      "image/png": "[encoded data removed]",
      "text/plain": [
       "<Figure size 640x480 with 1 Axes>"
      ]
     },
     "metadata": {},
     "output_type": "display_data"
    }
   ],
   "source": [
    "plt.scatter(x=X[0,:],y=y)\n",
    "plt.scatter(x=X[1,:],y=y)"
   ]
  },
  {
   "cell_type": "markdown",
   "id": "bce520ab-a7aa-42e5-9bb3-b95c138140a8",
   "metadata": {},
   "source": [
    "### Building neural network with one hidden layer"
   ]
  },
  {
   "cell_type": "code",
   "execution_count": 4,
   "id": "217d1c94-3417-4d5c-8c70-768d08fd87f8",
   "metadata": {},
   "outputs": [],
   "source": [
    "def initialize_parameters(n_in, n_h, n_out):\n",
    "    \"\"\"\n",
    "    initializes model parameters.\n",
    "\n",
    "    Arguments:\n",
    "    n_in: number of input units\n",
    "    n_h: number of hidden units\n",
    "    n_out: number of output units\n",
    "\n",
    "    Return:\n",
    "    parameters: dictionary of all the randomly intialized parameters\n",
    "    \n",
    "    \"\"\"\n",
    "\n",
    "    np.random.seed(42)\n",
    "\n",
    "    W1 = np.random.rand(n_h, n_in)\n",
    "    b1 = np.random.rand(n_h, 1)\n",
    "    W2 = np.random.rand(n_out, n_h)\n",
    "    b2 = np.random.rand(n_out, 1)\n",
    "\n",
    "    parameters = {\"W1\":W1,\n",
    "                  \"b1\":b1,\n",
    "                  \"W2\":W2,\n",
    "                  \"b2\":b2}\n",
    "    \n",
    "    return parameters"
   ]
  },
  {
   "cell_type": "code",
   "execution_count": 5,
   "id": "cf38a017-e403-4c00-95af-c74721dc605e",
   "metadata": {},
   "outputs": [],
   "source": [
    "def forward_propagation(X, parameters):\n",
    "    \"\"\"\n",
    "    Arguments:\n",
    "    X: input data of shape (n_x, m)\n",
    "    parameters: randomly initialized model parameters\n",
    "\n",
    "    Return:\n",
    "    A2 = sigmoid output of second activation\n",
    "    cache = dictionary of Z1, A1, Z2 and A2\n",
    "    \"\"\"\n",
    "    W1 = parameters[\"W1\"]\n",
    "    b1 = parameters[\"b1\"]\n",
    "    W2 = parameters[\"W2\"]\n",
    "    b2 = parameters[\"b2\"]\n",
    "\n",
    "    # Forward pass\n",
    "    Z1 = W1 @ X\n",
    "    A1 = np.tanh(Z1)\n",
    "    Z2 = W2 @ A1\n",
    "    A2 = Z2\n",
    "\n",
    "    cache = {\"Z1\":Z1,\n",
    "             \"A1\":A1,\n",
    "             \"Z2\":Z2,\n",
    "             \"A2\":A2}\n",
    "\n",
    "    return A2, cache"
   ]
  },
  {
   "cell_type": "code",
   "execution_count": 6,
   "id": "d368e722-fd01-45f8-95f6-d61764878377",
   "metadata": {},
   "outputs": [],
   "source": [
    "def compute_loss(A2, Y):\n",
    "    \"\"\"\n",
    "    compute Mean Squared Error loss of the model\n",
    "    Arguments:\n",
    "    A2: Prediction of the model\n",
    "    Y: \"true\" label vactor of shape (1, number of samples)\n",
    "\n",
    "    Return:\n",
    "    loss: computed scalar loss of the model\n",
    "    \"\"\"\n",
    "\n",
    "    m = len(Y)\n",
    "    loss = 1/m * np.sum((A2 - Y) ** 2)\n",
    "    return loss"
   ]
  },
  {
   "cell_type": "code",
   "execution_count": 7,
   "id": "528185aa-0cbb-4cba-8a2b-23104670a520",
   "metadata": {},
   "outputs": [],
   "source": [
    "def backward_propagation(parameters, cache, X, Y):\n",
    "    \"\"\" computes gradient of the model parameters\n",
    "    \n",
    "    Arguments:\n",
    "    parameters: dictionary of the parameters of the model\n",
    "    cache: a dictionary containing Z1, A1, Z2 and A2\n",
    "    X: input data of shape (2, number of example)\n",
    "    Y: \"true\" label vector of shape (1, number of example)\n",
    "    \n",
    "    Return:\n",
    "    grad: dictionary of the gradients of each model parameters\n",
    "    \"\"\"\n",
    "\n",
    "    m = len(Y)\n",
    "    \n",
    "    W1 = parameters[\"W1\"]\n",
    "    b1 = parameters[\"b1\"]\n",
    "    W2 = parameters[\"W2\"]\n",
    "    b2 = parameters[\"b2\"]\n",
    "\n",
    "    Z1 = cache[\"Z1\"]\n",
    "    A1 = cache[\"A1\"]\n",
    "    Z2 = cache[\"Z2\"]\n",
    "    A2 = cache[\"A2\"]\n",
    "\n",
    "    # Backpropagation\n",
    "    dA2 = (2/m) * (A2 - Y) # (1, m)\n",
    "    dZ2 = dA2 # (1,m)\n",
    "    dW2 = dZ2 @ A1.T #(1, n_h)\n",
    "    db2 = np.sum(dZ2, axis=1, keepdims=True) # (1,1)\n",
    "    dA1 = W2.T @ dZ2 # (n_h, m)\n",
    "    dZ1 = dA1 * (1 - np.power(A1,2)) # (n_h, m)\n",
    "    dW1 = dZ1 @ X.T # (n_h, n_in)\n",
    "    db1 = np.sum(dZ1, axis=1, keepdims=True) # (1, n_h)\n",
    "\n",
    "    grads = {\"dW1\":dW1,\n",
    "            \"db1\":db1,\n",
    "            \"dW2\":dW2,\n",
    "            \"db2\":db2}\n",
    "\n",
    "    return grads"
   ]
  },
  {
   "cell_type": "code",
   "execution_count": null,
   "id": "cf4d37a5-fd85-44d5-a3e4-ed38139247b2",
   "metadata": {},
   "outputs": [],
   "source": []
  },
  {
   "cell_type": "code",
   "execution_count": 8,
   "id": "443e2534-189d-4105-a98b-eb216b6be6ff",
   "metadata": {},
   "outputs": [
    {
     "data": {
      "text/plain": [
       "{'W1': array([[0.37454012, 0.95071431],\n",
       "        [0.73199394, 0.59865848],\n",
       "        [0.15601864, 0.15599452],\n",
       "        [0.05808361, 0.86617615]]),\n",
       " 'b1': array([[0.60111501],\n",
       "        [0.70807258],\n",
       "        [0.02058449],\n",
       "        [0.96990985]]),\n",
       " 'W2': array([[0.83244264, 0.21233911, 0.18182497, 0.18340451]]),\n",
       " 'b2': array([[0.30424224]])}"
      ]
     },
     "execution_count": 8,
     "metadata": {},
     "output_type": "execute_result"
    }
   ],
   "source": [
    "parameters = initialize_parameters(2, 4, 1)\n",
    "parameters"
   ]
  },
  {
   "cell_type": "code",
   "execution_count": 27,
   "id": "50f8130c-e318-40df-9333-36ea465fc624",
   "metadata": {},
   "outputs": [
    {
     "data": {
      "text/plain": [
       "array([[ 0.7472289 ,  0.91606232,  0.16059807, -0.81897037, -1.22289976,\n",
       "        -1.17704507,  1.04263791,  1.0939415 ,  0.01879626,  0.99657882,\n",
       "         0.44934812,  0.2490586 , -1.13725238, -0.02052998,  1.01185989,\n",
       "        -0.48833201,  1.10338266, -0.90856951,  1.26246571, -0.91532751,\n",
       "        -1.06664234, -0.68579125, -0.00445932,  0.41514328, -0.73761011,\n",
       "         0.41530267, -0.86285907,  0.94270099, -0.71318843,  1.08896009,\n",
       "        -0.13492851, -0.07543335,  0.3710944 ,  0.23931397,  1.25579036,\n",
       "        -0.00567337,  0.17067116,  1.21691734,  1.10092255, -0.44659738,\n",
       "        -1.0637946 , -0.19622457,  0.11135432,  0.8393425 , -0.61908869,\n",
       "         0.98417899,  0.21051526,  0.98241673, -1.23274606,  0.37675145]])"
      ]
     },
     "execution_count": 27,
     "metadata": {},
     "output_type": "execute_result"
    }
   ],
   "source": [
    "A2, cache = forward_propagation(X, parameters)\n",
    "A2"
   ]
  },
  {
   "cell_type": "code",
   "execution_count": 10,
   "id": "e7330067-cbe4-4369-adf3-afce98bf7fcc",
   "metadata": {},
   "outputs": [
    {
     "data": {
      "text/plain": [
       "96.42901678349563"
      ]
     },
     "execution_count": 10,
     "metadata": {},
     "output_type": "execute_result"
    }
   ],
   "source": [
    "loss = compute_loss(A2, y)\n",
    "loss"
   ]
  },
  {
   "cell_type": "code",
   "execution_count": 11,
   "id": "32fd61a5-357e-45dd-b0e7-f498ade73c7e",
   "metadata": {
    "scrolled": true
   },
   "outputs": [
    {
     "data": {
      "text/plain": [
       "{'dW1': array([[-5.34889152, -1.10771656],\n",
       "        [-1.02897286, -0.43187187],\n",
       "        [-2.54711522, -1.72394157],\n",
       "        [-1.70213965, -0.67259851]]),\n",
       " 'db1': array([[-4.21764446],\n",
       "        [-1.04408243],\n",
       "        [-1.55952538],\n",
       "        [-1.07540491]]),\n",
       " 'dW2': array([[ -9.87719803, -11.43694694,  -3.95852818,  -7.21609972]]),\n",
       " 'db2': array([[-9.06796696]])}"
      ]
     },
     "execution_count": 11,
     "metadata": {},
     "output_type": "execute_result"
    }
   ],
   "source": [
    "grads = backward_propagation(parameters=parameters, cache=cache, X=X, Y=y)\n",
    "grads"
   ]
  },
  {
   "cell_type": "code",
   "execution_count": 12,
   "id": "8b7f9a1f-44d0-41c8-ac2d-dee13ef9a934",
   "metadata": {},
   "outputs": [
    {
     "name": "stdout",
     "output_type": "stream",
     "text": [
      "Numerically approximated gradient of the parameter W[0][0] is:-5.348893239442987\n",
      "Gradient of W[0][0] calculated by backprop: -5.348891524973787\n",
      "-1.7144691994985806e-06\n"
     ]
    }
   ],
   "source": [
    "## manual gradient check\n",
    "## lets check the gradient calculation of W1[0][0]\n",
    "## making a copy of parameters\n",
    "import copy\n",
    "\n",
    "check_params = copy.deepcopy(parameters)\n",
    "\n",
    "## nudging the W[0][0] parameter by 0.00000001\n",
    "check_params[\"W1\"][0][0] = check_params[\"W1\"][0][0] + 0.00000001\n",
    "\n",
    "## forward pass and loss\n",
    "check_A2, check_cache = forward_propagation(parameters=check_params, X=X)\n",
    "check_loss = compute_loss(A2=check_A2, Y=y)\n",
    "\n",
    "# manually computing gradient of parameter W[0][0]\n",
    "gradient = (check_loss - loss)/ 0.00000001\n",
    "\n",
    "print(f\"Numerically approximated gradient of the parameter W[0][0] is:{gradient}\")\n",
    "print(f\"Gradient of W[0][0] calculated by backprop: {grads['dW1'][0][0]}\")\n",
    "print(gradient - grads['dW1'][0][0])"
   ]
  },
  {
   "cell_type": "code",
   "execution_count": 29,
   "id": "8e073f14-8645-43ec-9873-f64edb46adb8",
   "metadata": {},
   "outputs": [
    {
     "name": "stdout",
     "output_type": "stream",
     "text": [
      "[[0.37454012 0.95071431 0.73199394 0.59865848 0.15601864 0.15599452\n",
      "  0.05808361 0.86617615 0.60111501 0.70807258 0.02058449 0.96990985\n",
      "  0.83244264 0.21233911 0.18182497 0.18340451 0.30424224]]\n",
      "0.3745401088473625 0.3745401288473625\n",
      "87.58507121628489 87.58507098472526\n",
      "0.9507142964099161 0.9507143164099162\n",
      "87.58507121306182 87.58507098794831\n",
      "0.731993931811405 0.7319939518114051\n",
      "87.58507118216512 87.58507101884501\n",
      "0.5986584741970365 0.5986584941970367\n",
      "87.58507118507823 87.58507101593193\n",
      "0.15601863044243652 0.1560186504424365\n",
      "87.58507119841805 87.58507100259209\n",
      "0.15599451033620265 0.15599453033620264\n",
      "87.58507116506402 87.58507103594613\n",
      "0.05808360216819946 0.05808362216819946\n",
      "87.58507115353257 87.58507104747758\n",
      "0.8661761357749351 0.8661761557749352\n",
      "87.5850711209353 87.58507108007485\n",
      "0.6011150017432088 0.6011150217432089\n",
      "87.58507110050506 87.58507110050506\n",
      "0.7080725677960454 0.7080725877960455\n",
      "87.58507110050506 87.58507110050506\n",
      "0.020584484295802445 0.02058450429580245\n",
      "87.58507110050506 87.58507110050506\n",
      "0.9699098421619943 0.9699098621619944\n",
      "87.58507110050506 87.58507110050506\n",
      "0.8324426308004217 0.8324426508004218\n",
      "87.58507110050506 87.58507110050506\n",
      "0.21233910067827616 0.21233912067827615\n",
      "87.58507110050506 87.58507110050506\n",
      "0.18182495720710062 0.1818249772071006\n",
      "87.58507110050506 87.58507110050506\n",
      "0.18340449985343382 0.1834045198534338\n",
      "87.58507110050506 87.58507110050506\n",
      "0.30424223295953773 0.3042422529595377\n",
      "87.58507110050506 87.58507110050506\n",
      "0.6084731542141758\n",
      "\u001b[93mThere is a mistake in the backward propagation! difference = 0.6084731542141758\u001b[0m\n"
     ]
    }
   ],
   "source": [
    "\n",
    "def check_grads(parameters=parameters, grads=grads):\n",
    "    \"\"\"\n",
    "    check the calculated gradients are correct\n",
    "    \"\"\"\n",
    "    eps = 0.00000001\n",
    "    params_theta = {}\n",
    "\n",
    "    \n",
    "    # convert parameter dictionary to a single vector\n",
    "    param_vector = dictionary_to_vector(parameters=parameters)\n",
    "    grad_vector = dictionary_to_vector(grads)\n",
    "    gradapprox = np.zeros(grad_vector.shape)\n",
    "    print(param_vector)\n",
    "\n",
    "    for i in range(param_vector.shape[1]):\n",
    "        theta_minus = np.copy(param_vector)\n",
    "        theta_minus[0][i] -= eps\n",
    "        theta_plus = np.copy(param_vector)\n",
    "        theta_plus[0][i] += eps\n",
    "        print(theta_minus[0][i], theta_plus[0][i])\n",
    "        ## convert theta_minus and theta_plus vector to dictionary\n",
    "        theta_minus = vector_to_dictionary(vector=theta_minus[0], parameters=parameters)\n",
    "        theta_plus = vector_to_dictionary(vector=theta_plus[0], parameters=parameters)\n",
    "        ## TODO: forward pass and calculate loss\n",
    "        pred_minus = forward_propagation(X=X, parameters=theta_minus)\n",
    "        loss_minus = compute_loss(A2=pred_minus[0], Y=y)\n",
    "        pred_plus = forward_propagation(X=X, parameters=theta_plus)\n",
    "        loss_plus = compute_loss(A2=pred_plus[0], Y=y)\n",
    "        ## TODO: calculate gradient manually\n",
    "        print(loss_minus, loss_plus)\n",
    "        gradapprox[0][i] = (loss_plus - loss_minus)/(2 * eps)\n",
    "        \n",
    "    ## TODO: check difference between manualy calculated gradient and gradients calculated using backpropagation\n",
    "    numerator = np.linalg.norm(grad_vector - gradapprox)\n",
    "    denominator = np.linalg.norm(grad_vector) + np.linalg.norm(gradapprox)\n",
    "    difference = numerator/denominator\n",
    "    # print(gradapprox, grad_vector)\n",
    "    print(difference)\n",
    "    if difference > 2e-7:\n",
    "        print (\"\\033[93m\" + \"There is a mistake in the backward propagation! difference = \" + str(difference) + \"\\033[0m\")\n",
    "    else:\n",
    "        print (\"\\033[92m\" + \"Your backward propagation works perfectly fine! difference = \" + str(difference) + \"\\033[0m\")\n",
    "    \n",
    "\n",
    "check_grads(parameters = parameters, grads=grads)"
   ]
  },
  {
   "cell_type": "code",
   "execution_count": null,
   "id": "404be72f-f6ea-4741-9784-8137d4ef9689",
   "metadata": {},
   "outputs": [],
   "source": [
    "parameters"
   ]
  },
  {
   "cell_type": "code",
   "execution_count": null,
   "id": "0b163317-bbbd-4648-9c50-3dbdb3077c62",
   "metadata": {},
   "outputs": [],
   "source": [
    "loss, check_loss"
   ]
  },
  {
   "cell_type": "code",
   "execution_count": null,
   "id": "5e33d635-8e9a-4e03-8702-48c879ef4dcb",
   "metadata": {},
   "outputs": [],
   "source": []
  },
  {
   "cell_type": "code",
   "execution_count": null,
   "id": "7ec70475-8373-4009-9a4e-ca3e5a54d8be",
   "metadata": {},
   "outputs": [],
   "source": []
  }
 ],
 "metadata": {
  "kernelspec": {
   "display_name": "Python 3 (ipykernel)",
   "language": "python",
   "name": "python3"
  },
  "language_info": {
   "codemirror_mode": {
    "name": "ipython",
    "version": 3
   },
   "file_extension": ".py",
   "mimetype": "text/x-python",
   "name": "python",
   "nbconvert_exporter": "python",
   "pygments_lexer": "ipython3",
   "version": "3.10.12"
  }
 },
 "nbformat": 4,
 "nbformat_minor": 5
}
